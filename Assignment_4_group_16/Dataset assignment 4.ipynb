{
 "cells": [
  {
   "cell_type": "code",
   "outputs": [],
   "source": [
    "# First step was to install openpyxl to make it possible to read excel files\n",
    "#!pip install openpyxl==3.1.2\n",
    "#pip install lxml"
   ],
   "metadata": {
    "collapsed": false,
    "ExecuteTime": {
     "end_time": "2024-03-30T09:42:29.999636300Z",
     "start_time": "2024-03-30T09:42:29.326063100Z"
    }
   },
   "execution_count": 40
  },
  {
   "cell_type": "code",
   "outputs": [],
   "source": [
    "# Import important libraries\n",
    "import numpy as np\n",
    "import pandas as pd\n",
    "import openpyxl\n",
    "import os\n",
    "import warnings\n",
    "warnings.simplefilter('ignore')"
   ],
   "metadata": {
    "collapsed": false,
    "ExecuteTime": {
     "end_time": "2024-03-30T09:42:30.076607700Z",
     "start_time": "2024-03-30T09:42:30.002496900Z"
    }
   },
   "execution_count": 41
  },
  {
   "cell_type": "markdown",
   "source": [
    "# Merging HTML dataframes into 1 dataset"
   ],
   "metadata": {
    "collapsed": false
   }
  },
  {
   "cell_type": "markdown",
   "source": [
    "The first step was to merge all the different HTML files into 1 dataset. First, one html file was loaded to check the syntax of the file. Second, a function was made to load all the files and merge them into 1 dataframe."
   ],
   "metadata": {
    "collapsed": false
   }
  },
  {
   "cell_type": "code",
   "outputs": [
    {
     "data": {
      "text/plain": "                                           0   \\\n0    List of links of N1 (  what is a link  )   \n1                                     Link no   \n2                                         NaN   \n3                                       N1-1L   \n4                                       N1-1R   \n..                                        ...   \n103                                     N1-65   \n104                                     N1-66   \n105                                     N1-67   \n106                                     N1-68   \n107                                     N1-69   \n\n                                            1   \\\n0     List of links of N1 (  what is a link  )   \n1                                         Name   \n2                                          NaN   \n3     Jatrabari - Int.with Z1101 (Left) (Left)   \n4    Jatrabari - Int.with Z1101 (Left) (Right)   \n..                                         ...   \n103     Coxsbazar Link Road N110-Maricha Z1009   \n104        Maricha Z1009-Ukhia Dakbanglo Z1503   \n105       Ukhia Dakbanglo Z1503 - Gundum Z1504   \n106         GundumGundum Z1504 - Whykong Z1133   \n107                     Whykong Z1133 - Teknaf   \n\n                                           2   \\\n0    List of links of N1 (  what is a link  )   \n1                              Start location   \n2                                         LRP   \n3                                        LRPS   \n4                                        LRPS   \n..                                        ...   \n103                                    LRP386   \n104                                    LRP403   \n105                                    LRP413   \n106                                    LRP420   \n107                                    LRP433   \n\n                                           3   \\\n0    List of links of N1 (  what is a link  )   \n1                              Start location   \n2                                      Offset   \n3                                           0   \n4                                           0   \n..                                        ...   \n103                                       724   \n104                                       217   \n105                                       300   \n106                                       900   \n107                                       521   \n\n                                           4   \\\n0    List of links of N1 (  what is a link  )   \n1                              Start location   \n2                                    Chainage   \n3                                           0   \n4                                           0   \n..                                        ...   \n103                                   381.481   \n104                                   398.205   \n105                                   408.434   \n106                                   416.044   \n107                                   428.908   \n\n                                           5   \\\n0    List of links of N1 (  what is a link  )   \n1                                End location   \n2                                         LRP   \n3                                        LRPS   \n4                                        LRPS   \n..                                        ...   \n103                                    LRP403   \n104                                    LRP413   \n105                                    LRP420   \n106                                    LRP433   \n107                                    LRP467   \n\n                                           6   \\\n0    List of links of N1 (  what is a link  )   \n1                                End location   \n2                                      Offset   \n3                                         822   \n4                                         822   \n..                                        ...   \n103                                       217   \n104                                       300   \n105                                       900   \n106                                       521   \n107                                       130   \n\n                                           7   \\\n0    List of links of N1 (  what is a link  )   \n1                                End location   \n2                                    Chainage   \n3                                       0.822   \n4                                       0.822   \n..                                        ...   \n103                                   398.205   \n104                                   408.434   \n105                                   416.044   \n106                                   428.908   \n107                                   462.254   \n\n                                           8   \\\n0    List of links of N1 (  what is a link  )   \n1                                      Length   \n2                                        (Km)   \n3                                       0.822   \n4                                       0.822   \n..                                        ...   \n103                                    16.724   \n104                                    10.229   \n105                                     7.610   \n106                                    12.864   \n107                                    33.346   \n\n                                           9   ...  \\\n0    List of links of N1 (  what is a link  )  ...   \n1                                Traffic Data  ...   \n2                                 Heavy Truck  ...   \n3                                       402.0  ...   \n4                                       660.0  ...   \n..                                        ...  ...   \n103                                      24.0  ...   \n104                                      24.0  ...   \n105                                      24.0  ...   \n106                                      24.0  ...   \n107                                      24.0  ...   \n\n                                           16  \\\n0    List of links of N1 (  what is a link  )   \n1                                Traffic Data   \n2                                         Car   \n3                                      1851.0   \n4                                      2608.0   \n..                                        ...   \n103                                     142.0   \n104                                     142.0   \n105                                     142.0   \n106                                     142.0   \n107                                     142.0   \n\n                                           17  \\\n0    List of links of N1 (  what is a link  )   \n1                                Traffic Data   \n2                               Auto Rickshaw   \n3                                      2980.0   \n4                                      2508.0   \n..                                        ...   \n103                                    2476.0   \n104                                    2476.0   \n105                                    2476.0   \n106                                    2476.0   \n107                                    2476.0   \n\n                                           18  \\\n0    List of links of N1 (  what is a link  )   \n1                                Traffic Data   \n2                                 Motor Cycle   \n3                                       398.0   \n4                                       436.0   \n..                                        ...   \n103                                     419.0   \n104                                     419.0   \n105                                     419.0   \n106                                     419.0   \n107                                     419.0   \n\n                                           19  \\\n0    List of links of N1 (  what is a link  )   \n1                                Traffic Data   \n2                                    Bi-Cycle   \n3                                       232.0   \n4                                       213.0   \n..                                        ...   \n103                                      97.0   \n104                                      97.0   \n105                                      97.0   \n106                                      97.0   \n107                                      97.0   \n\n                                           20  \\\n0    List of links of N1 (  what is a link  )   \n1                                Traffic Data   \n2                              Cycle Rickshaw   \n3                                       889.0   \n4                                      1088.0   \n..                                        ...   \n103                                    1042.0   \n104                                    1042.0   \n105                                    1042.0   \n106                                    1042.0   \n107                                    1042.0   \n\n                                           21  \\\n0    List of links of N1 (  what is a link  )   \n1                                Traffic Data   \n2                                        Cart   \n3                                         0.0   \n4                                         0.0   \n..                                        ...   \n103                                       0.0   \n104                                       0.0   \n105                                       0.0   \n106                                       0.0   \n107                                       0.0   \n\n                                           22  \\\n0    List of links of N1 (  what is a link  )   \n1                                       Total   \n2                                   Motorized   \n3                                     18236.0   \n4                                     20236.0   \n..                                        ...   \n103                                    4681.0   \n104                                    4681.0   \n105                                    4681.0   \n106                                    4681.0   \n107                                    4681.0   \n\n                                           23  \\\n0    List of links of N1 (  what is a link  )   \n1                                       Total   \n2                               Non Motorized   \n3                                      1121.0   \n4                                      1301.0   \n..                                        ...   \n103                                    1139.0   \n104                                    1139.0   \n105                                    1139.0   \n106                                    1139.0   \n107                                    1139.0   \n\n                                           24  \\\n0    List of links of N1 (  what is a link  )   \n1                                       Total   \n2                                  Total AADT   \n3                                     19357.0   \n4                                     21537.0   \n..                                        ...   \n103                                    5820.0   \n104                                    5820.0   \n105                                    5820.0   \n106                                    5820.0   \n107                                    5820.0   \n\n                                           25  \n0    List of links of N1 (  what is a link  )  \n1                                     Traffic  \n2                                      (AADT)  \n3                                     19357.0  \n4                                     21537.0  \n..                                        ...  \n103                                    5820.0  \n104                                    5820.0  \n105                                    5820.0  \n106                                    5820.0  \n107                                    5820.0  \n\n[108 rows x 26 columns]",
      "text/html": "<div>\n<style scoped>\n    .dataframe tbody tr th:only-of-type {\n        vertical-align: middle;\n    }\n\n    .dataframe tbody tr th {\n        vertical-align: top;\n    }\n\n    .dataframe thead th {\n        text-align: right;\n    }\n</style>\n<table border=\"1\" class=\"dataframe\">\n  <thead>\n    <tr style=\"text-align: right;\">\n      <th></th>\n      <th>0</th>\n      <th>1</th>\n      <th>2</th>\n      <th>3</th>\n      <th>4</th>\n      <th>5</th>\n      <th>6</th>\n      <th>7</th>\n      <th>8</th>\n      <th>9</th>\n      <th>...</th>\n      <th>16</th>\n      <th>17</th>\n      <th>18</th>\n      <th>19</th>\n      <th>20</th>\n      <th>21</th>\n      <th>22</th>\n      <th>23</th>\n      <th>24</th>\n      <th>25</th>\n    </tr>\n  </thead>\n  <tbody>\n    <tr>\n      <th>0</th>\n      <td>List of links of N1 (  what is a link  )</td>\n      <td>List of links of N1 (  what is a link  )</td>\n      <td>List of links of N1 (  what is a link  )</td>\n      <td>List of links of N1 (  what is a link  )</td>\n      <td>List of links of N1 (  what is a link  )</td>\n      <td>List of links of N1 (  what is a link  )</td>\n      <td>List of links of N1 (  what is a link  )</td>\n      <td>List of links of N1 (  what is a link  )</td>\n      <td>List of links of N1 (  what is a link  )</td>\n      <td>List of links of N1 (  what is a link  )</td>\n      <td>...</td>\n      <td>List of links of N1 (  what is a link  )</td>\n      <td>List of links of N1 (  what is a link  )</td>\n      <td>List of links of N1 (  what is a link  )</td>\n      <td>List of links of N1 (  what is a link  )</td>\n      <td>List of links of N1 (  what is a link  )</td>\n      <td>List of links of N1 (  what is a link  )</td>\n      <td>List of links of N1 (  what is a link  )</td>\n      <td>List of links of N1 (  what is a link  )</td>\n      <td>List of links of N1 (  what is a link  )</td>\n      <td>List of links of N1 (  what is a link  )</td>\n    </tr>\n    <tr>\n      <th>1</th>\n      <td>Link no</td>\n      <td>Name</td>\n      <td>Start location</td>\n      <td>Start location</td>\n      <td>Start location</td>\n      <td>End location</td>\n      <td>End location</td>\n      <td>End location</td>\n      <td>Length</td>\n      <td>Traffic Data</td>\n      <td>...</td>\n      <td>Traffic Data</td>\n      <td>Traffic Data</td>\n      <td>Traffic Data</td>\n      <td>Traffic Data</td>\n      <td>Traffic Data</td>\n      <td>Traffic Data</td>\n      <td>Total</td>\n      <td>Total</td>\n      <td>Total</td>\n      <td>Traffic</td>\n    </tr>\n    <tr>\n      <th>2</th>\n      <td>NaN</td>\n      <td>NaN</td>\n      <td>LRP</td>\n      <td>Offset</td>\n      <td>Chainage</td>\n      <td>LRP</td>\n      <td>Offset</td>\n      <td>Chainage</td>\n      <td>(Km)</td>\n      <td>Heavy Truck</td>\n      <td>...</td>\n      <td>Car</td>\n      <td>Auto Rickshaw</td>\n      <td>Motor Cycle</td>\n      <td>Bi-Cycle</td>\n      <td>Cycle Rickshaw</td>\n      <td>Cart</td>\n      <td>Motorized</td>\n      <td>Non Motorized</td>\n      <td>Total AADT</td>\n      <td>(AADT)</td>\n    </tr>\n    <tr>\n      <th>3</th>\n      <td>N1-1L</td>\n      <td>Jatrabari - Int.with Z1101 (Left) (Left)</td>\n      <td>LRPS</td>\n      <td>0</td>\n      <td>0</td>\n      <td>LRPS</td>\n      <td>822</td>\n      <td>0.822</td>\n      <td>0.822</td>\n      <td>402.0</td>\n      <td>...</td>\n      <td>1851.0</td>\n      <td>2980.0</td>\n      <td>398.0</td>\n      <td>232.0</td>\n      <td>889.0</td>\n      <td>0.0</td>\n      <td>18236.0</td>\n      <td>1121.0</td>\n      <td>19357.0</td>\n      <td>19357.0</td>\n    </tr>\n    <tr>\n      <th>4</th>\n      <td>N1-1R</td>\n      <td>Jatrabari - Int.with Z1101 (Left) (Right)</td>\n      <td>LRPS</td>\n      <td>0</td>\n      <td>0</td>\n      <td>LRPS</td>\n      <td>822</td>\n      <td>0.822</td>\n      <td>0.822</td>\n      <td>660.0</td>\n      <td>...</td>\n      <td>2608.0</td>\n      <td>2508.0</td>\n      <td>436.0</td>\n      <td>213.0</td>\n      <td>1088.0</td>\n      <td>0.0</td>\n      <td>20236.0</td>\n      <td>1301.0</td>\n      <td>21537.0</td>\n      <td>21537.0</td>\n    </tr>\n    <tr>\n      <th>...</th>\n      <td>...</td>\n      <td>...</td>\n      <td>...</td>\n      <td>...</td>\n      <td>...</td>\n      <td>...</td>\n      <td>...</td>\n      <td>...</td>\n      <td>...</td>\n      <td>...</td>\n      <td>...</td>\n      <td>...</td>\n      <td>...</td>\n      <td>...</td>\n      <td>...</td>\n      <td>...</td>\n      <td>...</td>\n      <td>...</td>\n      <td>...</td>\n      <td>...</td>\n      <td>...</td>\n    </tr>\n    <tr>\n      <th>103</th>\n      <td>N1-65</td>\n      <td>Coxsbazar Link Road N110-Maricha Z1009</td>\n      <td>LRP386</td>\n      <td>724</td>\n      <td>381.481</td>\n      <td>LRP403</td>\n      <td>217</td>\n      <td>398.205</td>\n      <td>16.724</td>\n      <td>24.0</td>\n      <td>...</td>\n      <td>142.0</td>\n      <td>2476.0</td>\n      <td>419.0</td>\n      <td>97.0</td>\n      <td>1042.0</td>\n      <td>0.0</td>\n      <td>4681.0</td>\n      <td>1139.0</td>\n      <td>5820.0</td>\n      <td>5820.0</td>\n    </tr>\n    <tr>\n      <th>104</th>\n      <td>N1-66</td>\n      <td>Maricha Z1009-Ukhia Dakbanglo Z1503</td>\n      <td>LRP403</td>\n      <td>217</td>\n      <td>398.205</td>\n      <td>LRP413</td>\n      <td>300</td>\n      <td>408.434</td>\n      <td>10.229</td>\n      <td>24.0</td>\n      <td>...</td>\n      <td>142.0</td>\n      <td>2476.0</td>\n      <td>419.0</td>\n      <td>97.0</td>\n      <td>1042.0</td>\n      <td>0.0</td>\n      <td>4681.0</td>\n      <td>1139.0</td>\n      <td>5820.0</td>\n      <td>5820.0</td>\n    </tr>\n    <tr>\n      <th>105</th>\n      <td>N1-67</td>\n      <td>Ukhia Dakbanglo Z1503 - Gundum Z1504</td>\n      <td>LRP413</td>\n      <td>300</td>\n      <td>408.434</td>\n      <td>LRP420</td>\n      <td>900</td>\n      <td>416.044</td>\n      <td>7.610</td>\n      <td>24.0</td>\n      <td>...</td>\n      <td>142.0</td>\n      <td>2476.0</td>\n      <td>419.0</td>\n      <td>97.0</td>\n      <td>1042.0</td>\n      <td>0.0</td>\n      <td>4681.0</td>\n      <td>1139.0</td>\n      <td>5820.0</td>\n      <td>5820.0</td>\n    </tr>\n    <tr>\n      <th>106</th>\n      <td>N1-68</td>\n      <td>GundumGundum Z1504 - Whykong Z1133</td>\n      <td>LRP420</td>\n      <td>900</td>\n      <td>416.044</td>\n      <td>LRP433</td>\n      <td>521</td>\n      <td>428.908</td>\n      <td>12.864</td>\n      <td>24.0</td>\n      <td>...</td>\n      <td>142.0</td>\n      <td>2476.0</td>\n      <td>419.0</td>\n      <td>97.0</td>\n      <td>1042.0</td>\n      <td>0.0</td>\n      <td>4681.0</td>\n      <td>1139.0</td>\n      <td>5820.0</td>\n      <td>5820.0</td>\n    </tr>\n    <tr>\n      <th>107</th>\n      <td>N1-69</td>\n      <td>Whykong Z1133 - Teknaf</td>\n      <td>LRP433</td>\n      <td>521</td>\n      <td>428.908</td>\n      <td>LRP467</td>\n      <td>130</td>\n      <td>462.254</td>\n      <td>33.346</td>\n      <td>24.0</td>\n      <td>...</td>\n      <td>142.0</td>\n      <td>2476.0</td>\n      <td>419.0</td>\n      <td>97.0</td>\n      <td>1042.0</td>\n      <td>0.0</td>\n      <td>4681.0</td>\n      <td>1139.0</td>\n      <td>5820.0</td>\n      <td>5820.0</td>\n    </tr>\n  </tbody>\n</table>\n<p>108 rows × 26 columns</p>\n</div>"
     },
     "execution_count": 42,
     "metadata": {},
     "output_type": "execute_result"
    }
   ],
   "source": [
    "# Get path and open the file.\n",
    "path = os.getcwd()\n",
    "road_html = path + \"\\\\All_traffic_htm\\\\N1.traffic.htm\"\n",
    "\n",
    "# Transform the data into a dataframe. The fourth part [4] is used, since that was the correct syntax of the dataframe.\n",
    "data = []\n",
    "df = pd.read_html(road_html)[4]\n",
    "data.append(df)\n",
    "r_roads = pd.concat(data, ignore_index=True)\n",
    "\n",
    "r_roads"
   ],
   "metadata": {
    "collapsed": false,
    "ExecuteTime": {
     "end_time": "2024-03-30T09:42:30.267469400Z",
     "start_time": "2024-03-30T09:42:30.060938800Z"
    }
   },
   "execution_count": 42
  },
  {
   "cell_type": "markdown",
   "source": [
    "When looking at the dataframe above, it is seen that there are three \"useless\" rows at the top. Those indicate the column names and titles in the HTML files. When merging all the files, it should be kept in mind to delete those."
   ],
   "metadata": {
    "collapsed": false
   }
  },
  {
   "cell_type": "code",
   "outputs": [],
   "source": [
    "# Function to read all the HTML files of the N and R roads, and merge them into one dataframe. \n",
    "def load_traffic_data(letter, start, end):\n",
    "    data_list = []\n",
    "    path = os.getcwd()\n",
    "    \n",
    "    # Loop through all the possible N and R roads in a range\n",
    "    for i in range(start, end + 1):\n",
    "        road_html = f\"{path}\\\\All_traffic_htm\\\\{letter}{i}.traffic.htm\"\n",
    "        \n",
    "        # Try to load the data (if the HTML file for the road combination exists), otherwise continue\n",
    "        try:\n",
    "            df = pd.read_html(road_html)[4]\n",
    "            data_list.append(df)\n",
    "            #print(i)\n",
    "            \n",
    "        except:\n",
    "            continue\n",
    "            \n",
    "    #Put all data in a dataframe\n",
    "    data_df = pd.concat(data_list, ignore_index=True)\n",
    "    return data_df\n",
    "\n",
    "# Load the function for all N roads and R roads\n",
    "n_roads = load_traffic_data('N', 1, 809)\n",
    "r_roads = load_traffic_data('R', 1, 892)\n",
    "\n",
    "# Concat the N-roads and R-roads into 1 dataframe\n",
    "all_roads = pd.concat([n_roads, r_roads], ignore_index=True)"
   ],
   "metadata": {
    "collapsed": false,
    "ExecuteTime": {
     "end_time": "2024-03-30T09:42:38.070940300Z",
     "start_time": "2024-03-30T09:42:30.244980300Z"
    }
   },
   "execution_count": 43
  },
  {
   "cell_type": "markdown",
   "source": [
    "As seen in the example HTML dataframe in the beginning, the top three rows of every html dataset are \"useless\". We merged all the HTML files together, which results in a lot of \"useless\" rows at the start of a new road. This is done in three steps:\n",
    "1. The first rows of the first HTML file are used to set column names, the rest of those three columns throughout the dataset should be deleted. \n",
    "2. All rows containing the word \"links\" in their \"start location LRP\" column should be deleted, since this is the first row of the separate HTML files\n",
    "3. Furthermore, all roads which represent the HTML column names should be deleted. For each HTML file, they were the same, therefore it was possible to drop_duplicates()."
   ],
   "metadata": {
    "collapsed": false
   }
  },
  {
   "cell_type": "code",
   "outputs": [],
   "source": [
    "# Set column names and the first three rows.\n",
    "all_roads.columns = all_roads.iloc[1] + \" \" + all_roads.iloc[2]\n",
    "allroads = all_roads.drop(all_roads.index[0:3])"
   ],
   "metadata": {
    "collapsed": false,
    "ExecuteTime": {
     "end_time": "2024-03-30T09:42:38.109576500Z",
     "start_time": "2024-03-30T09:42:38.074390500Z"
    }
   },
   "execution_count": 44
  },
  {
   "cell_type": "code",
   "outputs": [],
   "source": [
    "# Drop columns which contain \"links\".\n",
    "drop_rows = allroads[allroads['Start location LRP'].str.contains(\"links\")].index\n",
    "df_cleaned = allroads.drop(drop_rows)\n",
    "\n",
    "# Drop duplicates.\n",
    "df_cleaned = df_cleaned.drop_duplicates()"
   ],
   "metadata": {
    "collapsed": false,
    "ExecuteTime": {
     "end_time": "2024-03-30T09:42:38.140718100Z",
     "start_time": "2024-03-30T09:42:38.096170600Z"
    }
   },
   "execution_count": 45
  },
  {
   "cell_type": "code",
   "outputs": [
    {
     "data": {
      "text/plain": "                                             NaN  \\\n3                                          N1-1L   \n4                                          N1-1R   \n5                                          N1-2L   \n6                                          N1-2R   \n7                                          N1-3L   \n...                                          ...   \n1713                                      R890-6   \n1714  List of links of R891 (  what is a link  )   \n1715                                     Link no   \n1716                                         NaN   \n1717                                      R891-1   \n\n                                                    NaN  \\\n3              Jatrabari - Int.with Z1101 (Left) (Left)   \n4             Jatrabari - Int.with Z1101 (Left) (Right)   \n5         Int.with Z1101 - Signboard (Left) R111 (Left)   \n6        Int.with Z1101 - Signboard (Left) R111 (Right)   \n7                Signboard - Shimrail (Left)R110 (Left)   \n...                                                 ...   \n1713  Char Fession (int.with Z8909)-Baburhat, Lunch ...   \n1714         List of links of R891 (  what is a link  )   \n1715                                               Name   \n1716                                                NaN   \n1717                      Illisha Junction-Illisha Ghat   \n\n                              Start location LRP  \\\n3                                           LRPS   \n4                                           LRPS   \n5                                           LRPS   \n6                                           LRPS   \n7                                           LRPS   \n...                                          ...   \n1713                                      LRP072   \n1714  List of links of R891 (  what is a link  )   \n1715                              Start location   \n1716                                         LRP   \n1717                                        LRPS   \n\n                           Start location Offset  \\\n3                                              0   \n4                                              0   \n5                                            822   \n6                                            822   \n7                                           4175   \n...                                          ...   \n1713                                         990   \n1714  List of links of R891 (  what is a link  )   \n1715                              Start location   \n1716                                      Offset   \n1717                                           0   \n\n                         Start location Chainage  \\\n3                                              0   \n4                                              0   \n5                                          0.822   \n6                                          0.822   \n7                                          4.175   \n...                                          ...   \n1713                                       73.78   \n1714  List of links of R891 (  what is a link  )   \n1715                              Start location   \n1716                                    Chainage   \n1717                                           0   \n\n                                End location LRP  \\\n3                                           LRPS   \n4                                           LRPS   \n5                                           LRPS   \n6                                           LRPS   \n7                                           LRPS   \n...                                          ...   \n1713                                        LRPE   \n1714  List of links of R891 (  what is a link  )   \n1715                                End location   \n1716                                         LRP   \n1717                                        LRPS   \n\n                             End location Offset  \\\n3                                            822   \n4                                            822   \n5                                           4175   \n6                                           4175   \n7                                           7181   \n...                                          ...   \n1713                                           0   \n1714  List of links of R891 (  what is a link  )   \n1715                                End location   \n1716                                      Offset   \n1717                                         615   \n\n                           End location Chainage  \\\n3                                          0.822   \n4                                          0.822   \n5                                          4.175   \n6                                          4.175   \n7                                          7.181   \n...                                          ...   \n1713                                     108.785   \n1714  List of links of R891 (  what is a link  )   \n1715                                End location   \n1716                                    Chainage   \n1717                                       0.615   \n\n                                     Length (Km)  \\\n3                                          0.822   \n4                                          0.822   \n5                                          3.353   \n6                                          3.353   \n7                                          3.006   \n...                                          ...   \n1713                                      35.005   \n1714  List of links of R891 (  what is a link  )   \n1715                                      Length   \n1716                                        (Km)   \n1717                                       0.615   \n\n                        Traffic Data Heavy Truck  ...  \\\n3                                          402.0  ...   \n4                                          660.0  ...   \n5                                          660.0  ...   \n6                                          402.0  ...   \n7                                           91.0  ...   \n...                                          ...  ...   \n1713                                         3.0  ...   \n1714  List of links of R891 (  what is a link  )  ...   \n1715                                Traffic Data  ...   \n1716                                 Heavy Truck  ...   \n1717                                         0.0  ...   \n\n                                Traffic Data Car  \\\n3                                         1851.0   \n4                                         2608.0   \n5                                         2608.0   \n6                                         1851.0   \n7                                         1690.0   \n...                                          ...   \n1713                                        63.0   \n1714  List of links of R891 (  what is a link  )   \n1715                                Traffic Data   \n1716                                         Car   \n1717                                        30.0   \n\n                      Traffic Data Auto Rickshaw  \\\n3                                         2980.0   \n4                                         2508.0   \n5                                         2508.0   \n6                                         2980.0   \n7                                         2266.0   \n...                                          ...   \n1713                                      1119.0   \n1714  List of links of R891 (  what is a link  )   \n1715                                Traffic Data   \n1716                               Auto Rickshaw   \n1717                                       720.0   \n\n                        Traffic Data Motor Cycle  \\\n3                                          398.0   \n4                                          436.0   \n5                                          436.0   \n6                                          398.0   \n7                                         1087.0   \n...                                          ...   \n1713                                      1009.0   \n1714  List of links of R891 (  what is a link  )   \n1715                                Traffic Data   \n1716                                 Motor Cycle   \n1717                                       514.0   \n\n                           Traffic Data Bi-Cycle  \\\n3                                          232.0   \n4                                          213.0   \n5                                          213.0   \n6                                          232.0   \n7                                           75.0   \n...                                          ...   \n1713                                       692.0   \n1714  List of links of R891 (  what is a link  )   \n1715                                Traffic Data   \n1716                                    Bi-Cycle   \n1717                                       321.0   \n\n                     Traffic Data Cycle Rickshaw  \\\n3                                          889.0   \n4                                         1088.0   \n5                                         1088.0   \n6                                          889.0   \n7                                         1198.0   \n...                                          ...   \n1713                                       774.0   \n1714  List of links of R891 (  what is a link  )   \n1715                                Traffic Data   \n1716                              Cycle Rickshaw   \n1717                                       293.0   \n\n                               Traffic Data Cart  \\\n3                                            0.0   \n4                                            0.0   \n5                                            0.0   \n6                                            0.0   \n7                                            0.0   \n...                                          ...   \n1713                                         0.0   \n1714  List of links of R891 (  what is a link  )   \n1715                                Traffic Data   \n1716                                        Cart   \n1717                                         0.0   \n\n                                 Total Motorized  \\\n3                                        18236.0   \n4                                        20236.0   \n5                                        20236.0   \n6                                        18236.0   \n7                                        16288.0   \n...                                          ...   \n1713                                      3010.0   \n1714  List of links of R891 (  what is a link  )   \n1715                                       Total   \n1716                                   Motorized   \n1717                                      2020.0   \n\n                             Total Non Motorized  \\\n3                                         1121.0   \n4                                         1301.0   \n5                                         1301.0   \n6                                         1121.0   \n7                                         1273.0   \n...                                          ...   \n1713                                      1466.0   \n1714  List of links of R891 (  what is a link  )   \n1715                                       Total   \n1716                               Non Motorized   \n1717                                       614.0   \n\n                                Total Total AADT  \\\n3                                        19357.0   \n4                                        21537.0   \n5                                        21537.0   \n6                                        19357.0   \n7                                        17561.0   \n...                                          ...   \n1713                                      4476.0   \n1714  List of links of R891 (  what is a link  )   \n1715                                       Total   \n1716                                  Total AADT   \n1717                                      2634.0   \n\n                                  Traffic (AADT)  \n3                                        19357.0  \n4                                        21537.0  \n5                                        21537.0  \n6                                        19357.0  \n7                                        17561.0  \n...                                          ...  \n1713                                      4476.0  \n1714  List of links of R891 (  what is a link  )  \n1715                                     Traffic  \n1716                                      (AADT)  \n1717                                      2634.0  \n\n[1715 rows x 26 columns]",
      "text/html": "<div>\n<style scoped>\n    .dataframe tbody tr th:only-of-type {\n        vertical-align: middle;\n    }\n\n    .dataframe tbody tr th {\n        vertical-align: top;\n    }\n\n    .dataframe thead th {\n        text-align: right;\n    }\n</style>\n<table border=\"1\" class=\"dataframe\">\n  <thead>\n    <tr style=\"text-align: right;\">\n      <th></th>\n      <th>NaN</th>\n      <th>NaN</th>\n      <th>Start location LRP</th>\n      <th>Start location Offset</th>\n      <th>Start location Chainage</th>\n      <th>End location LRP</th>\n      <th>End location Offset</th>\n      <th>End location Chainage</th>\n      <th>Length (Km)</th>\n      <th>Traffic Data Heavy Truck</th>\n      <th>...</th>\n      <th>Traffic Data Car</th>\n      <th>Traffic Data Auto Rickshaw</th>\n      <th>Traffic Data Motor Cycle</th>\n      <th>Traffic Data Bi-Cycle</th>\n      <th>Traffic Data Cycle Rickshaw</th>\n      <th>Traffic Data Cart</th>\n      <th>Total Motorized</th>\n      <th>Total Non Motorized</th>\n      <th>Total Total AADT</th>\n      <th>Traffic (AADT)</th>\n    </tr>\n  </thead>\n  <tbody>\n    <tr>\n      <th>3</th>\n      <td>N1-1L</td>\n      <td>Jatrabari - Int.with Z1101 (Left) (Left)</td>\n      <td>LRPS</td>\n      <td>0</td>\n      <td>0</td>\n      <td>LRPS</td>\n      <td>822</td>\n      <td>0.822</td>\n      <td>0.822</td>\n      <td>402.0</td>\n      <td>...</td>\n      <td>1851.0</td>\n      <td>2980.0</td>\n      <td>398.0</td>\n      <td>232.0</td>\n      <td>889.0</td>\n      <td>0.0</td>\n      <td>18236.0</td>\n      <td>1121.0</td>\n      <td>19357.0</td>\n      <td>19357.0</td>\n    </tr>\n    <tr>\n      <th>4</th>\n      <td>N1-1R</td>\n      <td>Jatrabari - Int.with Z1101 (Left) (Right)</td>\n      <td>LRPS</td>\n      <td>0</td>\n      <td>0</td>\n      <td>LRPS</td>\n      <td>822</td>\n      <td>0.822</td>\n      <td>0.822</td>\n      <td>660.0</td>\n      <td>...</td>\n      <td>2608.0</td>\n      <td>2508.0</td>\n      <td>436.0</td>\n      <td>213.0</td>\n      <td>1088.0</td>\n      <td>0.0</td>\n      <td>20236.0</td>\n      <td>1301.0</td>\n      <td>21537.0</td>\n      <td>21537.0</td>\n    </tr>\n    <tr>\n      <th>5</th>\n      <td>N1-2L</td>\n      <td>Int.with Z1101 - Signboard (Left) R111 (Left)</td>\n      <td>LRPS</td>\n      <td>822</td>\n      <td>0.822</td>\n      <td>LRPS</td>\n      <td>4175</td>\n      <td>4.175</td>\n      <td>3.353</td>\n      <td>660.0</td>\n      <td>...</td>\n      <td>2608.0</td>\n      <td>2508.0</td>\n      <td>436.0</td>\n      <td>213.0</td>\n      <td>1088.0</td>\n      <td>0.0</td>\n      <td>20236.0</td>\n      <td>1301.0</td>\n      <td>21537.0</td>\n      <td>21537.0</td>\n    </tr>\n    <tr>\n      <th>6</th>\n      <td>N1-2R</td>\n      <td>Int.with Z1101 - Signboard (Left) R111 (Right)</td>\n      <td>LRPS</td>\n      <td>822</td>\n      <td>0.822</td>\n      <td>LRPS</td>\n      <td>4175</td>\n      <td>4.175</td>\n      <td>3.353</td>\n      <td>402.0</td>\n      <td>...</td>\n      <td>1851.0</td>\n      <td>2980.0</td>\n      <td>398.0</td>\n      <td>232.0</td>\n      <td>889.0</td>\n      <td>0.0</td>\n      <td>18236.0</td>\n      <td>1121.0</td>\n      <td>19357.0</td>\n      <td>19357.0</td>\n    </tr>\n    <tr>\n      <th>7</th>\n      <td>N1-3L</td>\n      <td>Signboard - Shimrail (Left)R110 (Left)</td>\n      <td>LRPS</td>\n      <td>4175</td>\n      <td>4.175</td>\n      <td>LRPS</td>\n      <td>7181</td>\n      <td>7.181</td>\n      <td>3.006</td>\n      <td>91.0</td>\n      <td>...</td>\n      <td>1690.0</td>\n      <td>2266.0</td>\n      <td>1087.0</td>\n      <td>75.0</td>\n      <td>1198.0</td>\n      <td>0.0</td>\n      <td>16288.0</td>\n      <td>1273.0</td>\n      <td>17561.0</td>\n      <td>17561.0</td>\n    </tr>\n    <tr>\n      <th>...</th>\n      <td>...</td>\n      <td>...</td>\n      <td>...</td>\n      <td>...</td>\n      <td>...</td>\n      <td>...</td>\n      <td>...</td>\n      <td>...</td>\n      <td>...</td>\n      <td>...</td>\n      <td>...</td>\n      <td>...</td>\n      <td>...</td>\n      <td>...</td>\n      <td>...</td>\n      <td>...</td>\n      <td>...</td>\n      <td>...</td>\n      <td>...</td>\n      <td>...</td>\n      <td>...</td>\n    </tr>\n    <tr>\n      <th>1713</th>\n      <td>R890-6</td>\n      <td>Char Fession (int.with Z8909)-Baburhat, Lunch ...</td>\n      <td>LRP072</td>\n      <td>990</td>\n      <td>73.78</td>\n      <td>LRPE</td>\n      <td>0</td>\n      <td>108.785</td>\n      <td>35.005</td>\n      <td>3.0</td>\n      <td>...</td>\n      <td>63.0</td>\n      <td>1119.0</td>\n      <td>1009.0</td>\n      <td>692.0</td>\n      <td>774.0</td>\n      <td>0.0</td>\n      <td>3010.0</td>\n      <td>1466.0</td>\n      <td>4476.0</td>\n      <td>4476.0</td>\n    </tr>\n    <tr>\n      <th>1714</th>\n      <td>List of links of R891 (  what is a link  )</td>\n      <td>List of links of R891 (  what is a link  )</td>\n      <td>List of links of R891 (  what is a link  )</td>\n      <td>List of links of R891 (  what is a link  )</td>\n      <td>List of links of R891 (  what is a link  )</td>\n      <td>List of links of R891 (  what is a link  )</td>\n      <td>List of links of R891 (  what is a link  )</td>\n      <td>List of links of R891 (  what is a link  )</td>\n      <td>List of links of R891 (  what is a link  )</td>\n      <td>List of links of R891 (  what is a link  )</td>\n      <td>...</td>\n      <td>List of links of R891 (  what is a link  )</td>\n      <td>List of links of R891 (  what is a link  )</td>\n      <td>List of links of R891 (  what is a link  )</td>\n      <td>List of links of R891 (  what is a link  )</td>\n      <td>List of links of R891 (  what is a link  )</td>\n      <td>List of links of R891 (  what is a link  )</td>\n      <td>List of links of R891 (  what is a link  )</td>\n      <td>List of links of R891 (  what is a link  )</td>\n      <td>List of links of R891 (  what is a link  )</td>\n      <td>List of links of R891 (  what is a link  )</td>\n    </tr>\n    <tr>\n      <th>1715</th>\n      <td>Link no</td>\n      <td>Name</td>\n      <td>Start location</td>\n      <td>Start location</td>\n      <td>Start location</td>\n      <td>End location</td>\n      <td>End location</td>\n      <td>End location</td>\n      <td>Length</td>\n      <td>Traffic Data</td>\n      <td>...</td>\n      <td>Traffic Data</td>\n      <td>Traffic Data</td>\n      <td>Traffic Data</td>\n      <td>Traffic Data</td>\n      <td>Traffic Data</td>\n      <td>Traffic Data</td>\n      <td>Total</td>\n      <td>Total</td>\n      <td>Total</td>\n      <td>Traffic</td>\n    </tr>\n    <tr>\n      <th>1716</th>\n      <td>NaN</td>\n      <td>NaN</td>\n      <td>LRP</td>\n      <td>Offset</td>\n      <td>Chainage</td>\n      <td>LRP</td>\n      <td>Offset</td>\n      <td>Chainage</td>\n      <td>(Km)</td>\n      <td>Heavy Truck</td>\n      <td>...</td>\n      <td>Car</td>\n      <td>Auto Rickshaw</td>\n      <td>Motor Cycle</td>\n      <td>Bi-Cycle</td>\n      <td>Cycle Rickshaw</td>\n      <td>Cart</td>\n      <td>Motorized</td>\n      <td>Non Motorized</td>\n      <td>Total AADT</td>\n      <td>(AADT)</td>\n    </tr>\n    <tr>\n      <th>1717</th>\n      <td>R891-1</td>\n      <td>Illisha Junction-Illisha Ghat</td>\n      <td>LRPS</td>\n      <td>0</td>\n      <td>0</td>\n      <td>LRPS</td>\n      <td>615</td>\n      <td>0.615</td>\n      <td>0.615</td>\n      <td>0.0</td>\n      <td>...</td>\n      <td>30.0</td>\n      <td>720.0</td>\n      <td>514.0</td>\n      <td>321.0</td>\n      <td>293.0</td>\n      <td>0.0</td>\n      <td>2020.0</td>\n      <td>614.0</td>\n      <td>2634.0</td>\n      <td>2634.0</td>\n    </tr>\n  </tbody>\n</table>\n<p>1715 rows × 26 columns</p>\n</div>"
     },
     "execution_count": 46,
     "metadata": {},
     "output_type": "execute_result"
    }
   ],
   "source": [
    "allroads"
   ],
   "metadata": {
    "collapsed": false,
    "ExecuteTime": {
     "end_time": "2024-03-30T09:42:38.241016600Z",
     "start_time": "2024-03-30T09:42:38.137620800Z"
    }
   },
   "execution_count": 46
  },
  {
   "cell_type": "markdown",
   "source": [
    "Due to this method and using drop_duplicates,there was still one road left with the column names in the dataset. These two rows should also be deleted"
   ],
   "metadata": {
    "collapsed": false
   }
  },
  {
   "cell_type": "code",
   "outputs": [],
   "source": [
    "# Drop the row with a NaN value\n",
    "df_cleaned = df_cleaned.dropna()\n",
    "\n",
    "# Drop the row were \"location\" is used in the start location LRP column\n",
    "drop_rows2 = df_cleaned[df_cleaned['Start location LRP'].str.contains(\"location\")].index\n",
    "df_cleaned = df_cleaned.drop(drop_rows2)"
   ],
   "metadata": {
    "collapsed": false,
    "ExecuteTime": {
     "end_time": "2024-03-30T09:42:38.266115600Z",
     "start_time": "2024-03-30T09:42:38.173788700Z"
    }
   },
   "execution_count": 47
  },
  {
   "cell_type": "code",
   "outputs": [],
   "source": [
    "# Export the dataframe as csv file\n",
    "df_cleaned.to_csv(\"output_all_datasets_3.csv\")"
   ],
   "metadata": {
    "collapsed": false,
    "ExecuteTime": {
     "end_time": "2024-03-30T09:42:38.313795400Z",
     "start_time": "2024-03-30T09:42:38.190245700Z"
    }
   },
   "execution_count": 48
  },
  {
   "cell_type": "markdown",
   "source": [
    "# Concat HTML data, road data and Bridges data"
   ],
   "metadata": {
    "collapsed": false
   }
  },
  {
   "cell_type": "markdown",
   "source": [
    "## Preparing HTML data"
   ],
   "metadata": {
    "collapsed": false
   }
  },
  {
   "cell_type": "markdown",
   "source": [
    "Before merging the HTML dataframe with the other dataframes, a few things needed to be changed:\n",
    "1. Change column names for END LOCATION chainage and (traffic AADT). These are the ones we are going to use while merging with the road and bridge data. And therefore should match with those column names\n",
    "2. Rename the first two columns. They do not have a name now\n",
    "3. Create a new column for \"road\", were only the road name is displayed\n",
    "4. Select only the rows we need: road, chainage, AADT"
   ],
   "metadata": {
    "collapsed": false
   }
  },
  {
   "cell_type": "code",
   "outputs": [],
   "source": [
    "#We hebben nodig road, chainage en Traffic (AADT).\n",
    "#Dus pak de kolommen Unnamed 1, END LOCATION chainage en (Traffic AADT)\n",
    "\n",
    "\n",
    "#De kolom ''unnamed 1'' moet niet zo heten maar ''road'' heten.\n",
    "#Vervolgens moeten de waardes in deze kolom alleen naar de weg gaan dus voor het streepje.\n",
    "\n",
    "#Voor chainage moete nwe gebruik maken van END LOCATION chainage. Deze moet dus een andere naam krijgen, namelijk ''chainage''.\n",
    "\n",
    "#Elke weg moet het gemiddelde worden genomen van AADT(halveer de df)"
   ],
   "metadata": {
    "collapsed": false,
    "ExecuteTime": {
     "end_time": "2024-03-30T09:42:38.317088500Z",
     "start_time": "2024-03-30T09:42:38.223697600Z"
    }
   },
   "execution_count": 49
  },
  {
   "cell_type": "code",
   "outputs": [
    {
     "data": {
      "text/plain": "     road_name                                  Intersection_name  \\\n3        N1-1L           Jatrabari - Int.with Z1101 (Left) (Left)   \n4        N1-1R          Jatrabari - Int.with Z1101 (Left) (Right)   \n5        N1-2L      Int.with Z1101 - Signboard (Left) R111 (Left)   \n6        N1-2R     Int.with Z1101 - Signboard (Left) R111 (Right)   \n7        N1-3L             Signboard - Shimrail (Left)R110 (Left)   \n...        ...                                                ...   \n1710    R890-3             Banglabazar-Kungerhat (int.with Z8943)   \n1711    R890-4  Kungerhat(int.with Z8943)-Lalmohon(int.with Z8...   \n1712    R890-5  Lalmohon(int.with Z8913)-Char Fession (int.wit...   \n1713    R890-6  Char Fession (int.with Z8909)-Baburhat, Lunch ...   \n1717    R891-1                      Illisha Junction-Illisha Ghat   \n\n     Start location LRP Start location Offset Start location Chainage  \\\n3                  LRPS                     0                       0   \n4                  LRPS                     0                       0   \n5                  LRPS                   822                   0.822   \n6                  LRPS                   822                   0.822   \n7                  LRPS                  4175                   4.175   \n...                 ...                   ...                     ...   \n1710             LRP016                   855                  16.885   \n1711             LRP041                   320                   41.62   \n1712             LRP052                   610                   53.04   \n1713             LRP072                   990                   73.78   \n1717               LRPS                     0                       0   \n\n     End location LRP End location Offset chainage Length (Km)  \\\n3                LRPS                 822    0.822       0.822   \n4                LRPS                 822    0.822       0.822   \n5                LRPS                4175    4.175       3.353   \n6                LRPS                4175    4.175       3.353   \n7                LRPS                7181    7.181       3.006   \n...               ...                 ...      ...         ...   \n1710           LRP041                 320    41.62      24.735   \n1711           LRP052                 610    53.04      11.420   \n1712           LRP072                 990    73.78      20.740   \n1713             LRPE                   0  108.785      35.005   \n1717             LRPS                 615    0.615       0.615   \n\n     Traffic Data Heavy Truck  ... Traffic Data Auto Rickshaw  \\\n3                       402.0  ...                     2980.0   \n4                       660.0  ...                     2508.0   \n5                       660.0  ...                     2508.0   \n6                       402.0  ...                     2980.0   \n7                        91.0  ...                     2266.0   \n...                       ...  ...                        ...   \n1710                      6.0  ...                     1262.0   \n1711                      3.0  ...                     1119.0   \n1712                      3.0  ...                     1119.0   \n1713                      3.0  ...                     1119.0   \n1717                      0.0  ...                      720.0   \n\n     Traffic Data Motor Cycle Traffic Data Bi-Cycle  \\\n3                       398.0                 232.0   \n4                       436.0                 213.0   \n5                       436.0                 213.0   \n6                       398.0                 232.0   \n7                      1087.0                  75.0   \n...                       ...                   ...   \n1710                   1165.0                 460.0   \n1711                   1009.0                 692.0   \n1712                   1009.0                 692.0   \n1713                   1009.0                 692.0   \n1717                    514.0                 321.0   \n\n     Traffic Data Cycle Rickshaw Traffic Data Cart Total Motorized  \\\n3                          889.0               0.0         18236.0   \n4                         1088.0               0.0         20236.0   \n5                         1088.0               0.0         20236.0   \n6                          889.0               0.0         18236.0   \n7                         1198.0               0.0         16288.0   \n...                          ...               ...             ...   \n1710                       300.0               0.0          2953.0   \n1711                       774.0               0.0          3010.0   \n1712                       774.0               0.0          3010.0   \n1713                       774.0               0.0          3010.0   \n1717                       293.0               0.0          2020.0   \n\n     Total Non Motorized Total Total AADT     AADT  road  \n3                 1121.0          19357.0  19357.0    N1  \n4                 1301.0          21537.0  21537.0    N1  \n5                 1301.0          21537.0  21537.0    N1  \n6                 1121.0          19357.0  19357.0    N1  \n7                 1273.0          17561.0  17561.0    N1  \n...                  ...              ...      ...   ...  \n1710               760.0           3713.0   3713.0  R890  \n1711              1466.0           4476.0   4476.0  R890  \n1712              1466.0           4476.0   4476.0  R890  \n1713              1466.0           4476.0   4476.0  R890  \n1717               614.0           2634.0   2634.0  R891  \n\n[1046 rows x 27 columns]",
      "text/html": "<div>\n<style scoped>\n    .dataframe tbody tr th:only-of-type {\n        vertical-align: middle;\n    }\n\n    .dataframe tbody tr th {\n        vertical-align: top;\n    }\n\n    .dataframe thead th {\n        text-align: right;\n    }\n</style>\n<table border=\"1\" class=\"dataframe\">\n  <thead>\n    <tr style=\"text-align: right;\">\n      <th></th>\n      <th>road_name</th>\n      <th>Intersection_name</th>\n      <th>Start location LRP</th>\n      <th>Start location Offset</th>\n      <th>Start location Chainage</th>\n      <th>End location LRP</th>\n      <th>End location Offset</th>\n      <th>chainage</th>\n      <th>Length (Km)</th>\n      <th>Traffic Data Heavy Truck</th>\n      <th>...</th>\n      <th>Traffic Data Auto Rickshaw</th>\n      <th>Traffic Data Motor Cycle</th>\n      <th>Traffic Data Bi-Cycle</th>\n      <th>Traffic Data Cycle Rickshaw</th>\n      <th>Traffic Data Cart</th>\n      <th>Total Motorized</th>\n      <th>Total Non Motorized</th>\n      <th>Total Total AADT</th>\n      <th>AADT</th>\n      <th>road</th>\n    </tr>\n  </thead>\n  <tbody>\n    <tr>\n      <th>3</th>\n      <td>N1-1L</td>\n      <td>Jatrabari - Int.with Z1101 (Left) (Left)</td>\n      <td>LRPS</td>\n      <td>0</td>\n      <td>0</td>\n      <td>LRPS</td>\n      <td>822</td>\n      <td>0.822</td>\n      <td>0.822</td>\n      <td>402.0</td>\n      <td>...</td>\n      <td>2980.0</td>\n      <td>398.0</td>\n      <td>232.0</td>\n      <td>889.0</td>\n      <td>0.0</td>\n      <td>18236.0</td>\n      <td>1121.0</td>\n      <td>19357.0</td>\n      <td>19357.0</td>\n      <td>N1</td>\n    </tr>\n    <tr>\n      <th>4</th>\n      <td>N1-1R</td>\n      <td>Jatrabari - Int.with Z1101 (Left) (Right)</td>\n      <td>LRPS</td>\n      <td>0</td>\n      <td>0</td>\n      <td>LRPS</td>\n      <td>822</td>\n      <td>0.822</td>\n      <td>0.822</td>\n      <td>660.0</td>\n      <td>...</td>\n      <td>2508.0</td>\n      <td>436.0</td>\n      <td>213.0</td>\n      <td>1088.0</td>\n      <td>0.0</td>\n      <td>20236.0</td>\n      <td>1301.0</td>\n      <td>21537.0</td>\n      <td>21537.0</td>\n      <td>N1</td>\n    </tr>\n    <tr>\n      <th>5</th>\n      <td>N1-2L</td>\n      <td>Int.with Z1101 - Signboard (Left) R111 (Left)</td>\n      <td>LRPS</td>\n      <td>822</td>\n      <td>0.822</td>\n      <td>LRPS</td>\n      <td>4175</td>\n      <td>4.175</td>\n      <td>3.353</td>\n      <td>660.0</td>\n      <td>...</td>\n      <td>2508.0</td>\n      <td>436.0</td>\n      <td>213.0</td>\n      <td>1088.0</td>\n      <td>0.0</td>\n      <td>20236.0</td>\n      <td>1301.0</td>\n      <td>21537.0</td>\n      <td>21537.0</td>\n      <td>N1</td>\n    </tr>\n    <tr>\n      <th>6</th>\n      <td>N1-2R</td>\n      <td>Int.with Z1101 - Signboard (Left) R111 (Right)</td>\n      <td>LRPS</td>\n      <td>822</td>\n      <td>0.822</td>\n      <td>LRPS</td>\n      <td>4175</td>\n      <td>4.175</td>\n      <td>3.353</td>\n      <td>402.0</td>\n      <td>...</td>\n      <td>2980.0</td>\n      <td>398.0</td>\n      <td>232.0</td>\n      <td>889.0</td>\n      <td>0.0</td>\n      <td>18236.0</td>\n      <td>1121.0</td>\n      <td>19357.0</td>\n      <td>19357.0</td>\n      <td>N1</td>\n    </tr>\n    <tr>\n      <th>7</th>\n      <td>N1-3L</td>\n      <td>Signboard - Shimrail (Left)R110 (Left)</td>\n      <td>LRPS</td>\n      <td>4175</td>\n      <td>4.175</td>\n      <td>LRPS</td>\n      <td>7181</td>\n      <td>7.181</td>\n      <td>3.006</td>\n      <td>91.0</td>\n      <td>...</td>\n      <td>2266.0</td>\n      <td>1087.0</td>\n      <td>75.0</td>\n      <td>1198.0</td>\n      <td>0.0</td>\n      <td>16288.0</td>\n      <td>1273.0</td>\n      <td>17561.0</td>\n      <td>17561.0</td>\n      <td>N1</td>\n    </tr>\n    <tr>\n      <th>...</th>\n      <td>...</td>\n      <td>...</td>\n      <td>...</td>\n      <td>...</td>\n      <td>...</td>\n      <td>...</td>\n      <td>...</td>\n      <td>...</td>\n      <td>...</td>\n      <td>...</td>\n      <td>...</td>\n      <td>...</td>\n      <td>...</td>\n      <td>...</td>\n      <td>...</td>\n      <td>...</td>\n      <td>...</td>\n      <td>...</td>\n      <td>...</td>\n      <td>...</td>\n      <td>...</td>\n    </tr>\n    <tr>\n      <th>1710</th>\n      <td>R890-3</td>\n      <td>Banglabazar-Kungerhat (int.with Z8943)</td>\n      <td>LRP016</td>\n      <td>855</td>\n      <td>16.885</td>\n      <td>LRP041</td>\n      <td>320</td>\n      <td>41.62</td>\n      <td>24.735</td>\n      <td>6.0</td>\n      <td>...</td>\n      <td>1262.0</td>\n      <td>1165.0</td>\n      <td>460.0</td>\n      <td>300.0</td>\n      <td>0.0</td>\n      <td>2953.0</td>\n      <td>760.0</td>\n      <td>3713.0</td>\n      <td>3713.0</td>\n      <td>R890</td>\n    </tr>\n    <tr>\n      <th>1711</th>\n      <td>R890-4</td>\n      <td>Kungerhat(int.with Z8943)-Lalmohon(int.with Z8...</td>\n      <td>LRP041</td>\n      <td>320</td>\n      <td>41.62</td>\n      <td>LRP052</td>\n      <td>610</td>\n      <td>53.04</td>\n      <td>11.420</td>\n      <td>3.0</td>\n      <td>...</td>\n      <td>1119.0</td>\n      <td>1009.0</td>\n      <td>692.0</td>\n      <td>774.0</td>\n      <td>0.0</td>\n      <td>3010.0</td>\n      <td>1466.0</td>\n      <td>4476.0</td>\n      <td>4476.0</td>\n      <td>R890</td>\n    </tr>\n    <tr>\n      <th>1712</th>\n      <td>R890-5</td>\n      <td>Lalmohon(int.with Z8913)-Char Fession (int.wit...</td>\n      <td>LRP052</td>\n      <td>610</td>\n      <td>53.04</td>\n      <td>LRP072</td>\n      <td>990</td>\n      <td>73.78</td>\n      <td>20.740</td>\n      <td>3.0</td>\n      <td>...</td>\n      <td>1119.0</td>\n      <td>1009.0</td>\n      <td>692.0</td>\n      <td>774.0</td>\n      <td>0.0</td>\n      <td>3010.0</td>\n      <td>1466.0</td>\n      <td>4476.0</td>\n      <td>4476.0</td>\n      <td>R890</td>\n    </tr>\n    <tr>\n      <th>1713</th>\n      <td>R890-6</td>\n      <td>Char Fession (int.with Z8909)-Baburhat, Lunch ...</td>\n      <td>LRP072</td>\n      <td>990</td>\n      <td>73.78</td>\n      <td>LRPE</td>\n      <td>0</td>\n      <td>108.785</td>\n      <td>35.005</td>\n      <td>3.0</td>\n      <td>...</td>\n      <td>1119.0</td>\n      <td>1009.0</td>\n      <td>692.0</td>\n      <td>774.0</td>\n      <td>0.0</td>\n      <td>3010.0</td>\n      <td>1466.0</td>\n      <td>4476.0</td>\n      <td>4476.0</td>\n      <td>R890</td>\n    </tr>\n    <tr>\n      <th>1717</th>\n      <td>R891-1</td>\n      <td>Illisha Junction-Illisha Ghat</td>\n      <td>LRPS</td>\n      <td>0</td>\n      <td>0</td>\n      <td>LRPS</td>\n      <td>615</td>\n      <td>0.615</td>\n      <td>0.615</td>\n      <td>0.0</td>\n      <td>...</td>\n      <td>720.0</td>\n      <td>514.0</td>\n      <td>321.0</td>\n      <td>293.0</td>\n      <td>0.0</td>\n      <td>2020.0</td>\n      <td>614.0</td>\n      <td>2634.0</td>\n      <td>2634.0</td>\n      <td>R891</td>\n    </tr>\n  </tbody>\n</table>\n<p>1046 rows × 27 columns</p>\n</div>"
     },
     "execution_count": 50,
     "metadata": {},
     "output_type": "execute_result"
    }
   ],
   "source": [
    "# Change column names\n",
    "df_cleaned = df_cleaned.rename(columns = {\"End location Chainage\":\"chainage\",\"Traffic (AADT)\":\"AADT\"})\n",
    "df_cleaned.columns.values[0] = \"road_name\"\n",
    "df_cleaned.columns.values[1] = \"Intersection_name\"\n",
    "\n",
    "# Create road column with the road name\n",
    "df_cleaned['road'] = df_cleaned[\"road_name\"].str.split('-').str[0]\n",
    "df_cleaned"
   ],
   "metadata": {
    "collapsed": false,
    "ExecuteTime": {
     "end_time": "2024-03-30T09:42:38.467460100Z",
     "start_time": "2024-03-30T09:42:38.241016600Z"
    }
   },
   "execution_count": 50
  },
  {
   "cell_type": "code",
   "outputs": [
    {
     "data": {
      "text/plain": "      road chainage     AADT\n3       N1    0.822  19357.0\n4       N1    0.822  21537.0\n5       N1    4.175  21537.0\n6       N1    4.175  19357.0\n7       N1    7.181  17561.0\n...    ...      ...      ...\n1710  R890    41.62   3713.0\n1711  R890    53.04   4476.0\n1712  R890    73.78   4476.0\n1713  R890  108.785   4476.0\n1717  R891    0.615   2634.0\n\n[1046 rows x 3 columns]",
      "text/html": "<div>\n<style scoped>\n    .dataframe tbody tr th:only-of-type {\n        vertical-align: middle;\n    }\n\n    .dataframe tbody tr th {\n        vertical-align: top;\n    }\n\n    .dataframe thead th {\n        text-align: right;\n    }\n</style>\n<table border=\"1\" class=\"dataframe\">\n  <thead>\n    <tr style=\"text-align: right;\">\n      <th></th>\n      <th>road</th>\n      <th>chainage</th>\n      <th>AADT</th>\n    </tr>\n  </thead>\n  <tbody>\n    <tr>\n      <th>3</th>\n      <td>N1</td>\n      <td>0.822</td>\n      <td>19357.0</td>\n    </tr>\n    <tr>\n      <th>4</th>\n      <td>N1</td>\n      <td>0.822</td>\n      <td>21537.0</td>\n    </tr>\n    <tr>\n      <th>5</th>\n      <td>N1</td>\n      <td>4.175</td>\n      <td>21537.0</td>\n    </tr>\n    <tr>\n      <th>6</th>\n      <td>N1</td>\n      <td>4.175</td>\n      <td>19357.0</td>\n    </tr>\n    <tr>\n      <th>7</th>\n      <td>N1</td>\n      <td>7.181</td>\n      <td>17561.0</td>\n    </tr>\n    <tr>\n      <th>...</th>\n      <td>...</td>\n      <td>...</td>\n      <td>...</td>\n    </tr>\n    <tr>\n      <th>1710</th>\n      <td>R890</td>\n      <td>41.62</td>\n      <td>3713.0</td>\n    </tr>\n    <tr>\n      <th>1711</th>\n      <td>R890</td>\n      <td>53.04</td>\n      <td>4476.0</td>\n    </tr>\n    <tr>\n      <th>1712</th>\n      <td>R890</td>\n      <td>73.78</td>\n      <td>4476.0</td>\n    </tr>\n    <tr>\n      <th>1713</th>\n      <td>R890</td>\n      <td>108.785</td>\n      <td>4476.0</td>\n    </tr>\n    <tr>\n      <th>1717</th>\n      <td>R891</td>\n      <td>0.615</td>\n      <td>2634.0</td>\n    </tr>\n  </tbody>\n</table>\n<p>1046 rows × 3 columns</p>\n</div>"
     },
     "execution_count": 51,
     "metadata": {},
     "output_type": "execute_result"
    }
   ],
   "source": [
    "# Select only the columns we need \n",
    "all_roads_df2 = df_cleaned[['road', 'chainage', 'AADT']]\n",
    "all_roads_df2"
   ],
   "metadata": {
    "collapsed": false,
    "ExecuteTime": {
     "end_time": "2024-03-30T09:42:38.505586500Z",
     "start_time": "2024-03-30T09:42:38.290695800Z"
    }
   },
   "execution_count": 51
  },
  {
   "cell_type": "markdown",
   "source": [
    "For the N1, there is a right and left part of the road, indicated by the (l) and (r) in the road_name column of the df_cleaned dataset. We decided to take the average AADT of these two road segments. This is done by calculating the mean AADT if the road and chainage is the same. Afterwards, the duplicates are removed. "
   ],
   "metadata": {
    "collapsed": false
   }
  },
  {
   "cell_type": "markdown",
   "source": [],
   "metadata": {
    "collapsed": false
   }
  },
  {
   "cell_type": "code",
   "outputs": [
    {
     "data": {
      "text/plain": "      road chainage     AADT\n3       N1    0.822  20447.0\n4       N1    0.822  20447.0\n5       N1    4.175  20447.0\n6       N1    4.175  20447.0\n7       N1    7.181  17109.0\n...    ...      ...      ...\n1710  R890    41.62   3713.0\n1711  R890    53.04   4476.0\n1712  R890    73.78   4476.0\n1713  R890  108.785   4476.0\n1717  R891    0.615   2634.0\n\n[1046 rows x 3 columns]",
      "text/html": "<div>\n<style scoped>\n    .dataframe tbody tr th:only-of-type {\n        vertical-align: middle;\n    }\n\n    .dataframe tbody tr th {\n        vertical-align: top;\n    }\n\n    .dataframe thead th {\n        text-align: right;\n    }\n</style>\n<table border=\"1\" class=\"dataframe\">\n  <thead>\n    <tr style=\"text-align: right;\">\n      <th></th>\n      <th>road</th>\n      <th>chainage</th>\n      <th>AADT</th>\n    </tr>\n  </thead>\n  <tbody>\n    <tr>\n      <th>3</th>\n      <td>N1</td>\n      <td>0.822</td>\n      <td>20447.0</td>\n    </tr>\n    <tr>\n      <th>4</th>\n      <td>N1</td>\n      <td>0.822</td>\n      <td>20447.0</td>\n    </tr>\n    <tr>\n      <th>5</th>\n      <td>N1</td>\n      <td>4.175</td>\n      <td>20447.0</td>\n    </tr>\n    <tr>\n      <th>6</th>\n      <td>N1</td>\n      <td>4.175</td>\n      <td>20447.0</td>\n    </tr>\n    <tr>\n      <th>7</th>\n      <td>N1</td>\n      <td>7.181</td>\n      <td>17109.0</td>\n    </tr>\n    <tr>\n      <th>...</th>\n      <td>...</td>\n      <td>...</td>\n      <td>...</td>\n    </tr>\n    <tr>\n      <th>1710</th>\n      <td>R890</td>\n      <td>41.62</td>\n      <td>3713.0</td>\n    </tr>\n    <tr>\n      <th>1711</th>\n      <td>R890</td>\n      <td>53.04</td>\n      <td>4476.0</td>\n    </tr>\n    <tr>\n      <th>1712</th>\n      <td>R890</td>\n      <td>73.78</td>\n      <td>4476.0</td>\n    </tr>\n    <tr>\n      <th>1713</th>\n      <td>R890</td>\n      <td>108.785</td>\n      <td>4476.0</td>\n    </tr>\n    <tr>\n      <th>1717</th>\n      <td>R891</td>\n      <td>0.615</td>\n      <td>2634.0</td>\n    </tr>\n  </tbody>\n</table>\n<p>1046 rows × 3 columns</p>\n</div>"
     },
     "execution_count": 52,
     "metadata": {},
     "output_type": "execute_result"
    }
   ],
   "source": [
    "# Convert 'AADT' column to numeric data type.\n",
    "all_roads_df2['AADT'] = pd.to_numeric(all_roads_df2['AADT'], errors='coerce')\n",
    "\n",
    "# Group by 'road' and 'chainage', calculate mean of 'AADT' for each group.\n",
    "df_grouped = all_roads_df2.groupby(['road', 'chainage'])['AADT'].transform('mean')\n",
    "\n",
    "# Update 'AADT' column with the calculated mean values.\n",
    "all_roads_df2['AADT'] = df_grouped\n",
    "\n",
    "all_roads_df2\n"
   ],
   "metadata": {
    "collapsed": false,
    "ExecuteTime": {
     "end_time": "2024-03-30T09:42:38.517537700Z",
     "start_time": "2024-03-30T09:42:38.317088500Z"
    }
   },
   "execution_count": 52
  },
  {
   "cell_type": "code",
   "outputs": [
    {
     "data": {
      "text/plain": "      road chainage     AADT\n3       N1    0.822  20447.0\n5       N1    4.175  20447.0\n7       N1    7.181  17109.0\n9       N1    8.763  17666.5\n11      N1   11.936  24234.0\n...    ...      ...      ...\n1710  R890    41.62   3713.0\n1711  R890    53.04   4476.0\n1712  R890    73.78   4476.0\n1713  R890  108.785   4476.0\n1717  R891    0.615   2634.0\n\n[974 rows x 3 columns]",
      "text/html": "<div>\n<style scoped>\n    .dataframe tbody tr th:only-of-type {\n        vertical-align: middle;\n    }\n\n    .dataframe tbody tr th {\n        vertical-align: top;\n    }\n\n    .dataframe thead th {\n        text-align: right;\n    }\n</style>\n<table border=\"1\" class=\"dataframe\">\n  <thead>\n    <tr style=\"text-align: right;\">\n      <th></th>\n      <th>road</th>\n      <th>chainage</th>\n      <th>AADT</th>\n    </tr>\n  </thead>\n  <tbody>\n    <tr>\n      <th>3</th>\n      <td>N1</td>\n      <td>0.822</td>\n      <td>20447.0</td>\n    </tr>\n    <tr>\n      <th>5</th>\n      <td>N1</td>\n      <td>4.175</td>\n      <td>20447.0</td>\n    </tr>\n    <tr>\n      <th>7</th>\n      <td>N1</td>\n      <td>7.181</td>\n      <td>17109.0</td>\n    </tr>\n    <tr>\n      <th>9</th>\n      <td>N1</td>\n      <td>8.763</td>\n      <td>17666.5</td>\n    </tr>\n    <tr>\n      <th>11</th>\n      <td>N1</td>\n      <td>11.936</td>\n      <td>24234.0</td>\n    </tr>\n    <tr>\n      <th>...</th>\n      <td>...</td>\n      <td>...</td>\n      <td>...</td>\n    </tr>\n    <tr>\n      <th>1710</th>\n      <td>R890</td>\n      <td>41.62</td>\n      <td>3713.0</td>\n    </tr>\n    <tr>\n      <th>1711</th>\n      <td>R890</td>\n      <td>53.04</td>\n      <td>4476.0</td>\n    </tr>\n    <tr>\n      <th>1712</th>\n      <td>R890</td>\n      <td>73.78</td>\n      <td>4476.0</td>\n    </tr>\n    <tr>\n      <th>1713</th>\n      <td>R890</td>\n      <td>108.785</td>\n      <td>4476.0</td>\n    </tr>\n    <tr>\n      <th>1717</th>\n      <td>R891</td>\n      <td>0.615</td>\n      <td>2634.0</td>\n    </tr>\n  </tbody>\n</table>\n<p>974 rows × 3 columns</p>\n</div>"
     },
     "execution_count": 53,
     "metadata": {},
     "output_type": "execute_result"
    }
   ],
   "source": [
    "# Remove duplicates based on values in three columns\n",
    "df_no_duplicates = all_roads_df2.drop_duplicates(subset=['road', 'chainage', 'AADT'], keep='first')\n",
    "\n",
    "df_no_duplicates\n"
   ],
   "metadata": {
    "collapsed": false,
    "ExecuteTime": {
     "end_time": "2024-03-30T09:42:38.548428600Z",
     "start_time": "2024-03-30T09:42:38.340366500Z"
    }
   },
   "execution_count": 53
  },
  {
   "cell_type": "code",
   "outputs": [
    {
     "data": {
      "text/plain": "      road  chainage     AADT\n3       N1     0.822  20447.0\n5       N1     4.175  20447.0\n7       N1     7.181  17109.0\n9       N1     8.763  17666.5\n11      N1    11.936  24234.0\n...    ...       ...      ...\n1710  R890    41.620   3713.0\n1711  R890    53.040   4476.0\n1712  R890    73.780   4476.0\n1713  R890   108.785   4476.0\n1717  R891     0.615   2634.0\n\n[974 rows x 3 columns]",
      "text/html": "<div>\n<style scoped>\n    .dataframe tbody tr th:only-of-type {\n        vertical-align: middle;\n    }\n\n    .dataframe tbody tr th {\n        vertical-align: top;\n    }\n\n    .dataframe thead th {\n        text-align: right;\n    }\n</style>\n<table border=\"1\" class=\"dataframe\">\n  <thead>\n    <tr style=\"text-align: right;\">\n      <th></th>\n      <th>road</th>\n      <th>chainage</th>\n      <th>AADT</th>\n    </tr>\n  </thead>\n  <tbody>\n    <tr>\n      <th>3</th>\n      <td>N1</td>\n      <td>0.822</td>\n      <td>20447.0</td>\n    </tr>\n    <tr>\n      <th>5</th>\n      <td>N1</td>\n      <td>4.175</td>\n      <td>20447.0</td>\n    </tr>\n    <tr>\n      <th>7</th>\n      <td>N1</td>\n      <td>7.181</td>\n      <td>17109.0</td>\n    </tr>\n    <tr>\n      <th>9</th>\n      <td>N1</td>\n      <td>8.763</td>\n      <td>17666.5</td>\n    </tr>\n    <tr>\n      <th>11</th>\n      <td>N1</td>\n      <td>11.936</td>\n      <td>24234.0</td>\n    </tr>\n    <tr>\n      <th>...</th>\n      <td>...</td>\n      <td>...</td>\n      <td>...</td>\n    </tr>\n    <tr>\n      <th>1710</th>\n      <td>R890</td>\n      <td>41.620</td>\n      <td>3713.0</td>\n    </tr>\n    <tr>\n      <th>1711</th>\n      <td>R890</td>\n      <td>53.040</td>\n      <td>4476.0</td>\n    </tr>\n    <tr>\n      <th>1712</th>\n      <td>R890</td>\n      <td>73.780</td>\n      <td>4476.0</td>\n    </tr>\n    <tr>\n      <th>1713</th>\n      <td>R890</td>\n      <td>108.785</td>\n      <td>4476.0</td>\n    </tr>\n    <tr>\n      <th>1717</th>\n      <td>R891</td>\n      <td>0.615</td>\n      <td>2634.0</td>\n    </tr>\n  </tbody>\n</table>\n<p>974 rows × 3 columns</p>\n</div>"
     },
     "execution_count": 54,
     "metadata": {},
     "output_type": "execute_result"
    }
   ],
   "source": [
    "df_no_duplicates = df_no_duplicates.astype({'chainage': 'float64'})\n",
    "df_no_duplicates"
   ],
   "metadata": {
    "collapsed": false,
    "ExecuteTime": {
     "end_time": "2024-03-30T09:42:38.552219200Z",
     "start_time": "2024-03-30T09:42:38.372792600Z"
    }
   },
   "execution_count": 54
  },
  {
   "cell_type": "markdown",
   "source": [
    "## Preparing Road dataset"
   ],
   "metadata": {
    "collapsed": false
   }
  },
  {
   "cell_type": "markdown",
   "source": [
    "By preparing the road dataset, only certain columns need to be selected. Furthermore, a new column called \"model_type\" is added, to show this is data about links, not about bridges."
   ],
   "metadata": {
    "collapsed": false
   }
  },
  {
   "cell_type": "code",
   "outputs": [
    {
     "data": {
      "text/plain": "        road  chainage      lrp        lat        lon  gap       type  \\\n0         N1     0.000     LRPS  23.706028  90.443333  NaN     Others   \n1         N1     0.814    LRPSa  23.702917  90.450417  NaN    Culvert   \n2         N1     0.822    LRPSb  23.702778  90.450472  NaN  CrossRoad   \n3         N1     1.000   LRP001  23.702139  90.451972  NaN     KmPost   \n4         N1     2.000   LRP002  23.697889  90.460583  NaN     KmPost   \n...      ...       ...      ...        ...        ...  ...        ...   \n51343  Z8943     7.000   LRP007  22.429499  90.785722  NaN     KmPost   \n51344  Z8943     8.000   LRP008  22.430110  90.776333  NaN     KmPost   \n51345  Z8943     8.133  LRP008a  22.430249  90.774888   BS     Bridge   \n51346  Z8943     8.151  LRP008b  22.430249  90.774860   BE     Bridge   \n51347  Z8943     8.800     LRPE  22.430166  90.768916  NaN     Others   \n\n                                                    name  \n0      Start of Road  after Jatrabari Flyover infront...  \n1                                            Box Culvert  \n2                                Intersection with Z1101  \n3                                        Km post missing  \n4                                        Km post missing  \n...                                                  ...  \n51343                                    Km Post Missing  \n51344                                    Km Post Missing  \n51345                                    Start of Bridge  \n51346                                      End of Bridge  \n51347  End at Kunjerhat Bazar and intersct with R890,...  \n\n[51348 rows x 8 columns]",
      "text/html": "<div>\n<style scoped>\n    .dataframe tbody tr th:only-of-type {\n        vertical-align: middle;\n    }\n\n    .dataframe tbody tr th {\n        vertical-align: top;\n    }\n\n    .dataframe thead th {\n        text-align: right;\n    }\n</style>\n<table border=\"1\" class=\"dataframe\">\n  <thead>\n    <tr style=\"text-align: right;\">\n      <th></th>\n      <th>road</th>\n      <th>chainage</th>\n      <th>lrp</th>\n      <th>lat</th>\n      <th>lon</th>\n      <th>gap</th>\n      <th>type</th>\n      <th>name</th>\n    </tr>\n  </thead>\n  <tbody>\n    <tr>\n      <th>0</th>\n      <td>N1</td>\n      <td>0.000</td>\n      <td>LRPS</td>\n      <td>23.706028</td>\n      <td>90.443333</td>\n      <td>NaN</td>\n      <td>Others</td>\n      <td>Start of Road  after Jatrabari Flyover infront...</td>\n    </tr>\n    <tr>\n      <th>1</th>\n      <td>N1</td>\n      <td>0.814</td>\n      <td>LRPSa</td>\n      <td>23.702917</td>\n      <td>90.450417</td>\n      <td>NaN</td>\n      <td>Culvert</td>\n      <td>Box Culvert</td>\n    </tr>\n    <tr>\n      <th>2</th>\n      <td>N1</td>\n      <td>0.822</td>\n      <td>LRPSb</td>\n      <td>23.702778</td>\n      <td>90.450472</td>\n      <td>NaN</td>\n      <td>CrossRoad</td>\n      <td>Intersection with Z1101</td>\n    </tr>\n    <tr>\n      <th>3</th>\n      <td>N1</td>\n      <td>1.000</td>\n      <td>LRP001</td>\n      <td>23.702139</td>\n      <td>90.451972</td>\n      <td>NaN</td>\n      <td>KmPost</td>\n      <td>Km post missing</td>\n    </tr>\n    <tr>\n      <th>4</th>\n      <td>N1</td>\n      <td>2.000</td>\n      <td>LRP002</td>\n      <td>23.697889</td>\n      <td>90.460583</td>\n      <td>NaN</td>\n      <td>KmPost</td>\n      <td>Km post missing</td>\n    </tr>\n    <tr>\n      <th>...</th>\n      <td>...</td>\n      <td>...</td>\n      <td>...</td>\n      <td>...</td>\n      <td>...</td>\n      <td>...</td>\n      <td>...</td>\n      <td>...</td>\n    </tr>\n    <tr>\n      <th>51343</th>\n      <td>Z8943</td>\n      <td>7.000</td>\n      <td>LRP007</td>\n      <td>22.429499</td>\n      <td>90.785722</td>\n      <td>NaN</td>\n      <td>KmPost</td>\n      <td>Km Post Missing</td>\n    </tr>\n    <tr>\n      <th>51344</th>\n      <td>Z8943</td>\n      <td>8.000</td>\n      <td>LRP008</td>\n      <td>22.430110</td>\n      <td>90.776333</td>\n      <td>NaN</td>\n      <td>KmPost</td>\n      <td>Km Post Missing</td>\n    </tr>\n    <tr>\n      <th>51345</th>\n      <td>Z8943</td>\n      <td>8.133</td>\n      <td>LRP008a</td>\n      <td>22.430249</td>\n      <td>90.774888</td>\n      <td>BS</td>\n      <td>Bridge</td>\n      <td>Start of Bridge</td>\n    </tr>\n    <tr>\n      <th>51346</th>\n      <td>Z8943</td>\n      <td>8.151</td>\n      <td>LRP008b</td>\n      <td>22.430249</td>\n      <td>90.774860</td>\n      <td>BE</td>\n      <td>Bridge</td>\n      <td>End of Bridge</td>\n    </tr>\n    <tr>\n      <th>51347</th>\n      <td>Z8943</td>\n      <td>8.800</td>\n      <td>LRPE</td>\n      <td>22.430166</td>\n      <td>90.768916</td>\n      <td>NaN</td>\n      <td>Others</td>\n      <td>End at Kunjerhat Bazar and intersct with R890,...</td>\n    </tr>\n  </tbody>\n</table>\n<p>51348 rows × 8 columns</p>\n</div>"
     },
     "execution_count": 56,
     "metadata": {},
     "output_type": "execute_result"
    }
   ],
   "source": [
    "# Read the road data\n",
    "roads_df = pd.read_csv(path + '\\\\_roads3.csv')\n",
    "roads_df\n"
   ],
   "metadata": {
    "collapsed": false,
    "ExecuteTime": {
     "end_time": "2024-03-30T09:48:10.285379300Z",
     "start_time": "2024-03-30T09:48:10.181564600Z"
    }
   },
   "execution_count": 56
  },
  {
   "cell_type": "code",
   "outputs": [
    {
     "data": {
      "text/plain": "        road      lrp  chainage        lat        lon  \\\n0         N1     LRPS     0.000  23.706028  90.443333   \n1         N1    LRPSa     0.814  23.702917  90.450417   \n2         N1    LRPSb     0.822  23.702778  90.450472   \n3         N1   LRP001     1.000  23.702139  90.451972   \n4         N1   LRP002     2.000  23.697889  90.460583   \n...      ...      ...       ...        ...        ...   \n51343  Z8943   LRP007     7.000  22.429499  90.785722   \n51344  Z8943   LRP008     8.000  22.430110  90.776333   \n51345  Z8943  LRP008a     8.133  22.430249  90.774888   \n51346  Z8943  LRP008b     8.151  22.430249  90.774860   \n51347  Z8943     LRPE     8.800  22.430166  90.768916   \n\n                                                    name  \n0      Start of Road  after Jatrabari Flyover infront...  \n1                                            Box Culvert  \n2                                Intersection with Z1101  \n3                                        Km post missing  \n4                                        Km post missing  \n...                                                  ...  \n51343                                    Km Post Missing  \n51344                                    Km Post Missing  \n51345                                    Start of Bridge  \n51346                                      End of Bridge  \n51347  End at Kunjerhat Bazar and intersct with R890,...  \n\n[51348 rows x 6 columns]",
      "text/html": "<div>\n<style scoped>\n    .dataframe tbody tr th:only-of-type {\n        vertical-align: middle;\n    }\n\n    .dataframe tbody tr th {\n        vertical-align: top;\n    }\n\n    .dataframe thead th {\n        text-align: right;\n    }\n</style>\n<table border=\"1\" class=\"dataframe\">\n  <thead>\n    <tr style=\"text-align: right;\">\n      <th></th>\n      <th>road</th>\n      <th>lrp</th>\n      <th>chainage</th>\n      <th>lat</th>\n      <th>lon</th>\n      <th>name</th>\n    </tr>\n  </thead>\n  <tbody>\n    <tr>\n      <th>0</th>\n      <td>N1</td>\n      <td>LRPS</td>\n      <td>0.000</td>\n      <td>23.706028</td>\n      <td>90.443333</td>\n      <td>Start of Road  after Jatrabari Flyover infront...</td>\n    </tr>\n    <tr>\n      <th>1</th>\n      <td>N1</td>\n      <td>LRPSa</td>\n      <td>0.814</td>\n      <td>23.702917</td>\n      <td>90.450417</td>\n      <td>Box Culvert</td>\n    </tr>\n    <tr>\n      <th>2</th>\n      <td>N1</td>\n      <td>LRPSb</td>\n      <td>0.822</td>\n      <td>23.702778</td>\n      <td>90.450472</td>\n      <td>Intersection with Z1101</td>\n    </tr>\n    <tr>\n      <th>3</th>\n      <td>N1</td>\n      <td>LRP001</td>\n      <td>1.000</td>\n      <td>23.702139</td>\n      <td>90.451972</td>\n      <td>Km post missing</td>\n    </tr>\n    <tr>\n      <th>4</th>\n      <td>N1</td>\n      <td>LRP002</td>\n      <td>2.000</td>\n      <td>23.697889</td>\n      <td>90.460583</td>\n      <td>Km post missing</td>\n    </tr>\n    <tr>\n      <th>...</th>\n      <td>...</td>\n      <td>...</td>\n      <td>...</td>\n      <td>...</td>\n      <td>...</td>\n      <td>...</td>\n    </tr>\n    <tr>\n      <th>51343</th>\n      <td>Z8943</td>\n      <td>LRP007</td>\n      <td>7.000</td>\n      <td>22.429499</td>\n      <td>90.785722</td>\n      <td>Km Post Missing</td>\n    </tr>\n    <tr>\n      <th>51344</th>\n      <td>Z8943</td>\n      <td>LRP008</td>\n      <td>8.000</td>\n      <td>22.430110</td>\n      <td>90.776333</td>\n      <td>Km Post Missing</td>\n    </tr>\n    <tr>\n      <th>51345</th>\n      <td>Z8943</td>\n      <td>LRP008a</td>\n      <td>8.133</td>\n      <td>22.430249</td>\n      <td>90.774888</td>\n      <td>Start of Bridge</td>\n    </tr>\n    <tr>\n      <th>51346</th>\n      <td>Z8943</td>\n      <td>LRP008b</td>\n      <td>8.151</td>\n      <td>22.430249</td>\n      <td>90.774860</td>\n      <td>End of Bridge</td>\n    </tr>\n    <tr>\n      <th>51347</th>\n      <td>Z8943</td>\n      <td>LRPE</td>\n      <td>8.800</td>\n      <td>22.430166</td>\n      <td>90.768916</td>\n      <td>End at Kunjerhat Bazar and intersct with R890,...</td>\n    </tr>\n  </tbody>\n</table>\n<p>51348 rows × 6 columns</p>\n</div>"
     },
     "execution_count": 66,
     "metadata": {},
     "output_type": "execute_result"
    }
   ],
   "source": [
    "roads_df1 = roads_df.copy()\n",
    "\n",
    "# Drop all columns except 'road', 'lrp', 'chainage', 'lat', 'lon' , 'name'\n",
    "roads_df1 = roads_df1[['road', 'lrp', 'chainage', 'lat', 'lon', 'name']]\n",
    "\n",
    "roads_df1"
   ],
   "metadata": {
    "collapsed": false,
    "ExecuteTime": {
     "end_time": "2024-03-30T10:07:16.924885100Z",
     "start_time": "2024-03-30T10:07:16.850134700Z"
    }
   },
   "execution_count": 66
  },
  {
   "cell_type": "code",
   "outputs": [
    {
     "data": {
      "text/plain": "        road      lrp  chainage        lat        lon  \\\n0         N1     LRPS     0.000  23.706028  90.443333   \n1         N1    LRPSa     0.814  23.702917  90.450417   \n2         N1    LRPSb     0.822  23.702778  90.450472   \n3         N1   LRP001     1.000  23.702139  90.451972   \n4         N1   LRP002     2.000  23.697889  90.460583   \n...      ...      ...       ...        ...        ...   \n51343  Z8943   LRP007     7.000  22.429499  90.785722   \n51344  Z8943   LRP008     8.000  22.430110  90.776333   \n51345  Z8943  LRP008a     8.133  22.430249  90.774888   \n51346  Z8943  LRP008b     8.151  22.430249  90.774860   \n51347  Z8943     LRPE     8.800  22.430166  90.768916   \n\n                                                    name model_type  \n0      Start of Road  after Jatrabari Flyover infront...       link  \n1                                            Box Culvert       link  \n2                                Intersection with Z1101       link  \n3                                        Km post missing       link  \n4                                        Km post missing       link  \n...                                                  ...        ...  \n51343                                    Km Post Missing       link  \n51344                                    Km Post Missing       link  \n51345                                    Start of Bridge       link  \n51346                                      End of Bridge       link  \n51347  End at Kunjerhat Bazar and intersct with R890,...       link  \n\n[51348 rows x 7 columns]",
      "text/html": "<div>\n<style scoped>\n    .dataframe tbody tr th:only-of-type {\n        vertical-align: middle;\n    }\n\n    .dataframe tbody tr th {\n        vertical-align: top;\n    }\n\n    .dataframe thead th {\n        text-align: right;\n    }\n</style>\n<table border=\"1\" class=\"dataframe\">\n  <thead>\n    <tr style=\"text-align: right;\">\n      <th></th>\n      <th>road</th>\n      <th>lrp</th>\n      <th>chainage</th>\n      <th>lat</th>\n      <th>lon</th>\n      <th>name</th>\n      <th>model_type</th>\n    </tr>\n  </thead>\n  <tbody>\n    <tr>\n      <th>0</th>\n      <td>N1</td>\n      <td>LRPS</td>\n      <td>0.000</td>\n      <td>23.706028</td>\n      <td>90.443333</td>\n      <td>Start of Road  after Jatrabari Flyover infront...</td>\n      <td>link</td>\n    </tr>\n    <tr>\n      <th>1</th>\n      <td>N1</td>\n      <td>LRPSa</td>\n      <td>0.814</td>\n      <td>23.702917</td>\n      <td>90.450417</td>\n      <td>Box Culvert</td>\n      <td>link</td>\n    </tr>\n    <tr>\n      <th>2</th>\n      <td>N1</td>\n      <td>LRPSb</td>\n      <td>0.822</td>\n      <td>23.702778</td>\n      <td>90.450472</td>\n      <td>Intersection with Z1101</td>\n      <td>link</td>\n    </tr>\n    <tr>\n      <th>3</th>\n      <td>N1</td>\n      <td>LRP001</td>\n      <td>1.000</td>\n      <td>23.702139</td>\n      <td>90.451972</td>\n      <td>Km post missing</td>\n      <td>link</td>\n    </tr>\n    <tr>\n      <th>4</th>\n      <td>N1</td>\n      <td>LRP002</td>\n      <td>2.000</td>\n      <td>23.697889</td>\n      <td>90.460583</td>\n      <td>Km post missing</td>\n      <td>link</td>\n    </tr>\n    <tr>\n      <th>...</th>\n      <td>...</td>\n      <td>...</td>\n      <td>...</td>\n      <td>...</td>\n      <td>...</td>\n      <td>...</td>\n      <td>...</td>\n    </tr>\n    <tr>\n      <th>51343</th>\n      <td>Z8943</td>\n      <td>LRP007</td>\n      <td>7.000</td>\n      <td>22.429499</td>\n      <td>90.785722</td>\n      <td>Km Post Missing</td>\n      <td>link</td>\n    </tr>\n    <tr>\n      <th>51344</th>\n      <td>Z8943</td>\n      <td>LRP008</td>\n      <td>8.000</td>\n      <td>22.430110</td>\n      <td>90.776333</td>\n      <td>Km Post Missing</td>\n      <td>link</td>\n    </tr>\n    <tr>\n      <th>51345</th>\n      <td>Z8943</td>\n      <td>LRP008a</td>\n      <td>8.133</td>\n      <td>22.430249</td>\n      <td>90.774888</td>\n      <td>Start of Bridge</td>\n      <td>link</td>\n    </tr>\n    <tr>\n      <th>51346</th>\n      <td>Z8943</td>\n      <td>LRP008b</td>\n      <td>8.151</td>\n      <td>22.430249</td>\n      <td>90.774860</td>\n      <td>End of Bridge</td>\n      <td>link</td>\n    </tr>\n    <tr>\n      <th>51347</th>\n      <td>Z8943</td>\n      <td>LRPE</td>\n      <td>8.800</td>\n      <td>22.430166</td>\n      <td>90.768916</td>\n      <td>End at Kunjerhat Bazar and intersct with R890,...</td>\n      <td>link</td>\n    </tr>\n  </tbody>\n</table>\n<p>51348 rows × 7 columns</p>\n</div>"
     },
     "execution_count": 67,
     "metadata": {},
     "output_type": "execute_result"
    }
   ],
   "source": [
    "# Add a new column \"model_type\" and assign the value \"link\" to all rows\n",
    "roads_df1['model_type'] = 'link'\n",
    "\n",
    "roads_df1"
   ],
   "metadata": {
    "collapsed": false,
    "ExecuteTime": {
     "end_time": "2024-03-30T10:07:18.839104800Z",
     "start_time": "2024-03-30T10:07:18.721799200Z"
    }
   },
   "execution_count": 67
  },
  {
   "cell_type": "markdown",
   "source": [
    "## Merging Road dataset and HTML dataset"
   ],
   "metadata": {
    "collapsed": false
   }
  },
  {
   "cell_type": "code",
   "outputs": [
    {
     "data": {
      "text/plain": "     road  chainage     AADT      lrp        lat        lon  \\\n0      N1     0.822  20447.0    LRPSb  23.702778  90.450472   \n1      N1     4.175  20447.0  LRP004a  23.693805  90.480527   \n2      N1     7.181  17109.0  LRP007a  23.697916  90.509278   \n3      N1     8.763  17666.5  LRP009a  23.706083  90.521527   \n4      N1    11.936  24234.0  LRP012c  23.690416  90.546583   \n..    ...       ...      ...      ...        ...        ...   \n879  R890    16.885   3713.0  LRP016c  22.590194  90.658778   \n880  R890    41.620   3713.0  LRP041a  22.430138  90.768805   \n881  R890    53.040   4476.0  LRP052b  22.340416  90.734750   \n882  R890    73.780   4476.0  LRP072b  22.185805  90.760167   \n883  R890   108.785   4476.0     LRPE  22.080888  90.614389   \n\n                                                name model_type  \n0                            Intersection with Z1101       link  \n1                          Road to Narayanganj(R111)       link  \n2           R110,Left to Demra, Right to Narayanganj       link  \n3                                Road to Sylhet (N2)       link  \n4    Right to Syedpur (R113) left to Joydebpur N105)       link  \n..                                               ...        ...  \n879                                           Z 8915       link  \n880                                      Left Z 8943       link  \n881                                           Z 8913       link  \n882                                      Left Z 8909       link  \n883     End of road at Baburhat, Launch Ghate,Bhola.       link  \n\n[884 rows x 8 columns]",
      "text/html": "<div>\n<style scoped>\n    .dataframe tbody tr th:only-of-type {\n        vertical-align: middle;\n    }\n\n    .dataframe tbody tr th {\n        vertical-align: top;\n    }\n\n    .dataframe thead th {\n        text-align: right;\n    }\n</style>\n<table border=\"1\" class=\"dataframe\">\n  <thead>\n    <tr style=\"text-align: right;\">\n      <th></th>\n      <th>road</th>\n      <th>chainage</th>\n      <th>AADT</th>\n      <th>lrp</th>\n      <th>lat</th>\n      <th>lon</th>\n      <th>name</th>\n      <th>model_type</th>\n    </tr>\n  </thead>\n  <tbody>\n    <tr>\n      <th>0</th>\n      <td>N1</td>\n      <td>0.822</td>\n      <td>20447.0</td>\n      <td>LRPSb</td>\n      <td>23.702778</td>\n      <td>90.450472</td>\n      <td>Intersection with Z1101</td>\n      <td>link</td>\n    </tr>\n    <tr>\n      <th>1</th>\n      <td>N1</td>\n      <td>4.175</td>\n      <td>20447.0</td>\n      <td>LRP004a</td>\n      <td>23.693805</td>\n      <td>90.480527</td>\n      <td>Road to Narayanganj(R111)</td>\n      <td>link</td>\n    </tr>\n    <tr>\n      <th>2</th>\n      <td>N1</td>\n      <td>7.181</td>\n      <td>17109.0</td>\n      <td>LRP007a</td>\n      <td>23.697916</td>\n      <td>90.509278</td>\n      <td>R110,Left to Demra, Right to Narayanganj</td>\n      <td>link</td>\n    </tr>\n    <tr>\n      <th>3</th>\n      <td>N1</td>\n      <td>8.763</td>\n      <td>17666.5</td>\n      <td>LRP009a</td>\n      <td>23.706083</td>\n      <td>90.521527</td>\n      <td>Road to Sylhet (N2)</td>\n      <td>link</td>\n    </tr>\n    <tr>\n      <th>4</th>\n      <td>N1</td>\n      <td>11.936</td>\n      <td>24234.0</td>\n      <td>LRP012c</td>\n      <td>23.690416</td>\n      <td>90.546583</td>\n      <td>Right to Syedpur (R113) left to Joydebpur N105)</td>\n      <td>link</td>\n    </tr>\n    <tr>\n      <th>...</th>\n      <td>...</td>\n      <td>...</td>\n      <td>...</td>\n      <td>...</td>\n      <td>...</td>\n      <td>...</td>\n      <td>...</td>\n      <td>...</td>\n    </tr>\n    <tr>\n      <th>879</th>\n      <td>R890</td>\n      <td>16.885</td>\n      <td>3713.0</td>\n      <td>LRP016c</td>\n      <td>22.590194</td>\n      <td>90.658778</td>\n      <td>Z 8915</td>\n      <td>link</td>\n    </tr>\n    <tr>\n      <th>880</th>\n      <td>R890</td>\n      <td>41.620</td>\n      <td>3713.0</td>\n      <td>LRP041a</td>\n      <td>22.430138</td>\n      <td>90.768805</td>\n      <td>Left Z 8943</td>\n      <td>link</td>\n    </tr>\n    <tr>\n      <th>881</th>\n      <td>R890</td>\n      <td>53.040</td>\n      <td>4476.0</td>\n      <td>LRP052b</td>\n      <td>22.340416</td>\n      <td>90.734750</td>\n      <td>Z 8913</td>\n      <td>link</td>\n    </tr>\n    <tr>\n      <th>882</th>\n      <td>R890</td>\n      <td>73.780</td>\n      <td>4476.0</td>\n      <td>LRP072b</td>\n      <td>22.185805</td>\n      <td>90.760167</td>\n      <td>Left Z 8909</td>\n      <td>link</td>\n    </tr>\n    <tr>\n      <th>883</th>\n      <td>R890</td>\n      <td>108.785</td>\n      <td>4476.0</td>\n      <td>LRPE</td>\n      <td>22.080888</td>\n      <td>90.614389</td>\n      <td>End of road at Baburhat, Launch Ghate,Bhola.</td>\n      <td>link</td>\n    </tr>\n  </tbody>\n</table>\n<p>884 rows × 8 columns</p>\n</div>"
     },
     "execution_count": 68,
     "metadata": {},
     "output_type": "execute_result"
    }
   ],
   "source": [
    "#Merging dataframes based on certain columns\n",
    "merged_df = pd.merge(df_no_duplicates, roads_df1, on=['road', 'chainage'], how='inner')\n",
    "merged_df"
   ],
   "metadata": {
    "collapsed": false,
    "ExecuteTime": {
     "end_time": "2024-03-30T10:07:21.789400700Z",
     "start_time": "2024-03-30T10:07:21.673338700Z"
    }
   },
   "execution_count": 68
  },
  {
   "cell_type": "markdown",
   "source": [
    "To make it possible to merge with the bridge dataset, an extra column called \"condition\" needs to be added. This is set as a nan value, since roads do not have a condition during this assignment."
   ],
   "metadata": {
    "collapsed": false
   }
  },
  {
   "cell_type": "code",
   "outputs": [
    {
     "data": {
      "text/plain": "     road  chainage     AADT      lrp        lat        lon  \\\n0      N1     0.822  20447.0    LRPSb  23.702778  90.450472   \n1      N1     4.175  20447.0  LRP004a  23.693805  90.480527   \n2      N1     7.181  17109.0  LRP007a  23.697916  90.509278   \n3      N1     8.763  17666.5  LRP009a  23.706083  90.521527   \n4      N1    11.936  24234.0  LRP012c  23.690416  90.546583   \n..    ...       ...      ...      ...        ...        ...   \n879  R890    16.885   3713.0  LRP016c  22.590194  90.658778   \n880  R890    41.620   3713.0  LRP041a  22.430138  90.768805   \n881  R890    53.040   4476.0  LRP052b  22.340416  90.734750   \n882  R890    73.780   4476.0  LRP072b  22.185805  90.760167   \n883  R890   108.785   4476.0     LRPE  22.080888  90.614389   \n\n                                                name model_type  condition  \n0                            Intersection with Z1101       link        NaN  \n1                          Road to Narayanganj(R111)       link        NaN  \n2           R110,Left to Demra, Right to Narayanganj       link        NaN  \n3                                Road to Sylhet (N2)       link        NaN  \n4    Right to Syedpur (R113) left to Joydebpur N105)       link        NaN  \n..                                               ...        ...        ...  \n879                                           Z 8915       link        NaN  \n880                                      Left Z 8943       link        NaN  \n881                                           Z 8913       link        NaN  \n882                                      Left Z 8909       link        NaN  \n883     End of road at Baburhat, Launch Ghate,Bhola.       link        NaN  \n\n[884 rows x 9 columns]",
      "text/html": "<div>\n<style scoped>\n    .dataframe tbody tr th:only-of-type {\n        vertical-align: middle;\n    }\n\n    .dataframe tbody tr th {\n        vertical-align: top;\n    }\n\n    .dataframe thead th {\n        text-align: right;\n    }\n</style>\n<table border=\"1\" class=\"dataframe\">\n  <thead>\n    <tr style=\"text-align: right;\">\n      <th></th>\n      <th>road</th>\n      <th>chainage</th>\n      <th>AADT</th>\n      <th>lrp</th>\n      <th>lat</th>\n      <th>lon</th>\n      <th>name</th>\n      <th>model_type</th>\n      <th>condition</th>\n    </tr>\n  </thead>\n  <tbody>\n    <tr>\n      <th>0</th>\n      <td>N1</td>\n      <td>0.822</td>\n      <td>20447.0</td>\n      <td>LRPSb</td>\n      <td>23.702778</td>\n      <td>90.450472</td>\n      <td>Intersection with Z1101</td>\n      <td>link</td>\n      <td>NaN</td>\n    </tr>\n    <tr>\n      <th>1</th>\n      <td>N1</td>\n      <td>4.175</td>\n      <td>20447.0</td>\n      <td>LRP004a</td>\n      <td>23.693805</td>\n      <td>90.480527</td>\n      <td>Road to Narayanganj(R111)</td>\n      <td>link</td>\n      <td>NaN</td>\n    </tr>\n    <tr>\n      <th>2</th>\n      <td>N1</td>\n      <td>7.181</td>\n      <td>17109.0</td>\n      <td>LRP007a</td>\n      <td>23.697916</td>\n      <td>90.509278</td>\n      <td>R110,Left to Demra, Right to Narayanganj</td>\n      <td>link</td>\n      <td>NaN</td>\n    </tr>\n    <tr>\n      <th>3</th>\n      <td>N1</td>\n      <td>8.763</td>\n      <td>17666.5</td>\n      <td>LRP009a</td>\n      <td>23.706083</td>\n      <td>90.521527</td>\n      <td>Road to Sylhet (N2)</td>\n      <td>link</td>\n      <td>NaN</td>\n    </tr>\n    <tr>\n      <th>4</th>\n      <td>N1</td>\n      <td>11.936</td>\n      <td>24234.0</td>\n      <td>LRP012c</td>\n      <td>23.690416</td>\n      <td>90.546583</td>\n      <td>Right to Syedpur (R113) left to Joydebpur N105)</td>\n      <td>link</td>\n      <td>NaN</td>\n    </tr>\n    <tr>\n      <th>...</th>\n      <td>...</td>\n      <td>...</td>\n      <td>...</td>\n      <td>...</td>\n      <td>...</td>\n      <td>...</td>\n      <td>...</td>\n      <td>...</td>\n      <td>...</td>\n    </tr>\n    <tr>\n      <th>879</th>\n      <td>R890</td>\n      <td>16.885</td>\n      <td>3713.0</td>\n      <td>LRP016c</td>\n      <td>22.590194</td>\n      <td>90.658778</td>\n      <td>Z 8915</td>\n      <td>link</td>\n      <td>NaN</td>\n    </tr>\n    <tr>\n      <th>880</th>\n      <td>R890</td>\n      <td>41.620</td>\n      <td>3713.0</td>\n      <td>LRP041a</td>\n      <td>22.430138</td>\n      <td>90.768805</td>\n      <td>Left Z 8943</td>\n      <td>link</td>\n      <td>NaN</td>\n    </tr>\n    <tr>\n      <th>881</th>\n      <td>R890</td>\n      <td>53.040</td>\n      <td>4476.0</td>\n      <td>LRP052b</td>\n      <td>22.340416</td>\n      <td>90.734750</td>\n      <td>Z 8913</td>\n      <td>link</td>\n      <td>NaN</td>\n    </tr>\n    <tr>\n      <th>882</th>\n      <td>R890</td>\n      <td>73.780</td>\n      <td>4476.0</td>\n      <td>LRP072b</td>\n      <td>22.185805</td>\n      <td>90.760167</td>\n      <td>Left Z 8909</td>\n      <td>link</td>\n      <td>NaN</td>\n    </tr>\n    <tr>\n      <th>883</th>\n      <td>R890</td>\n      <td>108.785</td>\n      <td>4476.0</td>\n      <td>LRPE</td>\n      <td>22.080888</td>\n      <td>90.614389</td>\n      <td>End of road at Baburhat, Launch Ghate,Bhola.</td>\n      <td>link</td>\n      <td>NaN</td>\n    </tr>\n  </tbody>\n</table>\n<p>884 rows × 9 columns</p>\n</div>"
     },
     "execution_count": 69,
     "metadata": {},
     "output_type": "execute_result"
    }
   ],
   "source": [
    "# Add a new column\n",
    "merged_df['condition'] = np.nan\n",
    "\n",
    "merged_df"
   ],
   "metadata": {
    "collapsed": false,
    "ExecuteTime": {
     "end_time": "2024-03-30T10:07:24.743125100Z",
     "start_time": "2024-03-30T10:07:24.690422100Z"
    }
   },
   "execution_count": 69
  },
  {
   "cell_type": "markdown",
   "source": [
    "## Preparing bridges dataset"
   ],
   "metadata": {
    "collapsed": false
   }
  },
  {
   "cell_type": "markdown",
   "source": [
    "To prepare the bridges dataset, a few steps need to be taken:\n",
    "1. Drop the \"name\" column. There is in the road/html dataset a column called \"name\", which refers to the road name. The \"name\" column in the bridges dataset refers to the bridge name instead of the road name.\n",
    "2. Rename columns to match with the road/html\n",
    "3. Add a column called \"model_type\" and set this to bridge\n",
    "4. Only select the columns we need\n",
    "5. Add a AADT column and set the values to NaN. This is a column in the road/html dataset, and otherwise it is not possible to merge.\n",
    "6. Only select the bridges in the N and R roads, since this is the scope of our assignment"
   ],
   "metadata": {
    "collapsed": false
   }
  },
  {
   "cell_type": "code",
   "outputs": [
    {
     "data": {
      "text/plain": "        road      km                   type  LRPName               name  \\\n0         N1   1.800            Box Culvert  LRP001a                  .   \n1         N1   4.925            Box Culvert  LRP004b                  .   \n2         N1   8.976       PC Girder Bridge  LRP008b  Kanch pur Bridge.   \n3         N1  10.880            Box Culvert  LRP010b   NOYAPARA CULVERT   \n4         N1  10.897            Box Culvert  LRP010c     ADUPUR CULVERT   \n...      ...     ...                    ...      ...                ...   \n20410  Z8806  83.728            Box Culvert  LRP083a                  .   \n20411  Z8810   3.981  Steel Beam & RCC Slab  LRP003b                  .   \n20412  Z8814  20.730  Baily with Steel Deck  LRP020b     Kalbari Bridge   \n20413  Z8910  28.880      RCC Girder Bridge  LRP028a   Narainpur Bridge   \n20414  Z8910  33.530      RCC Girder Bridge  LRP033c       Jor Bridge 2   \n\n       length condition  structureNr  \\\n0       11.30         A       117861   \n1        6.60         A       117862   \n2      394.23         A       119889   \n3        6.30         A       112531   \n4        6.30         A       112532   \n...       ...       ...          ...   \n20410    1.78         D       110470   \n20411   27.20         D       113458   \n20412   30.50         D       121147   \n20413    9.50         D       119249   \n20414    6.00         D       119254   \n\n                                                roadName  chainage  width  \\\n0      Dhaka (Jatrabari)-Comilla (Mainamati)-Chittago...     1.800   19.5   \n1      Dhaka (Jatrabari)-Comilla (Mainamati)-Chittago...     4.925   35.4   \n2      Dhaka (Jatrabari)-Comilla (Mainamati)-Chittago...     8.976    NaN   \n3      Dhaka (Jatrabari)-Comilla (Mainamati)-Chittago...    10.880   12.2   \n4      Dhaka (Jatrabari)-Comilla (Mainamati)-Chittago...    10.897   12.2   \n...                                                  ...       ...    ...   \n20410  Lebukhali-Dumki-Boga-Bauphal-Kalaiya-Dashmina-...    83.728    7.6   \n20411  Bakerganj-Padrishibpur-Kathaltali-Subidkhali-B...     3.981    3.2   \n20412  Barguna (Dakhin Ramna Kheya Ghat)-Dewatala-Mat...    20.730    NaN   \n20413       Barisal (Bairagirpool)-Tumchar-Bauphaul Road    28.880    NaN   \n20414       Barisal (Bairagirpool)-Tumchar-Bauphaul Road    33.530    NaN   \n\n       constructionYear  spans     zone      circle     division  \\\n0                2005.0    2.0    Dhaka       Dhaka  Narayanganj   \n1                2006.0    1.0    Dhaka       Dhaka  Narayanganj   \n2                   NaN    NaN    Dhaka       Dhaka  Narayanganj   \n3                1992.0    2.0    Dhaka       Dhaka  Narayanganj   \n4                1984.0    2.0    Dhaka       Dhaka  Narayanganj   \n...                 ...    ...      ...         ...          ...   \n20410            1980.0    1.0  Barisal  Patuakhali      Barguna   \n20411            1979.0    5.0  Barisal     Barisal      Barisal   \n20412               NaN    NaN  Barisal     Barisal     Pirojpur   \n20413               NaN    NaN  Barisal  Patuakhali   Patuakhali   \n20414               NaN    NaN  Barisal  Patuakhali   Patuakhali   \n\n        sub-division        lat        lon EstimatedLoc  \n0      Narayanganj-1  23.698739  90.458861  interpolate  \n1      Narayanganj-1  23.694664  90.487775  interpolate  \n2      Narayanganj-1  23.705060  90.523214  interpolate  \n3          Vitikandi  23.694391  90.537574  interpolate  \n4          Vitikandi  23.694302  90.537707  interpolate  \n...              ...        ...        ...          ...  \n20410        Barguna  22.183448  90.299962  interpolate  \n20411      Barisal-1  22.519353  90.310063  interpolate  \n20412       Kawkhali  22.282704  89.968512  interpolate  \n20413     Patuakhali  22.510650  90.535314  interpolate  \n20414     Patuakhali  22.474325  90.557335  interpolate  \n\n[20415 rows x 20 columns]",
      "text/html": "<div>\n<style scoped>\n    .dataframe tbody tr th:only-of-type {\n        vertical-align: middle;\n    }\n\n    .dataframe tbody tr th {\n        vertical-align: top;\n    }\n\n    .dataframe thead th {\n        text-align: right;\n    }\n</style>\n<table border=\"1\" class=\"dataframe\">\n  <thead>\n    <tr style=\"text-align: right;\">\n      <th></th>\n      <th>road</th>\n      <th>km</th>\n      <th>type</th>\n      <th>LRPName</th>\n      <th>name</th>\n      <th>length</th>\n      <th>condition</th>\n      <th>structureNr</th>\n      <th>roadName</th>\n      <th>chainage</th>\n      <th>width</th>\n      <th>constructionYear</th>\n      <th>spans</th>\n      <th>zone</th>\n      <th>circle</th>\n      <th>division</th>\n      <th>sub-division</th>\n      <th>lat</th>\n      <th>lon</th>\n      <th>EstimatedLoc</th>\n    </tr>\n  </thead>\n  <tbody>\n    <tr>\n      <th>0</th>\n      <td>N1</td>\n      <td>1.800</td>\n      <td>Box Culvert</td>\n      <td>LRP001a</td>\n      <td>.</td>\n      <td>11.30</td>\n      <td>A</td>\n      <td>117861</td>\n      <td>Dhaka (Jatrabari)-Comilla (Mainamati)-Chittago...</td>\n      <td>1.800</td>\n      <td>19.5</td>\n      <td>2005.0</td>\n      <td>2.0</td>\n      <td>Dhaka</td>\n      <td>Dhaka</td>\n      <td>Narayanganj</td>\n      <td>Narayanganj-1</td>\n      <td>23.698739</td>\n      <td>90.458861</td>\n      <td>interpolate</td>\n    </tr>\n    <tr>\n      <th>1</th>\n      <td>N1</td>\n      <td>4.925</td>\n      <td>Box Culvert</td>\n      <td>LRP004b</td>\n      <td>.</td>\n      <td>6.60</td>\n      <td>A</td>\n      <td>117862</td>\n      <td>Dhaka (Jatrabari)-Comilla (Mainamati)-Chittago...</td>\n      <td>4.925</td>\n      <td>35.4</td>\n      <td>2006.0</td>\n      <td>1.0</td>\n      <td>Dhaka</td>\n      <td>Dhaka</td>\n      <td>Narayanganj</td>\n      <td>Narayanganj-1</td>\n      <td>23.694664</td>\n      <td>90.487775</td>\n      <td>interpolate</td>\n    </tr>\n    <tr>\n      <th>2</th>\n      <td>N1</td>\n      <td>8.976</td>\n      <td>PC Girder Bridge</td>\n      <td>LRP008b</td>\n      <td>Kanch pur Bridge.</td>\n      <td>394.23</td>\n      <td>A</td>\n      <td>119889</td>\n      <td>Dhaka (Jatrabari)-Comilla (Mainamati)-Chittago...</td>\n      <td>8.976</td>\n      <td>NaN</td>\n      <td>NaN</td>\n      <td>NaN</td>\n      <td>Dhaka</td>\n      <td>Dhaka</td>\n      <td>Narayanganj</td>\n      <td>Narayanganj-1</td>\n      <td>23.705060</td>\n      <td>90.523214</td>\n      <td>interpolate</td>\n    </tr>\n    <tr>\n      <th>3</th>\n      <td>N1</td>\n      <td>10.880</td>\n      <td>Box Culvert</td>\n      <td>LRP010b</td>\n      <td>NOYAPARA CULVERT</td>\n      <td>6.30</td>\n      <td>A</td>\n      <td>112531</td>\n      <td>Dhaka (Jatrabari)-Comilla (Mainamati)-Chittago...</td>\n      <td>10.880</td>\n      <td>12.2</td>\n      <td>1992.0</td>\n      <td>2.0</td>\n      <td>Dhaka</td>\n      <td>Dhaka</td>\n      <td>Narayanganj</td>\n      <td>Vitikandi</td>\n      <td>23.694391</td>\n      <td>90.537574</td>\n      <td>interpolate</td>\n    </tr>\n    <tr>\n      <th>4</th>\n      <td>N1</td>\n      <td>10.897</td>\n      <td>Box Culvert</td>\n      <td>LRP010c</td>\n      <td>ADUPUR CULVERT</td>\n      <td>6.30</td>\n      <td>A</td>\n      <td>112532</td>\n      <td>Dhaka (Jatrabari)-Comilla (Mainamati)-Chittago...</td>\n      <td>10.897</td>\n      <td>12.2</td>\n      <td>1984.0</td>\n      <td>2.0</td>\n      <td>Dhaka</td>\n      <td>Dhaka</td>\n      <td>Narayanganj</td>\n      <td>Vitikandi</td>\n      <td>23.694302</td>\n      <td>90.537707</td>\n      <td>interpolate</td>\n    </tr>\n    <tr>\n      <th>...</th>\n      <td>...</td>\n      <td>...</td>\n      <td>...</td>\n      <td>...</td>\n      <td>...</td>\n      <td>...</td>\n      <td>...</td>\n      <td>...</td>\n      <td>...</td>\n      <td>...</td>\n      <td>...</td>\n      <td>...</td>\n      <td>...</td>\n      <td>...</td>\n      <td>...</td>\n      <td>...</td>\n      <td>...</td>\n      <td>...</td>\n      <td>...</td>\n      <td>...</td>\n    </tr>\n    <tr>\n      <th>20410</th>\n      <td>Z8806</td>\n      <td>83.728</td>\n      <td>Box Culvert</td>\n      <td>LRP083a</td>\n      <td>.</td>\n      <td>1.78</td>\n      <td>D</td>\n      <td>110470</td>\n      <td>Lebukhali-Dumki-Boga-Bauphal-Kalaiya-Dashmina-...</td>\n      <td>83.728</td>\n      <td>7.6</td>\n      <td>1980.0</td>\n      <td>1.0</td>\n      <td>Barisal</td>\n      <td>Patuakhali</td>\n      <td>Barguna</td>\n      <td>Barguna</td>\n      <td>22.183448</td>\n      <td>90.299962</td>\n      <td>interpolate</td>\n    </tr>\n    <tr>\n      <th>20411</th>\n      <td>Z8810</td>\n      <td>3.981</td>\n      <td>Steel Beam &amp; RCC Slab</td>\n      <td>LRP003b</td>\n      <td>.</td>\n      <td>27.20</td>\n      <td>D</td>\n      <td>113458</td>\n      <td>Bakerganj-Padrishibpur-Kathaltali-Subidkhali-B...</td>\n      <td>3.981</td>\n      <td>3.2</td>\n      <td>1979.0</td>\n      <td>5.0</td>\n      <td>Barisal</td>\n      <td>Barisal</td>\n      <td>Barisal</td>\n      <td>Barisal-1</td>\n      <td>22.519353</td>\n      <td>90.310063</td>\n      <td>interpolate</td>\n    </tr>\n    <tr>\n      <th>20412</th>\n      <td>Z8814</td>\n      <td>20.730</td>\n      <td>Baily with Steel Deck</td>\n      <td>LRP020b</td>\n      <td>Kalbari Bridge</td>\n      <td>30.50</td>\n      <td>D</td>\n      <td>121147</td>\n      <td>Barguna (Dakhin Ramna Kheya Ghat)-Dewatala-Mat...</td>\n      <td>20.730</td>\n      <td>NaN</td>\n      <td>NaN</td>\n      <td>NaN</td>\n      <td>Barisal</td>\n      <td>Barisal</td>\n      <td>Pirojpur</td>\n      <td>Kawkhali</td>\n      <td>22.282704</td>\n      <td>89.968512</td>\n      <td>interpolate</td>\n    </tr>\n    <tr>\n      <th>20413</th>\n      <td>Z8910</td>\n      <td>28.880</td>\n      <td>RCC Girder Bridge</td>\n      <td>LRP028a</td>\n      <td>Narainpur Bridge</td>\n      <td>9.50</td>\n      <td>D</td>\n      <td>119249</td>\n      <td>Barisal (Bairagirpool)-Tumchar-Bauphaul Road</td>\n      <td>28.880</td>\n      <td>NaN</td>\n      <td>NaN</td>\n      <td>NaN</td>\n      <td>Barisal</td>\n      <td>Patuakhali</td>\n      <td>Patuakhali</td>\n      <td>Patuakhali</td>\n      <td>22.510650</td>\n      <td>90.535314</td>\n      <td>interpolate</td>\n    </tr>\n    <tr>\n      <th>20414</th>\n      <td>Z8910</td>\n      <td>33.530</td>\n      <td>RCC Girder Bridge</td>\n      <td>LRP033c</td>\n      <td>Jor Bridge 2</td>\n      <td>6.00</td>\n      <td>D</td>\n      <td>119254</td>\n      <td>Barisal (Bairagirpool)-Tumchar-Bauphaul Road</td>\n      <td>33.530</td>\n      <td>NaN</td>\n      <td>NaN</td>\n      <td>NaN</td>\n      <td>Barisal</td>\n      <td>Patuakhali</td>\n      <td>Patuakhali</td>\n      <td>Patuakhali</td>\n      <td>22.474325</td>\n      <td>90.557335</td>\n      <td>interpolate</td>\n    </tr>\n  </tbody>\n</table>\n<p>20415 rows × 20 columns</p>\n</div>"
     },
     "execution_count": 57,
     "metadata": {},
     "output_type": "execute_result"
    }
   ],
   "source": [
    "# Read dataset.\n",
    "bridges_df = pd.read_excel(path + \"\\\\UPDATED_BMMS_overview.xlsx\")\n",
    "bridges_df\n"
   ],
   "metadata": {
    "collapsed": false,
    "ExecuteTime": {
     "end_time": "2024-03-30T09:57:46.009513200Z",
     "start_time": "2024-03-30T09:57:40.232838100Z"
    }
   },
   "execution_count": 57
  },
  {
   "cell_type": "code",
   "outputs": [],
   "source": [
    "# Drop the column \"name\", we do not need that one during this assignment\n",
    "bridges_df = bridges_df.drop(columns = [ 'name'])"
   ],
   "metadata": {
    "collapsed": false,
    "ExecuteTime": {
     "end_time": "2024-03-30T09:59:54.195586900Z",
     "start_time": "2024-03-30T09:59:54.111795200Z"
    }
   },
   "execution_count": 58
  },
  {
   "cell_type": "code",
   "outputs": [
    {
     "data": {
      "text/plain": "        road      km                   type      lrp  length condition  \\\n0         N1   1.800            Box Culvert  LRP001a   11.30         A   \n1         N1   4.925            Box Culvert  LRP004b    6.60         A   \n2         N1   8.976       PC Girder Bridge  LRP008b  394.23         A   \n3         N1  10.880            Box Culvert  LRP010b    6.30         A   \n4         N1  10.897            Box Culvert  LRP010c    6.30         A   \n...      ...     ...                    ...      ...     ...       ...   \n20410  Z8806  83.728            Box Culvert  LRP083a    1.78         D   \n20411  Z8810   3.981  Steel Beam & RCC Slab  LRP003b   27.20         D   \n20412  Z8814  20.730  Baily with Steel Deck  LRP020b   30.50         D   \n20413  Z8910  28.880      RCC Girder Bridge  LRP028a    9.50         D   \n20414  Z8910  33.530      RCC Girder Bridge  LRP033c    6.00         D   \n\n       structureNr                                               name  \\\n0           117861  Dhaka (Jatrabari)-Comilla (Mainamati)-Chittago...   \n1           117862  Dhaka (Jatrabari)-Comilla (Mainamati)-Chittago...   \n2           119889  Dhaka (Jatrabari)-Comilla (Mainamati)-Chittago...   \n3           112531  Dhaka (Jatrabari)-Comilla (Mainamati)-Chittago...   \n4           112532  Dhaka (Jatrabari)-Comilla (Mainamati)-Chittago...   \n...            ...                                                ...   \n20410       110470  Lebukhali-Dumki-Boga-Bauphal-Kalaiya-Dashmina-...   \n20411       113458  Bakerganj-Padrishibpur-Kathaltali-Subidkhali-B...   \n20412       121147  Barguna (Dakhin Ramna Kheya Ghat)-Dewatala-Mat...   \n20413       119249       Barisal (Bairagirpool)-Tumchar-Bauphaul Road   \n20414       119254       Barisal (Bairagirpool)-Tumchar-Bauphaul Road   \n\n       chainage  width  constructionYear  spans     zone      circle  \\\n0         1.800   19.5            2005.0    2.0    Dhaka       Dhaka   \n1         4.925   35.4            2006.0    1.0    Dhaka       Dhaka   \n2         8.976    NaN               NaN    NaN    Dhaka       Dhaka   \n3        10.880   12.2            1992.0    2.0    Dhaka       Dhaka   \n4        10.897   12.2            1984.0    2.0    Dhaka       Dhaka   \n...         ...    ...               ...    ...      ...         ...   \n20410    83.728    7.6            1980.0    1.0  Barisal  Patuakhali   \n20411     3.981    3.2            1979.0    5.0  Barisal     Barisal   \n20412    20.730    NaN               NaN    NaN  Barisal     Barisal   \n20413    28.880    NaN               NaN    NaN  Barisal  Patuakhali   \n20414    33.530    NaN               NaN    NaN  Barisal  Patuakhali   \n\n          division   sub-division        lat        lon EstimatedLoc  \n0      Narayanganj  Narayanganj-1  23.698739  90.458861  interpolate  \n1      Narayanganj  Narayanganj-1  23.694664  90.487775  interpolate  \n2      Narayanganj  Narayanganj-1  23.705060  90.523214  interpolate  \n3      Narayanganj      Vitikandi  23.694391  90.537574  interpolate  \n4      Narayanganj      Vitikandi  23.694302  90.537707  interpolate  \n...            ...            ...        ...        ...          ...  \n20410      Barguna        Barguna  22.183448  90.299962  interpolate  \n20411      Barisal      Barisal-1  22.519353  90.310063  interpolate  \n20412     Pirojpur       Kawkhali  22.282704  89.968512  interpolate  \n20413   Patuakhali     Patuakhali  22.510650  90.535314  interpolate  \n20414   Patuakhali     Patuakhali  22.474325  90.557335  interpolate  \n\n[20415 rows x 19 columns]",
      "text/html": "<div>\n<style scoped>\n    .dataframe tbody tr th:only-of-type {\n        vertical-align: middle;\n    }\n\n    .dataframe tbody tr th {\n        vertical-align: top;\n    }\n\n    .dataframe thead th {\n        text-align: right;\n    }\n</style>\n<table border=\"1\" class=\"dataframe\">\n  <thead>\n    <tr style=\"text-align: right;\">\n      <th></th>\n      <th>road</th>\n      <th>km</th>\n      <th>type</th>\n      <th>lrp</th>\n      <th>length</th>\n      <th>condition</th>\n      <th>structureNr</th>\n      <th>name</th>\n      <th>chainage</th>\n      <th>width</th>\n      <th>constructionYear</th>\n      <th>spans</th>\n      <th>zone</th>\n      <th>circle</th>\n      <th>division</th>\n      <th>sub-division</th>\n      <th>lat</th>\n      <th>lon</th>\n      <th>EstimatedLoc</th>\n    </tr>\n  </thead>\n  <tbody>\n    <tr>\n      <th>0</th>\n      <td>N1</td>\n      <td>1.800</td>\n      <td>Box Culvert</td>\n      <td>LRP001a</td>\n      <td>11.30</td>\n      <td>A</td>\n      <td>117861</td>\n      <td>Dhaka (Jatrabari)-Comilla (Mainamati)-Chittago...</td>\n      <td>1.800</td>\n      <td>19.5</td>\n      <td>2005.0</td>\n      <td>2.0</td>\n      <td>Dhaka</td>\n      <td>Dhaka</td>\n      <td>Narayanganj</td>\n      <td>Narayanganj-1</td>\n      <td>23.698739</td>\n      <td>90.458861</td>\n      <td>interpolate</td>\n    </tr>\n    <tr>\n      <th>1</th>\n      <td>N1</td>\n      <td>4.925</td>\n      <td>Box Culvert</td>\n      <td>LRP004b</td>\n      <td>6.60</td>\n      <td>A</td>\n      <td>117862</td>\n      <td>Dhaka (Jatrabari)-Comilla (Mainamati)-Chittago...</td>\n      <td>4.925</td>\n      <td>35.4</td>\n      <td>2006.0</td>\n      <td>1.0</td>\n      <td>Dhaka</td>\n      <td>Dhaka</td>\n      <td>Narayanganj</td>\n      <td>Narayanganj-1</td>\n      <td>23.694664</td>\n      <td>90.487775</td>\n      <td>interpolate</td>\n    </tr>\n    <tr>\n      <th>2</th>\n      <td>N1</td>\n      <td>8.976</td>\n      <td>PC Girder Bridge</td>\n      <td>LRP008b</td>\n      <td>394.23</td>\n      <td>A</td>\n      <td>119889</td>\n      <td>Dhaka (Jatrabari)-Comilla (Mainamati)-Chittago...</td>\n      <td>8.976</td>\n      <td>NaN</td>\n      <td>NaN</td>\n      <td>NaN</td>\n      <td>Dhaka</td>\n      <td>Dhaka</td>\n      <td>Narayanganj</td>\n      <td>Narayanganj-1</td>\n      <td>23.705060</td>\n      <td>90.523214</td>\n      <td>interpolate</td>\n    </tr>\n    <tr>\n      <th>3</th>\n      <td>N1</td>\n      <td>10.880</td>\n      <td>Box Culvert</td>\n      <td>LRP010b</td>\n      <td>6.30</td>\n      <td>A</td>\n      <td>112531</td>\n      <td>Dhaka (Jatrabari)-Comilla (Mainamati)-Chittago...</td>\n      <td>10.880</td>\n      <td>12.2</td>\n      <td>1992.0</td>\n      <td>2.0</td>\n      <td>Dhaka</td>\n      <td>Dhaka</td>\n      <td>Narayanganj</td>\n      <td>Vitikandi</td>\n      <td>23.694391</td>\n      <td>90.537574</td>\n      <td>interpolate</td>\n    </tr>\n    <tr>\n      <th>4</th>\n      <td>N1</td>\n      <td>10.897</td>\n      <td>Box Culvert</td>\n      <td>LRP010c</td>\n      <td>6.30</td>\n      <td>A</td>\n      <td>112532</td>\n      <td>Dhaka (Jatrabari)-Comilla (Mainamati)-Chittago...</td>\n      <td>10.897</td>\n      <td>12.2</td>\n      <td>1984.0</td>\n      <td>2.0</td>\n      <td>Dhaka</td>\n      <td>Dhaka</td>\n      <td>Narayanganj</td>\n      <td>Vitikandi</td>\n      <td>23.694302</td>\n      <td>90.537707</td>\n      <td>interpolate</td>\n    </tr>\n    <tr>\n      <th>...</th>\n      <td>...</td>\n      <td>...</td>\n      <td>...</td>\n      <td>...</td>\n      <td>...</td>\n      <td>...</td>\n      <td>...</td>\n      <td>...</td>\n      <td>...</td>\n      <td>...</td>\n      <td>...</td>\n      <td>...</td>\n      <td>...</td>\n      <td>...</td>\n      <td>...</td>\n      <td>...</td>\n      <td>...</td>\n      <td>...</td>\n      <td>...</td>\n    </tr>\n    <tr>\n      <th>20410</th>\n      <td>Z8806</td>\n      <td>83.728</td>\n      <td>Box Culvert</td>\n      <td>LRP083a</td>\n      <td>1.78</td>\n      <td>D</td>\n      <td>110470</td>\n      <td>Lebukhali-Dumki-Boga-Bauphal-Kalaiya-Dashmina-...</td>\n      <td>83.728</td>\n      <td>7.6</td>\n      <td>1980.0</td>\n      <td>1.0</td>\n      <td>Barisal</td>\n      <td>Patuakhali</td>\n      <td>Barguna</td>\n      <td>Barguna</td>\n      <td>22.183448</td>\n      <td>90.299962</td>\n      <td>interpolate</td>\n    </tr>\n    <tr>\n      <th>20411</th>\n      <td>Z8810</td>\n      <td>3.981</td>\n      <td>Steel Beam &amp; RCC Slab</td>\n      <td>LRP003b</td>\n      <td>27.20</td>\n      <td>D</td>\n      <td>113458</td>\n      <td>Bakerganj-Padrishibpur-Kathaltali-Subidkhali-B...</td>\n      <td>3.981</td>\n      <td>3.2</td>\n      <td>1979.0</td>\n      <td>5.0</td>\n      <td>Barisal</td>\n      <td>Barisal</td>\n      <td>Barisal</td>\n      <td>Barisal-1</td>\n      <td>22.519353</td>\n      <td>90.310063</td>\n      <td>interpolate</td>\n    </tr>\n    <tr>\n      <th>20412</th>\n      <td>Z8814</td>\n      <td>20.730</td>\n      <td>Baily with Steel Deck</td>\n      <td>LRP020b</td>\n      <td>30.50</td>\n      <td>D</td>\n      <td>121147</td>\n      <td>Barguna (Dakhin Ramna Kheya Ghat)-Dewatala-Mat...</td>\n      <td>20.730</td>\n      <td>NaN</td>\n      <td>NaN</td>\n      <td>NaN</td>\n      <td>Barisal</td>\n      <td>Barisal</td>\n      <td>Pirojpur</td>\n      <td>Kawkhali</td>\n      <td>22.282704</td>\n      <td>89.968512</td>\n      <td>interpolate</td>\n    </tr>\n    <tr>\n      <th>20413</th>\n      <td>Z8910</td>\n      <td>28.880</td>\n      <td>RCC Girder Bridge</td>\n      <td>LRP028a</td>\n      <td>9.50</td>\n      <td>D</td>\n      <td>119249</td>\n      <td>Barisal (Bairagirpool)-Tumchar-Bauphaul Road</td>\n      <td>28.880</td>\n      <td>NaN</td>\n      <td>NaN</td>\n      <td>NaN</td>\n      <td>Barisal</td>\n      <td>Patuakhali</td>\n      <td>Patuakhali</td>\n      <td>Patuakhali</td>\n      <td>22.510650</td>\n      <td>90.535314</td>\n      <td>interpolate</td>\n    </tr>\n    <tr>\n      <th>20414</th>\n      <td>Z8910</td>\n      <td>33.530</td>\n      <td>RCC Girder Bridge</td>\n      <td>LRP033c</td>\n      <td>6.00</td>\n      <td>D</td>\n      <td>119254</td>\n      <td>Barisal (Bairagirpool)-Tumchar-Bauphaul Road</td>\n      <td>33.530</td>\n      <td>NaN</td>\n      <td>NaN</td>\n      <td>NaN</td>\n      <td>Barisal</td>\n      <td>Patuakhali</td>\n      <td>Patuakhali</td>\n      <td>Patuakhali</td>\n      <td>22.474325</td>\n      <td>90.557335</td>\n      <td>interpolate</td>\n    </tr>\n  </tbody>\n</table>\n<p>20415 rows × 19 columns</p>\n</div>"
     },
     "execution_count": 59,
     "metadata": {},
     "output_type": "execute_result"
    }
   ],
   "source": [
    "# Rename columns, to make it possible to merge\n",
    "bridges_df.rename(columns={'LRPName': 'lrp', 'roadName': 'name'}, inplace=True)\n",
    "bridges_df"
   ],
   "metadata": {
    "collapsed": false,
    "ExecuteTime": {
     "end_time": "2024-03-30T09:59:55.992959700Z",
     "start_time": "2024-03-30T09:59:55.945003200Z"
    }
   },
   "execution_count": 59
  },
  {
   "cell_type": "code",
   "outputs": [
    {
     "data": {
      "text/plain": "        road      km                   type      lrp  length condition  \\\n0         N1   1.800            Box Culvert  LRP001a   11.30         A   \n1         N1   4.925            Box Culvert  LRP004b    6.60         A   \n2         N1   8.976       PC Girder Bridge  LRP008b  394.23         A   \n3         N1  10.880            Box Culvert  LRP010b    6.30         A   \n4         N1  10.897            Box Culvert  LRP010c    6.30         A   \n...      ...     ...                    ...      ...     ...       ...   \n20410  Z8806  83.728            Box Culvert  LRP083a    1.78         D   \n20411  Z8810   3.981  Steel Beam & RCC Slab  LRP003b   27.20         D   \n20412  Z8814  20.730  Baily with Steel Deck  LRP020b   30.50         D   \n20413  Z8910  28.880      RCC Girder Bridge  LRP028a    9.50         D   \n20414  Z8910  33.530      RCC Girder Bridge  LRP033c    6.00         D   \n\n       structureNr                                               name  \\\n0           117861  Dhaka (Jatrabari)-Comilla (Mainamati)-Chittago...   \n1           117862  Dhaka (Jatrabari)-Comilla (Mainamati)-Chittago...   \n2           119889  Dhaka (Jatrabari)-Comilla (Mainamati)-Chittago...   \n3           112531  Dhaka (Jatrabari)-Comilla (Mainamati)-Chittago...   \n4           112532  Dhaka (Jatrabari)-Comilla (Mainamati)-Chittago...   \n...            ...                                                ...   \n20410       110470  Lebukhali-Dumki-Boga-Bauphal-Kalaiya-Dashmina-...   \n20411       113458  Bakerganj-Padrishibpur-Kathaltali-Subidkhali-B...   \n20412       121147  Barguna (Dakhin Ramna Kheya Ghat)-Dewatala-Mat...   \n20413       119249       Barisal (Bairagirpool)-Tumchar-Bauphaul Road   \n20414       119254       Barisal (Bairagirpool)-Tumchar-Bauphaul Road   \n\n       chainage  width  constructionYear  spans     zone      circle  \\\n0         1.800   19.5            2005.0    2.0    Dhaka       Dhaka   \n1         4.925   35.4            2006.0    1.0    Dhaka       Dhaka   \n2         8.976    NaN               NaN    NaN    Dhaka       Dhaka   \n3        10.880   12.2            1992.0    2.0    Dhaka       Dhaka   \n4        10.897   12.2            1984.0    2.0    Dhaka       Dhaka   \n...         ...    ...               ...    ...      ...         ...   \n20410    83.728    7.6            1980.0    1.0  Barisal  Patuakhali   \n20411     3.981    3.2            1979.0    5.0  Barisal     Barisal   \n20412    20.730    NaN               NaN    NaN  Barisal     Barisal   \n20413    28.880    NaN               NaN    NaN  Barisal  Patuakhali   \n20414    33.530    NaN               NaN    NaN  Barisal  Patuakhali   \n\n          division   sub-division        lat        lon EstimatedLoc  \\\n0      Narayanganj  Narayanganj-1  23.698739  90.458861  interpolate   \n1      Narayanganj  Narayanganj-1  23.694664  90.487775  interpolate   \n2      Narayanganj  Narayanganj-1  23.705060  90.523214  interpolate   \n3      Narayanganj      Vitikandi  23.694391  90.537574  interpolate   \n4      Narayanganj      Vitikandi  23.694302  90.537707  interpolate   \n...            ...            ...        ...        ...          ...   \n20410      Barguna        Barguna  22.183448  90.299962  interpolate   \n20411      Barisal      Barisal-1  22.519353  90.310063  interpolate   \n20412     Pirojpur       Kawkhali  22.282704  89.968512  interpolate   \n20413   Patuakhali     Patuakhali  22.510650  90.535314  interpolate   \n20414   Patuakhali     Patuakhali  22.474325  90.557335  interpolate   \n\n      model_type  \n0         bridge  \n1         bridge  \n2         bridge  \n3         bridge  \n4         bridge  \n...          ...  \n20410     bridge  \n20411     bridge  \n20412     bridge  \n20413     bridge  \n20414     bridge  \n\n[20415 rows x 20 columns]",
      "text/html": "<div>\n<style scoped>\n    .dataframe tbody tr th:only-of-type {\n        vertical-align: middle;\n    }\n\n    .dataframe tbody tr th {\n        vertical-align: top;\n    }\n\n    .dataframe thead th {\n        text-align: right;\n    }\n</style>\n<table border=\"1\" class=\"dataframe\">\n  <thead>\n    <tr style=\"text-align: right;\">\n      <th></th>\n      <th>road</th>\n      <th>km</th>\n      <th>type</th>\n      <th>lrp</th>\n      <th>length</th>\n      <th>condition</th>\n      <th>structureNr</th>\n      <th>name</th>\n      <th>chainage</th>\n      <th>width</th>\n      <th>constructionYear</th>\n      <th>spans</th>\n      <th>zone</th>\n      <th>circle</th>\n      <th>division</th>\n      <th>sub-division</th>\n      <th>lat</th>\n      <th>lon</th>\n      <th>EstimatedLoc</th>\n      <th>model_type</th>\n    </tr>\n  </thead>\n  <tbody>\n    <tr>\n      <th>0</th>\n      <td>N1</td>\n      <td>1.800</td>\n      <td>Box Culvert</td>\n      <td>LRP001a</td>\n      <td>11.30</td>\n      <td>A</td>\n      <td>117861</td>\n      <td>Dhaka (Jatrabari)-Comilla (Mainamati)-Chittago...</td>\n      <td>1.800</td>\n      <td>19.5</td>\n      <td>2005.0</td>\n      <td>2.0</td>\n      <td>Dhaka</td>\n      <td>Dhaka</td>\n      <td>Narayanganj</td>\n      <td>Narayanganj-1</td>\n      <td>23.698739</td>\n      <td>90.458861</td>\n      <td>interpolate</td>\n      <td>bridge</td>\n    </tr>\n    <tr>\n      <th>1</th>\n      <td>N1</td>\n      <td>4.925</td>\n      <td>Box Culvert</td>\n      <td>LRP004b</td>\n      <td>6.60</td>\n      <td>A</td>\n      <td>117862</td>\n      <td>Dhaka (Jatrabari)-Comilla (Mainamati)-Chittago...</td>\n      <td>4.925</td>\n      <td>35.4</td>\n      <td>2006.0</td>\n      <td>1.0</td>\n      <td>Dhaka</td>\n      <td>Dhaka</td>\n      <td>Narayanganj</td>\n      <td>Narayanganj-1</td>\n      <td>23.694664</td>\n      <td>90.487775</td>\n      <td>interpolate</td>\n      <td>bridge</td>\n    </tr>\n    <tr>\n      <th>2</th>\n      <td>N1</td>\n      <td>8.976</td>\n      <td>PC Girder Bridge</td>\n      <td>LRP008b</td>\n      <td>394.23</td>\n      <td>A</td>\n      <td>119889</td>\n      <td>Dhaka (Jatrabari)-Comilla (Mainamati)-Chittago...</td>\n      <td>8.976</td>\n      <td>NaN</td>\n      <td>NaN</td>\n      <td>NaN</td>\n      <td>Dhaka</td>\n      <td>Dhaka</td>\n      <td>Narayanganj</td>\n      <td>Narayanganj-1</td>\n      <td>23.705060</td>\n      <td>90.523214</td>\n      <td>interpolate</td>\n      <td>bridge</td>\n    </tr>\n    <tr>\n      <th>3</th>\n      <td>N1</td>\n      <td>10.880</td>\n      <td>Box Culvert</td>\n      <td>LRP010b</td>\n      <td>6.30</td>\n      <td>A</td>\n      <td>112531</td>\n      <td>Dhaka (Jatrabari)-Comilla (Mainamati)-Chittago...</td>\n      <td>10.880</td>\n      <td>12.2</td>\n      <td>1992.0</td>\n      <td>2.0</td>\n      <td>Dhaka</td>\n      <td>Dhaka</td>\n      <td>Narayanganj</td>\n      <td>Vitikandi</td>\n      <td>23.694391</td>\n      <td>90.537574</td>\n      <td>interpolate</td>\n      <td>bridge</td>\n    </tr>\n    <tr>\n      <th>4</th>\n      <td>N1</td>\n      <td>10.897</td>\n      <td>Box Culvert</td>\n      <td>LRP010c</td>\n      <td>6.30</td>\n      <td>A</td>\n      <td>112532</td>\n      <td>Dhaka (Jatrabari)-Comilla (Mainamati)-Chittago...</td>\n      <td>10.897</td>\n      <td>12.2</td>\n      <td>1984.0</td>\n      <td>2.0</td>\n      <td>Dhaka</td>\n      <td>Dhaka</td>\n      <td>Narayanganj</td>\n      <td>Vitikandi</td>\n      <td>23.694302</td>\n      <td>90.537707</td>\n      <td>interpolate</td>\n      <td>bridge</td>\n    </tr>\n    <tr>\n      <th>...</th>\n      <td>...</td>\n      <td>...</td>\n      <td>...</td>\n      <td>...</td>\n      <td>...</td>\n      <td>...</td>\n      <td>...</td>\n      <td>...</td>\n      <td>...</td>\n      <td>...</td>\n      <td>...</td>\n      <td>...</td>\n      <td>...</td>\n      <td>...</td>\n      <td>...</td>\n      <td>...</td>\n      <td>...</td>\n      <td>...</td>\n      <td>...</td>\n      <td>...</td>\n    </tr>\n    <tr>\n      <th>20410</th>\n      <td>Z8806</td>\n      <td>83.728</td>\n      <td>Box Culvert</td>\n      <td>LRP083a</td>\n      <td>1.78</td>\n      <td>D</td>\n      <td>110470</td>\n      <td>Lebukhali-Dumki-Boga-Bauphal-Kalaiya-Dashmina-...</td>\n      <td>83.728</td>\n      <td>7.6</td>\n      <td>1980.0</td>\n      <td>1.0</td>\n      <td>Barisal</td>\n      <td>Patuakhali</td>\n      <td>Barguna</td>\n      <td>Barguna</td>\n      <td>22.183448</td>\n      <td>90.299962</td>\n      <td>interpolate</td>\n      <td>bridge</td>\n    </tr>\n    <tr>\n      <th>20411</th>\n      <td>Z8810</td>\n      <td>3.981</td>\n      <td>Steel Beam &amp; RCC Slab</td>\n      <td>LRP003b</td>\n      <td>27.20</td>\n      <td>D</td>\n      <td>113458</td>\n      <td>Bakerganj-Padrishibpur-Kathaltali-Subidkhali-B...</td>\n      <td>3.981</td>\n      <td>3.2</td>\n      <td>1979.0</td>\n      <td>5.0</td>\n      <td>Barisal</td>\n      <td>Barisal</td>\n      <td>Barisal</td>\n      <td>Barisal-1</td>\n      <td>22.519353</td>\n      <td>90.310063</td>\n      <td>interpolate</td>\n      <td>bridge</td>\n    </tr>\n    <tr>\n      <th>20412</th>\n      <td>Z8814</td>\n      <td>20.730</td>\n      <td>Baily with Steel Deck</td>\n      <td>LRP020b</td>\n      <td>30.50</td>\n      <td>D</td>\n      <td>121147</td>\n      <td>Barguna (Dakhin Ramna Kheya Ghat)-Dewatala-Mat...</td>\n      <td>20.730</td>\n      <td>NaN</td>\n      <td>NaN</td>\n      <td>NaN</td>\n      <td>Barisal</td>\n      <td>Barisal</td>\n      <td>Pirojpur</td>\n      <td>Kawkhali</td>\n      <td>22.282704</td>\n      <td>89.968512</td>\n      <td>interpolate</td>\n      <td>bridge</td>\n    </tr>\n    <tr>\n      <th>20413</th>\n      <td>Z8910</td>\n      <td>28.880</td>\n      <td>RCC Girder Bridge</td>\n      <td>LRP028a</td>\n      <td>9.50</td>\n      <td>D</td>\n      <td>119249</td>\n      <td>Barisal (Bairagirpool)-Tumchar-Bauphaul Road</td>\n      <td>28.880</td>\n      <td>NaN</td>\n      <td>NaN</td>\n      <td>NaN</td>\n      <td>Barisal</td>\n      <td>Patuakhali</td>\n      <td>Patuakhali</td>\n      <td>Patuakhali</td>\n      <td>22.510650</td>\n      <td>90.535314</td>\n      <td>interpolate</td>\n      <td>bridge</td>\n    </tr>\n    <tr>\n      <th>20414</th>\n      <td>Z8910</td>\n      <td>33.530</td>\n      <td>RCC Girder Bridge</td>\n      <td>LRP033c</td>\n      <td>6.00</td>\n      <td>D</td>\n      <td>119254</td>\n      <td>Barisal (Bairagirpool)-Tumchar-Bauphaul Road</td>\n      <td>33.530</td>\n      <td>NaN</td>\n      <td>NaN</td>\n      <td>NaN</td>\n      <td>Barisal</td>\n      <td>Patuakhali</td>\n      <td>Patuakhali</td>\n      <td>Patuakhali</td>\n      <td>22.474325</td>\n      <td>90.557335</td>\n      <td>interpolate</td>\n      <td>bridge</td>\n    </tr>\n  </tbody>\n</table>\n<p>20415 rows × 20 columns</p>\n</div>"
     },
     "execution_count": 60,
     "metadata": {},
     "output_type": "execute_result"
    }
   ],
   "source": [
    "# Add a new column \"model_type\" and assign the value \"bridge\" to all rows\n",
    "bridges_df['model_type'] = 'bridge'\n",
    "bridges_df\n"
   ],
   "metadata": {
    "collapsed": false,
    "ExecuteTime": {
     "end_time": "2024-03-30T10:00:49.235528800Z",
     "start_time": "2024-03-30T10:00:49.156666400Z"
    }
   },
   "execution_count": 60
  },
  {
   "cell_type": "code",
   "outputs": [
    {
     "data": {
      "text/plain": "        road      lrp  chainage        lat        lon  \\\n0         N1  LRP001a     1.800  23.698739  90.458861   \n1         N1  LRP004b     4.925  23.694664  90.487775   \n2         N1  LRP008b     8.976  23.705060  90.523214   \n3         N1  LRP010b    10.880  23.694391  90.537574   \n4         N1  LRP010c    10.897  23.694302  90.537707   \n...      ...      ...       ...        ...        ...   \n20410  Z8806  LRP083a    83.728  22.183448  90.299962   \n20411  Z8810  LRP003b     3.981  22.519353  90.310063   \n20412  Z8814  LRP020b    20.730  22.282704  89.968512   \n20413  Z8910  LRP028a    28.880  22.510650  90.535314   \n20414  Z8910  LRP033c    33.530  22.474325  90.557335   \n\n                                                    name model_type condition  \n0      Dhaka (Jatrabari)-Comilla (Mainamati)-Chittago...     bridge         A  \n1      Dhaka (Jatrabari)-Comilla (Mainamati)-Chittago...     bridge         A  \n2      Dhaka (Jatrabari)-Comilla (Mainamati)-Chittago...     bridge         A  \n3      Dhaka (Jatrabari)-Comilla (Mainamati)-Chittago...     bridge         A  \n4      Dhaka (Jatrabari)-Comilla (Mainamati)-Chittago...     bridge         A  \n...                                                  ...        ...       ...  \n20410  Lebukhali-Dumki-Boga-Bauphal-Kalaiya-Dashmina-...     bridge         D  \n20411  Bakerganj-Padrishibpur-Kathaltali-Subidkhali-B...     bridge         D  \n20412  Barguna (Dakhin Ramna Kheya Ghat)-Dewatala-Mat...     bridge         D  \n20413       Barisal (Bairagirpool)-Tumchar-Bauphaul Road     bridge         D  \n20414       Barisal (Bairagirpool)-Tumchar-Bauphaul Road     bridge         D  \n\n[20415 rows x 8 columns]",
      "text/html": "<div>\n<style scoped>\n    .dataframe tbody tr th:only-of-type {\n        vertical-align: middle;\n    }\n\n    .dataframe tbody tr th {\n        vertical-align: top;\n    }\n\n    .dataframe thead th {\n        text-align: right;\n    }\n</style>\n<table border=\"1\" class=\"dataframe\">\n  <thead>\n    <tr style=\"text-align: right;\">\n      <th></th>\n      <th>road</th>\n      <th>lrp</th>\n      <th>chainage</th>\n      <th>lat</th>\n      <th>lon</th>\n      <th>name</th>\n      <th>model_type</th>\n      <th>condition</th>\n    </tr>\n  </thead>\n  <tbody>\n    <tr>\n      <th>0</th>\n      <td>N1</td>\n      <td>LRP001a</td>\n      <td>1.800</td>\n      <td>23.698739</td>\n      <td>90.458861</td>\n      <td>Dhaka (Jatrabari)-Comilla (Mainamati)-Chittago...</td>\n      <td>bridge</td>\n      <td>A</td>\n    </tr>\n    <tr>\n      <th>1</th>\n      <td>N1</td>\n      <td>LRP004b</td>\n      <td>4.925</td>\n      <td>23.694664</td>\n      <td>90.487775</td>\n      <td>Dhaka (Jatrabari)-Comilla (Mainamati)-Chittago...</td>\n      <td>bridge</td>\n      <td>A</td>\n    </tr>\n    <tr>\n      <th>2</th>\n      <td>N1</td>\n      <td>LRP008b</td>\n      <td>8.976</td>\n      <td>23.705060</td>\n      <td>90.523214</td>\n      <td>Dhaka (Jatrabari)-Comilla (Mainamati)-Chittago...</td>\n      <td>bridge</td>\n      <td>A</td>\n    </tr>\n    <tr>\n      <th>3</th>\n      <td>N1</td>\n      <td>LRP010b</td>\n      <td>10.880</td>\n      <td>23.694391</td>\n      <td>90.537574</td>\n      <td>Dhaka (Jatrabari)-Comilla (Mainamati)-Chittago...</td>\n      <td>bridge</td>\n      <td>A</td>\n    </tr>\n    <tr>\n      <th>4</th>\n      <td>N1</td>\n      <td>LRP010c</td>\n      <td>10.897</td>\n      <td>23.694302</td>\n      <td>90.537707</td>\n      <td>Dhaka (Jatrabari)-Comilla (Mainamati)-Chittago...</td>\n      <td>bridge</td>\n      <td>A</td>\n    </tr>\n    <tr>\n      <th>...</th>\n      <td>...</td>\n      <td>...</td>\n      <td>...</td>\n      <td>...</td>\n      <td>...</td>\n      <td>...</td>\n      <td>...</td>\n      <td>...</td>\n    </tr>\n    <tr>\n      <th>20410</th>\n      <td>Z8806</td>\n      <td>LRP083a</td>\n      <td>83.728</td>\n      <td>22.183448</td>\n      <td>90.299962</td>\n      <td>Lebukhali-Dumki-Boga-Bauphal-Kalaiya-Dashmina-...</td>\n      <td>bridge</td>\n      <td>D</td>\n    </tr>\n    <tr>\n      <th>20411</th>\n      <td>Z8810</td>\n      <td>LRP003b</td>\n      <td>3.981</td>\n      <td>22.519353</td>\n      <td>90.310063</td>\n      <td>Bakerganj-Padrishibpur-Kathaltali-Subidkhali-B...</td>\n      <td>bridge</td>\n      <td>D</td>\n    </tr>\n    <tr>\n      <th>20412</th>\n      <td>Z8814</td>\n      <td>LRP020b</td>\n      <td>20.730</td>\n      <td>22.282704</td>\n      <td>89.968512</td>\n      <td>Barguna (Dakhin Ramna Kheya Ghat)-Dewatala-Mat...</td>\n      <td>bridge</td>\n      <td>D</td>\n    </tr>\n    <tr>\n      <th>20413</th>\n      <td>Z8910</td>\n      <td>LRP028a</td>\n      <td>28.880</td>\n      <td>22.510650</td>\n      <td>90.535314</td>\n      <td>Barisal (Bairagirpool)-Tumchar-Bauphaul Road</td>\n      <td>bridge</td>\n      <td>D</td>\n    </tr>\n    <tr>\n      <th>20414</th>\n      <td>Z8910</td>\n      <td>LRP033c</td>\n      <td>33.530</td>\n      <td>22.474325</td>\n      <td>90.557335</td>\n      <td>Barisal (Bairagirpool)-Tumchar-Bauphaul Road</td>\n      <td>bridge</td>\n      <td>D</td>\n    </tr>\n  </tbody>\n</table>\n<p>20415 rows × 8 columns</p>\n</div>"
     },
     "execution_count": 61,
     "metadata": {},
     "output_type": "execute_result"
    }
   ],
   "source": [
    "bridges_df1 = bridges_df.copy()\n",
    "# Drop all columns except 'road', 'lrp', 'chainage', 'lat', and 'lon', 'model_type' and 'condition\n",
    "bridges_df1 = bridges_df1[['road', 'lrp', 'chainage', 'lat', 'lon', 'name', 'model_type', 'condition']]\n",
    "bridges_df1"
   ],
   "metadata": {
    "collapsed": false,
    "ExecuteTime": {
     "end_time": "2024-03-30T10:00:57.536246900Z",
     "start_time": "2024-03-30T10:00:57.457809600Z"
    }
   },
   "execution_count": 61
  },
  {
   "cell_type": "code",
   "outputs": [
    {
     "data": {
      "text/plain": "        road      lrp  chainage        lat        lon  \\\n0         N1  LRP001a     1.800  23.698739  90.458861   \n1         N1  LRP004b     4.925  23.694664  90.487775   \n2         N1  LRP008b     8.976  23.705060  90.523214   \n3         N1  LRP010b    10.880  23.694391  90.537574   \n4         N1  LRP010c    10.897  23.694302  90.537707   \n...      ...      ...       ...        ...        ...   \n20410  Z8806  LRP083a    83.728  22.183448  90.299962   \n20411  Z8810  LRP003b     3.981  22.519353  90.310063   \n20412  Z8814  LRP020b    20.730  22.282704  89.968512   \n20413  Z8910  LRP028a    28.880  22.510650  90.535314   \n20414  Z8910  LRP033c    33.530  22.474325  90.557335   \n\n                                                    name model_type condition  \\\n0      Dhaka (Jatrabari)-Comilla (Mainamati)-Chittago...     bridge         A   \n1      Dhaka (Jatrabari)-Comilla (Mainamati)-Chittago...     bridge         A   \n2      Dhaka (Jatrabari)-Comilla (Mainamati)-Chittago...     bridge         A   \n3      Dhaka (Jatrabari)-Comilla (Mainamati)-Chittago...     bridge         A   \n4      Dhaka (Jatrabari)-Comilla (Mainamati)-Chittago...     bridge         A   \n...                                                  ...        ...       ...   \n20410  Lebukhali-Dumki-Boga-Bauphal-Kalaiya-Dashmina-...     bridge         D   \n20411  Bakerganj-Padrishibpur-Kathaltali-Subidkhali-B...     bridge         D   \n20412  Barguna (Dakhin Ramna Kheya Ghat)-Dewatala-Mat...     bridge         D   \n20413       Barisal (Bairagirpool)-Tumchar-Bauphaul Road     bridge         D   \n20414       Barisal (Bairagirpool)-Tumchar-Bauphaul Road     bridge         D   \n\n       AADT  \n0       NaN  \n1       NaN  \n2       NaN  \n3       NaN  \n4       NaN  \n...     ...  \n20410   NaN  \n20411   NaN  \n20412   NaN  \n20413   NaN  \n20414   NaN  \n\n[20415 rows x 9 columns]",
      "text/html": "<div>\n<style scoped>\n    .dataframe tbody tr th:only-of-type {\n        vertical-align: middle;\n    }\n\n    .dataframe tbody tr th {\n        vertical-align: top;\n    }\n\n    .dataframe thead th {\n        text-align: right;\n    }\n</style>\n<table border=\"1\" class=\"dataframe\">\n  <thead>\n    <tr style=\"text-align: right;\">\n      <th></th>\n      <th>road</th>\n      <th>lrp</th>\n      <th>chainage</th>\n      <th>lat</th>\n      <th>lon</th>\n      <th>name</th>\n      <th>model_type</th>\n      <th>condition</th>\n      <th>AADT</th>\n    </tr>\n  </thead>\n  <tbody>\n    <tr>\n      <th>0</th>\n      <td>N1</td>\n      <td>LRP001a</td>\n      <td>1.800</td>\n      <td>23.698739</td>\n      <td>90.458861</td>\n      <td>Dhaka (Jatrabari)-Comilla (Mainamati)-Chittago...</td>\n      <td>bridge</td>\n      <td>A</td>\n      <td>NaN</td>\n    </tr>\n    <tr>\n      <th>1</th>\n      <td>N1</td>\n      <td>LRP004b</td>\n      <td>4.925</td>\n      <td>23.694664</td>\n      <td>90.487775</td>\n      <td>Dhaka (Jatrabari)-Comilla (Mainamati)-Chittago...</td>\n      <td>bridge</td>\n      <td>A</td>\n      <td>NaN</td>\n    </tr>\n    <tr>\n      <th>2</th>\n      <td>N1</td>\n      <td>LRP008b</td>\n      <td>8.976</td>\n      <td>23.705060</td>\n      <td>90.523214</td>\n      <td>Dhaka (Jatrabari)-Comilla (Mainamati)-Chittago...</td>\n      <td>bridge</td>\n      <td>A</td>\n      <td>NaN</td>\n    </tr>\n    <tr>\n      <th>3</th>\n      <td>N1</td>\n      <td>LRP010b</td>\n      <td>10.880</td>\n      <td>23.694391</td>\n      <td>90.537574</td>\n      <td>Dhaka (Jatrabari)-Comilla (Mainamati)-Chittago...</td>\n      <td>bridge</td>\n      <td>A</td>\n      <td>NaN</td>\n    </tr>\n    <tr>\n      <th>4</th>\n      <td>N1</td>\n      <td>LRP010c</td>\n      <td>10.897</td>\n      <td>23.694302</td>\n      <td>90.537707</td>\n      <td>Dhaka (Jatrabari)-Comilla (Mainamati)-Chittago...</td>\n      <td>bridge</td>\n      <td>A</td>\n      <td>NaN</td>\n    </tr>\n    <tr>\n      <th>...</th>\n      <td>...</td>\n      <td>...</td>\n      <td>...</td>\n      <td>...</td>\n      <td>...</td>\n      <td>...</td>\n      <td>...</td>\n      <td>...</td>\n      <td>...</td>\n    </tr>\n    <tr>\n      <th>20410</th>\n      <td>Z8806</td>\n      <td>LRP083a</td>\n      <td>83.728</td>\n      <td>22.183448</td>\n      <td>90.299962</td>\n      <td>Lebukhali-Dumki-Boga-Bauphal-Kalaiya-Dashmina-...</td>\n      <td>bridge</td>\n      <td>D</td>\n      <td>NaN</td>\n    </tr>\n    <tr>\n      <th>20411</th>\n      <td>Z8810</td>\n      <td>LRP003b</td>\n      <td>3.981</td>\n      <td>22.519353</td>\n      <td>90.310063</td>\n      <td>Bakerganj-Padrishibpur-Kathaltali-Subidkhali-B...</td>\n      <td>bridge</td>\n      <td>D</td>\n      <td>NaN</td>\n    </tr>\n    <tr>\n      <th>20412</th>\n      <td>Z8814</td>\n      <td>LRP020b</td>\n      <td>20.730</td>\n      <td>22.282704</td>\n      <td>89.968512</td>\n      <td>Barguna (Dakhin Ramna Kheya Ghat)-Dewatala-Mat...</td>\n      <td>bridge</td>\n      <td>D</td>\n      <td>NaN</td>\n    </tr>\n    <tr>\n      <th>20413</th>\n      <td>Z8910</td>\n      <td>LRP028a</td>\n      <td>28.880</td>\n      <td>22.510650</td>\n      <td>90.535314</td>\n      <td>Barisal (Bairagirpool)-Tumchar-Bauphaul Road</td>\n      <td>bridge</td>\n      <td>D</td>\n      <td>NaN</td>\n    </tr>\n    <tr>\n      <th>20414</th>\n      <td>Z8910</td>\n      <td>LRP033c</td>\n      <td>33.530</td>\n      <td>22.474325</td>\n      <td>90.557335</td>\n      <td>Barisal (Bairagirpool)-Tumchar-Bauphaul Road</td>\n      <td>bridge</td>\n      <td>D</td>\n      <td>NaN</td>\n    </tr>\n  </tbody>\n</table>\n<p>20415 rows × 9 columns</p>\n</div>"
     },
     "execution_count": 62,
     "metadata": {},
     "output_type": "execute_result"
    }
   ],
   "source": [
    "# Add AADT column to make it possible to merge with the road/html dataset.\n",
    "bridges_df1['AADT'] = np.nan\n",
    "bridges_df1"
   ],
   "metadata": {
    "collapsed": false,
    "ExecuteTime": {
     "end_time": "2024-03-30T10:01:00.087478100Z",
     "start_time": "2024-03-30T10:01:00.003962600Z"
    }
   },
   "execution_count": 62
  },
  {
   "cell_type": "code",
   "outputs": [
    {
     "data": {
      "text/plain": "       road      lrp  chainage        lat        lon  \\\n0        N1  LRP001a     1.800  23.698739  90.458861   \n1        N1  LRP004b     4.925  23.694664  90.487775   \n2        N1  LRP008b     8.976  23.705060  90.523214   \n3        N1  LRP010b    10.880  23.694391  90.537574   \n4        N1  LRP010c    10.897  23.694302  90.537707   \n...     ...      ...       ...        ...        ...   \n19688  R870  LRP038d    39.661  22.505656  90.099252   \n19689  R881  LRP021a    21.056  21.964726  90.198521   \n19690  R881  LRP021b    21.770  21.960859  90.193066   \n19691  R881  LRP027a    27.273  21.924303  90.157230   \n19692  R890  LRP029b    29.847  22.498029  90.723139   \n\n                                                    name model_type condition  \\\n0      Dhaka (Jatrabari)-Comilla (Mainamati)-Chittago...     bridge         A   \n1      Dhaka (Jatrabari)-Comilla (Mainamati)-Chittago...     bridge         A   \n2      Dhaka (Jatrabari)-Comilla (Mainamati)-Chittago...     bridge         A   \n3      Dhaka (Jatrabari)-Comilla (Mainamati)-Chittago...     bridge         A   \n4      Dhaka (Jatrabari)-Comilla (Mainamati)-Chittago...     bridge         A   \n...                                                  ...        ...       ...   \n19688  Barisal-Jhalokati-Rajapur-Bhandaria-Pirojpur Road     bridge         D   \n19689                      Amtali-Khepupara-Kuakata Road     bridge         D   \n19690                      Amtali-Khepupara-Kuakata Road     bridge         D   \n19691                      Amtali-Khepupara-Kuakata Road     bridge         D   \n19692  Bhola (Paran Talukderhat)-Burhanuddin-Lalmohon...     bridge         D   \n\n       AADT  \n0       NaN  \n1       NaN  \n2       NaN  \n3       NaN  \n4       NaN  \n...     ...  \n19688   NaN  \n19689   NaN  \n19690   NaN  \n19691   NaN  \n19692   NaN  \n\n[8258 rows x 9 columns]",
      "text/html": "<div>\n<style scoped>\n    .dataframe tbody tr th:only-of-type {\n        vertical-align: middle;\n    }\n\n    .dataframe tbody tr th {\n        vertical-align: top;\n    }\n\n    .dataframe thead th {\n        text-align: right;\n    }\n</style>\n<table border=\"1\" class=\"dataframe\">\n  <thead>\n    <tr style=\"text-align: right;\">\n      <th></th>\n      <th>road</th>\n      <th>lrp</th>\n      <th>chainage</th>\n      <th>lat</th>\n      <th>lon</th>\n      <th>name</th>\n      <th>model_type</th>\n      <th>condition</th>\n      <th>AADT</th>\n    </tr>\n  </thead>\n  <tbody>\n    <tr>\n      <th>0</th>\n      <td>N1</td>\n      <td>LRP001a</td>\n      <td>1.800</td>\n      <td>23.698739</td>\n      <td>90.458861</td>\n      <td>Dhaka (Jatrabari)-Comilla (Mainamati)-Chittago...</td>\n      <td>bridge</td>\n      <td>A</td>\n      <td>NaN</td>\n    </tr>\n    <tr>\n      <th>1</th>\n      <td>N1</td>\n      <td>LRP004b</td>\n      <td>4.925</td>\n      <td>23.694664</td>\n      <td>90.487775</td>\n      <td>Dhaka (Jatrabari)-Comilla (Mainamati)-Chittago...</td>\n      <td>bridge</td>\n      <td>A</td>\n      <td>NaN</td>\n    </tr>\n    <tr>\n      <th>2</th>\n      <td>N1</td>\n      <td>LRP008b</td>\n      <td>8.976</td>\n      <td>23.705060</td>\n      <td>90.523214</td>\n      <td>Dhaka (Jatrabari)-Comilla (Mainamati)-Chittago...</td>\n      <td>bridge</td>\n      <td>A</td>\n      <td>NaN</td>\n    </tr>\n    <tr>\n      <th>3</th>\n      <td>N1</td>\n      <td>LRP010b</td>\n      <td>10.880</td>\n      <td>23.694391</td>\n      <td>90.537574</td>\n      <td>Dhaka (Jatrabari)-Comilla (Mainamati)-Chittago...</td>\n      <td>bridge</td>\n      <td>A</td>\n      <td>NaN</td>\n    </tr>\n    <tr>\n      <th>4</th>\n      <td>N1</td>\n      <td>LRP010c</td>\n      <td>10.897</td>\n      <td>23.694302</td>\n      <td>90.537707</td>\n      <td>Dhaka (Jatrabari)-Comilla (Mainamati)-Chittago...</td>\n      <td>bridge</td>\n      <td>A</td>\n      <td>NaN</td>\n    </tr>\n    <tr>\n      <th>...</th>\n      <td>...</td>\n      <td>...</td>\n      <td>...</td>\n      <td>...</td>\n      <td>...</td>\n      <td>...</td>\n      <td>...</td>\n      <td>...</td>\n      <td>...</td>\n    </tr>\n    <tr>\n      <th>19688</th>\n      <td>R870</td>\n      <td>LRP038d</td>\n      <td>39.661</td>\n      <td>22.505656</td>\n      <td>90.099252</td>\n      <td>Barisal-Jhalokati-Rajapur-Bhandaria-Pirojpur Road</td>\n      <td>bridge</td>\n      <td>D</td>\n      <td>NaN</td>\n    </tr>\n    <tr>\n      <th>19689</th>\n      <td>R881</td>\n      <td>LRP021a</td>\n      <td>21.056</td>\n      <td>21.964726</td>\n      <td>90.198521</td>\n      <td>Amtali-Khepupara-Kuakata Road</td>\n      <td>bridge</td>\n      <td>D</td>\n      <td>NaN</td>\n    </tr>\n    <tr>\n      <th>19690</th>\n      <td>R881</td>\n      <td>LRP021b</td>\n      <td>21.770</td>\n      <td>21.960859</td>\n      <td>90.193066</td>\n      <td>Amtali-Khepupara-Kuakata Road</td>\n      <td>bridge</td>\n      <td>D</td>\n      <td>NaN</td>\n    </tr>\n    <tr>\n      <th>19691</th>\n      <td>R881</td>\n      <td>LRP027a</td>\n      <td>27.273</td>\n      <td>21.924303</td>\n      <td>90.157230</td>\n      <td>Amtali-Khepupara-Kuakata Road</td>\n      <td>bridge</td>\n      <td>D</td>\n      <td>NaN</td>\n    </tr>\n    <tr>\n      <th>19692</th>\n      <td>R890</td>\n      <td>LRP029b</td>\n      <td>29.847</td>\n      <td>22.498029</td>\n      <td>90.723139</td>\n      <td>Bhola (Paran Talukderhat)-Burhanuddin-Lalmohon...</td>\n      <td>bridge</td>\n      <td>D</td>\n      <td>NaN</td>\n    </tr>\n  </tbody>\n</table>\n<p>8258 rows × 9 columns</p>\n</div>"
     },
     "execution_count": 64,
     "metadata": {},
     "output_type": "execute_result"
    }
   ],
   "source": [
    "# Select rows where the values in the 'road' column start with 'N' or 'R'\n",
    "bridges_df3 = bridges_df1[bridges_df1['road'].str.startswith(('N', 'R'))]\n",
    "bridges_df3\n"
   ],
   "metadata": {
    "collapsed": false,
    "ExecuteTime": {
     "end_time": "2024-03-30T10:01:28.479534700Z",
     "start_time": "2024-03-30T10:01:28.329188Z"
    }
   },
   "execution_count": 64
  },
  {
   "cell_type": "markdown",
   "source": [
    "## Merge all dataframes together"
   ],
   "metadata": {
    "collapsed": false
   }
  },
  {
   "cell_type": "code",
   "outputs": [
    {
     "data": {
      "text/plain": "      road      lrp  chainage        lat        lon  \\\n8258    N1    LRPSb     0.822  23.702778  90.450472   \n0       N1  LRP001a     1.800  23.698739  90.458861   \n8259    N1  LRP004a     4.175  23.693805  90.480527   \n1       N1  LRP004b     4.925  23.694664  90.487775   \n8260    N1  LRP007a     7.181  23.697916  90.509278   \n...    ...      ...       ...        ...        ...   \n5056  R890  LRP095a    94.868  22.039724  90.682662   \n5057  R890  LRP095b    95.564  22.033450  90.682737   \n5058  R890  LRP095c    95.725  22.031993  90.682755   \n5059  R890  LRP095c    95.725  22.031993  90.682755   \n9141  R890     LRPE   108.785  22.080888  90.614389   \n\n                                                   name model_type condition  \\\n8258                            Intersection with Z1101       link       NaN   \n0     Dhaka (Jatrabari)-Comilla (Mainamati)-Chittago...     bridge         A   \n8259                          Road to Narayanganj(R111)       link       NaN   \n1     Dhaka (Jatrabari)-Comilla (Mainamati)-Chittago...     bridge         A   \n8260           R110,Left to Demra, Right to Narayanganj       link       NaN   \n...                                                 ...        ...       ...   \n5056  Bhola (Paran Talukderhat)-Burhanuddin-Lalmohon...     bridge         A   \n5057  Bhola (Paran Talukderhat)-Burhanuddin-Lalmohon...     bridge         A   \n5058  Bhola (Paran Talukderhat)-Burhanuddin-Lalmohon...     bridge         A   \n5059  Bhola (Paran Talukderhat)-Burhanuddin-Lalmohon...     bridge         A   \n9141       End of road at Baburhat, Launch Ghate,Bhola.       link       NaN   \n\n         AADT  \n8258  20447.0  \n0         NaN  \n8259  20447.0  \n1         NaN  \n8260  17109.0  \n...       ...  \n5056      NaN  \n5057      NaN  \n5058      NaN  \n5059      NaN  \n9141   4476.0  \n\n[9142 rows x 9 columns]",
      "text/html": "<div>\n<style scoped>\n    .dataframe tbody tr th:only-of-type {\n        vertical-align: middle;\n    }\n\n    .dataframe tbody tr th {\n        vertical-align: top;\n    }\n\n    .dataframe thead th {\n        text-align: right;\n    }\n</style>\n<table border=\"1\" class=\"dataframe\">\n  <thead>\n    <tr style=\"text-align: right;\">\n      <th></th>\n      <th>road</th>\n      <th>lrp</th>\n      <th>chainage</th>\n      <th>lat</th>\n      <th>lon</th>\n      <th>name</th>\n      <th>model_type</th>\n      <th>condition</th>\n      <th>AADT</th>\n    </tr>\n  </thead>\n  <tbody>\n    <tr>\n      <th>8258</th>\n      <td>N1</td>\n      <td>LRPSb</td>\n      <td>0.822</td>\n      <td>23.702778</td>\n      <td>90.450472</td>\n      <td>Intersection with Z1101</td>\n      <td>link</td>\n      <td>NaN</td>\n      <td>20447.0</td>\n    </tr>\n    <tr>\n      <th>0</th>\n      <td>N1</td>\n      <td>LRP001a</td>\n      <td>1.800</td>\n      <td>23.698739</td>\n      <td>90.458861</td>\n      <td>Dhaka (Jatrabari)-Comilla (Mainamati)-Chittago...</td>\n      <td>bridge</td>\n      <td>A</td>\n      <td>NaN</td>\n    </tr>\n    <tr>\n      <th>8259</th>\n      <td>N1</td>\n      <td>LRP004a</td>\n      <td>4.175</td>\n      <td>23.693805</td>\n      <td>90.480527</td>\n      <td>Road to Narayanganj(R111)</td>\n      <td>link</td>\n      <td>NaN</td>\n      <td>20447.0</td>\n    </tr>\n    <tr>\n      <th>1</th>\n      <td>N1</td>\n      <td>LRP004b</td>\n      <td>4.925</td>\n      <td>23.694664</td>\n      <td>90.487775</td>\n      <td>Dhaka (Jatrabari)-Comilla (Mainamati)-Chittago...</td>\n      <td>bridge</td>\n      <td>A</td>\n      <td>NaN</td>\n    </tr>\n    <tr>\n      <th>8260</th>\n      <td>N1</td>\n      <td>LRP007a</td>\n      <td>7.181</td>\n      <td>23.697916</td>\n      <td>90.509278</td>\n      <td>R110,Left to Demra, Right to Narayanganj</td>\n      <td>link</td>\n      <td>NaN</td>\n      <td>17109.0</td>\n    </tr>\n    <tr>\n      <th>...</th>\n      <td>...</td>\n      <td>...</td>\n      <td>...</td>\n      <td>...</td>\n      <td>...</td>\n      <td>...</td>\n      <td>...</td>\n      <td>...</td>\n      <td>...</td>\n    </tr>\n    <tr>\n      <th>5056</th>\n      <td>R890</td>\n      <td>LRP095a</td>\n      <td>94.868</td>\n      <td>22.039724</td>\n      <td>90.682662</td>\n      <td>Bhola (Paran Talukderhat)-Burhanuddin-Lalmohon...</td>\n      <td>bridge</td>\n      <td>A</td>\n      <td>NaN</td>\n    </tr>\n    <tr>\n      <th>5057</th>\n      <td>R890</td>\n      <td>LRP095b</td>\n      <td>95.564</td>\n      <td>22.033450</td>\n      <td>90.682737</td>\n      <td>Bhola (Paran Talukderhat)-Burhanuddin-Lalmohon...</td>\n      <td>bridge</td>\n      <td>A</td>\n      <td>NaN</td>\n    </tr>\n    <tr>\n      <th>5058</th>\n      <td>R890</td>\n      <td>LRP095c</td>\n      <td>95.725</td>\n      <td>22.031993</td>\n      <td>90.682755</td>\n      <td>Bhola (Paran Talukderhat)-Burhanuddin-Lalmohon...</td>\n      <td>bridge</td>\n      <td>A</td>\n      <td>NaN</td>\n    </tr>\n    <tr>\n      <th>5059</th>\n      <td>R890</td>\n      <td>LRP095c</td>\n      <td>95.725</td>\n      <td>22.031993</td>\n      <td>90.682755</td>\n      <td>Bhola (Paran Talukderhat)-Burhanuddin-Lalmohon...</td>\n      <td>bridge</td>\n      <td>A</td>\n      <td>NaN</td>\n    </tr>\n    <tr>\n      <th>9141</th>\n      <td>R890</td>\n      <td>LRPE</td>\n      <td>108.785</td>\n      <td>22.080888</td>\n      <td>90.614389</td>\n      <td>End of road at Baburhat, Launch Ghate,Bhola.</td>\n      <td>link</td>\n      <td>NaN</td>\n      <td>4476.0</td>\n    </tr>\n  </tbody>\n</table>\n<p>9142 rows × 9 columns</p>\n</div>"
     },
     "execution_count": 70,
     "metadata": {},
     "output_type": "execute_result"
    }
   ],
   "source": [
    "# Concatenate the two datasets, ignoring the index.\n",
    "concatenated_df = pd.concat([bridges_df3, merged_df], ignore_index=True)\n",
    "\n",
    "# Reset the index of the concatenated DataFrame.\n",
    "concatenated_df.reset_index(drop=True, inplace=True)\n",
    "\n",
    "# Sort the concatenated dataframe based on column 1 and then column 2.\n",
    "full_sorted_df = concatenated_df.sort_values(by=['road', 'chainage'])\n",
    "full_sorted_df\n"
   ],
   "metadata": {
    "collapsed": false,
    "ExecuteTime": {
     "end_time": "2024-03-30T10:07:30.819279900Z",
     "start_time": "2024-03-30T10:07:30.742653700Z"
    }
   },
   "execution_count": 70
  },
  {
   "cell_type": "code",
   "outputs": [
    {
     "data": {
      "text/plain": "      road      lrp  chainage        lat        lon  \\\n0       N1    LRPSb     0.822  23.702778  90.450472   \n1       N1  LRP001a     1.800  23.698739  90.458861   \n2       N1  LRP004a     4.175  23.693805  90.480527   \n3       N1  LRP004b     4.925  23.694664  90.487775   \n4       N1  LRP007a     7.181  23.697916  90.509278   \n...    ...      ...       ...        ...        ...   \n9137  R890  LRP095a    94.868  22.039724  90.682662   \n9138  R890  LRP095b    95.564  22.033450  90.682737   \n9139  R890  LRP095c    95.725  22.031993  90.682755   \n9140  R890  LRP095c    95.725  22.031993  90.682755   \n9141  R890     LRPE   108.785  22.080888  90.614389   \n\n                                                   name model_type condition  \\\n0                               Intersection with Z1101       link       NaN   \n1     Dhaka (Jatrabari)-Comilla (Mainamati)-Chittago...     bridge         A   \n2                             Road to Narayanganj(R111)       link       NaN   \n3     Dhaka (Jatrabari)-Comilla (Mainamati)-Chittago...     bridge         A   \n4              R110,Left to Demra, Right to Narayanganj       link       NaN   \n...                                                 ...        ...       ...   \n9137  Bhola (Paran Talukderhat)-Burhanuddin-Lalmohon...     bridge         A   \n9138  Bhola (Paran Talukderhat)-Burhanuddin-Lalmohon...     bridge         A   \n9139  Bhola (Paran Talukderhat)-Burhanuddin-Lalmohon...     bridge         A   \n9140  Bhola (Paran Talukderhat)-Burhanuddin-Lalmohon...     bridge         A   \n9141       End of road at Baburhat, Launch Ghate,Bhola.       link       NaN   \n\n         AADT  \n0     20447.0  \n1         NaN  \n2     20447.0  \n3         NaN  \n4     17109.0  \n...       ...  \n9137      NaN  \n9138      NaN  \n9139      NaN  \n9140      NaN  \n9141   4476.0  \n\n[9142 rows x 9 columns]",
      "text/html": "<div>\n<style scoped>\n    .dataframe tbody tr th:only-of-type {\n        vertical-align: middle;\n    }\n\n    .dataframe tbody tr th {\n        vertical-align: top;\n    }\n\n    .dataframe thead th {\n        text-align: right;\n    }\n</style>\n<table border=\"1\" class=\"dataframe\">\n  <thead>\n    <tr style=\"text-align: right;\">\n      <th></th>\n      <th>road</th>\n      <th>lrp</th>\n      <th>chainage</th>\n      <th>lat</th>\n      <th>lon</th>\n      <th>name</th>\n      <th>model_type</th>\n      <th>condition</th>\n      <th>AADT</th>\n    </tr>\n  </thead>\n  <tbody>\n    <tr>\n      <th>0</th>\n      <td>N1</td>\n      <td>LRPSb</td>\n      <td>0.822</td>\n      <td>23.702778</td>\n      <td>90.450472</td>\n      <td>Intersection with Z1101</td>\n      <td>link</td>\n      <td>NaN</td>\n      <td>20447.0</td>\n    </tr>\n    <tr>\n      <th>1</th>\n      <td>N1</td>\n      <td>LRP001a</td>\n      <td>1.800</td>\n      <td>23.698739</td>\n      <td>90.458861</td>\n      <td>Dhaka (Jatrabari)-Comilla (Mainamati)-Chittago...</td>\n      <td>bridge</td>\n      <td>A</td>\n      <td>NaN</td>\n    </tr>\n    <tr>\n      <th>2</th>\n      <td>N1</td>\n      <td>LRP004a</td>\n      <td>4.175</td>\n      <td>23.693805</td>\n      <td>90.480527</td>\n      <td>Road to Narayanganj(R111)</td>\n      <td>link</td>\n      <td>NaN</td>\n      <td>20447.0</td>\n    </tr>\n    <tr>\n      <th>3</th>\n      <td>N1</td>\n      <td>LRP004b</td>\n      <td>4.925</td>\n      <td>23.694664</td>\n      <td>90.487775</td>\n      <td>Dhaka (Jatrabari)-Comilla (Mainamati)-Chittago...</td>\n      <td>bridge</td>\n      <td>A</td>\n      <td>NaN</td>\n    </tr>\n    <tr>\n      <th>4</th>\n      <td>N1</td>\n      <td>LRP007a</td>\n      <td>7.181</td>\n      <td>23.697916</td>\n      <td>90.509278</td>\n      <td>R110,Left to Demra, Right to Narayanganj</td>\n      <td>link</td>\n      <td>NaN</td>\n      <td>17109.0</td>\n    </tr>\n    <tr>\n      <th>...</th>\n      <td>...</td>\n      <td>...</td>\n      <td>...</td>\n      <td>...</td>\n      <td>...</td>\n      <td>...</td>\n      <td>...</td>\n      <td>...</td>\n      <td>...</td>\n    </tr>\n    <tr>\n      <th>9137</th>\n      <td>R890</td>\n      <td>LRP095a</td>\n      <td>94.868</td>\n      <td>22.039724</td>\n      <td>90.682662</td>\n      <td>Bhola (Paran Talukderhat)-Burhanuddin-Lalmohon...</td>\n      <td>bridge</td>\n      <td>A</td>\n      <td>NaN</td>\n    </tr>\n    <tr>\n      <th>9138</th>\n      <td>R890</td>\n      <td>LRP095b</td>\n      <td>95.564</td>\n      <td>22.033450</td>\n      <td>90.682737</td>\n      <td>Bhola (Paran Talukderhat)-Burhanuddin-Lalmohon...</td>\n      <td>bridge</td>\n      <td>A</td>\n      <td>NaN</td>\n    </tr>\n    <tr>\n      <th>9139</th>\n      <td>R890</td>\n      <td>LRP095c</td>\n      <td>95.725</td>\n      <td>22.031993</td>\n      <td>90.682755</td>\n      <td>Bhola (Paran Talukderhat)-Burhanuddin-Lalmohon...</td>\n      <td>bridge</td>\n      <td>A</td>\n      <td>NaN</td>\n    </tr>\n    <tr>\n      <th>9140</th>\n      <td>R890</td>\n      <td>LRP095c</td>\n      <td>95.725</td>\n      <td>22.031993</td>\n      <td>90.682755</td>\n      <td>Bhola (Paran Talukderhat)-Burhanuddin-Lalmohon...</td>\n      <td>bridge</td>\n      <td>A</td>\n      <td>NaN</td>\n    </tr>\n    <tr>\n      <th>9141</th>\n      <td>R890</td>\n      <td>LRPE</td>\n      <td>108.785</td>\n      <td>22.080888</td>\n      <td>90.614389</td>\n      <td>End of road at Baburhat, Launch Ghate,Bhola.</td>\n      <td>link</td>\n      <td>NaN</td>\n      <td>4476.0</td>\n    </tr>\n  </tbody>\n</table>\n<p>9142 rows × 9 columns</p>\n</div>"
     },
     "execution_count": 71,
     "metadata": {},
     "output_type": "execute_result"
    }
   ],
   "source": [
    "# Fix the index\n",
    "full_sorted_df = full_sorted_df.reset_index()\n",
    "full_sorted_df = full_sorted_df.drop(columns = [\"index\"])\n",
    "full_sorted_df"
   ],
   "metadata": {
    "collapsed": false,
    "ExecuteTime": {
     "end_time": "2024-03-30T10:07:33.730311600Z",
     "start_time": "2024-03-30T10:07:33.679127400Z"
    }
   },
   "execution_count": 71
  },
  {
   "cell_type": "markdown",
   "source": [
    "# Calculate Condition score"
   ],
   "metadata": {
    "collapsed": false
   }
  },
  {
   "cell_type": "markdown",
   "source": [
    "A function is created to give the conditions of the bridges a score. The best bridges (condition A) gets the highest score. Furthermore, the focus of our assignment are cyclons, which impact the south of the country. The conditions of bridges which are below the defined latitude are multiplied. "
   ],
   "metadata": {
    "collapsed": false
   }
  },
  {
   "cell_type": "code",
   "outputs": [],
   "source": [
    "# Create a function to calculate the condition score based on the value in the 'condition' column.\n",
    "def calculate_condition_score(condition):\n",
    "    if condition == 'A':\n",
    "        return 1\n",
    "    elif condition == 'B':\n",
    "        return 3\n",
    "    elif condition == 'C':\n",
    "        return 6\n",
    "    elif condition == 'D':\n",
    "        return 10\n",
    "    else:\n",
    "        return None"
   ],
   "metadata": {
    "collapsed": false,
    "ExecuteTime": {
     "end_time": "2024-03-30T10:13:00.670318300Z",
     "start_time": "2024-03-30T10:13:00.587997400Z"
    }
   },
   "execution_count": 72
  },
  {
   "cell_type": "code",
   "outputs": [
    {
     "data": {
      "text/plain": "      road      lrp  chainage        lat        lon  \\\n0       N1    LRPSb     0.822  23.702778  90.450472   \n1       N1  LRP001a     1.800  23.698739  90.458861   \n2       N1  LRP004a     4.175  23.693805  90.480527   \n3       N1  LRP004b     4.925  23.694664  90.487775   \n4       N1  LRP007a     7.181  23.697916  90.509278   \n...    ...      ...       ...        ...        ...   \n9137  R890  LRP095a    94.868  22.039724  90.682662   \n9138  R890  LRP095b    95.564  22.033450  90.682737   \n9139  R890  LRP095c    95.725  22.031993  90.682755   \n9140  R890  LRP095c    95.725  22.031993  90.682755   \n9141  R890     LRPE   108.785  22.080888  90.614389   \n\n                                                   name model_type condition  \\\n0                               Intersection with Z1101       link       NaN   \n1     Dhaka (Jatrabari)-Comilla (Mainamati)-Chittago...     bridge         A   \n2                             Road to Narayanganj(R111)       link       NaN   \n3     Dhaka (Jatrabari)-Comilla (Mainamati)-Chittago...     bridge         A   \n4              R110,Left to Demra, Right to Narayanganj       link       NaN   \n...                                                 ...        ...       ...   \n9137  Bhola (Paran Talukderhat)-Burhanuddin-Lalmohon...     bridge         A   \n9138  Bhola (Paran Talukderhat)-Burhanuddin-Lalmohon...     bridge         A   \n9139  Bhola (Paran Talukderhat)-Burhanuddin-Lalmohon...     bridge         A   \n9140  Bhola (Paran Talukderhat)-Burhanuddin-Lalmohon...     bridge         A   \n9141       End of road at Baburhat, Launch Ghate,Bhola.       link       NaN   \n\n         AADT  condition_score  \n0     20447.0              NaN  \n1         NaN              1.0  \n2     20447.0              NaN  \n3         NaN              1.0  \n4     17109.0              NaN  \n...       ...              ...  \n9137      NaN              1.0  \n9138      NaN              1.0  \n9139      NaN              1.0  \n9140      NaN              1.0  \n9141   4476.0              NaN  \n\n[9142 rows x 10 columns]",
      "text/html": "<div>\n<style scoped>\n    .dataframe tbody tr th:only-of-type {\n        vertical-align: middle;\n    }\n\n    .dataframe tbody tr th {\n        vertical-align: top;\n    }\n\n    .dataframe thead th {\n        text-align: right;\n    }\n</style>\n<table border=\"1\" class=\"dataframe\">\n  <thead>\n    <tr style=\"text-align: right;\">\n      <th></th>\n      <th>road</th>\n      <th>lrp</th>\n      <th>chainage</th>\n      <th>lat</th>\n      <th>lon</th>\n      <th>name</th>\n      <th>model_type</th>\n      <th>condition</th>\n      <th>AADT</th>\n      <th>condition_score</th>\n    </tr>\n  </thead>\n  <tbody>\n    <tr>\n      <th>0</th>\n      <td>N1</td>\n      <td>LRPSb</td>\n      <td>0.822</td>\n      <td>23.702778</td>\n      <td>90.450472</td>\n      <td>Intersection with Z1101</td>\n      <td>link</td>\n      <td>NaN</td>\n      <td>20447.0</td>\n      <td>NaN</td>\n    </tr>\n    <tr>\n      <th>1</th>\n      <td>N1</td>\n      <td>LRP001a</td>\n      <td>1.800</td>\n      <td>23.698739</td>\n      <td>90.458861</td>\n      <td>Dhaka (Jatrabari)-Comilla (Mainamati)-Chittago...</td>\n      <td>bridge</td>\n      <td>A</td>\n      <td>NaN</td>\n      <td>1.0</td>\n    </tr>\n    <tr>\n      <th>2</th>\n      <td>N1</td>\n      <td>LRP004a</td>\n      <td>4.175</td>\n      <td>23.693805</td>\n      <td>90.480527</td>\n      <td>Road to Narayanganj(R111)</td>\n      <td>link</td>\n      <td>NaN</td>\n      <td>20447.0</td>\n      <td>NaN</td>\n    </tr>\n    <tr>\n      <th>3</th>\n      <td>N1</td>\n      <td>LRP004b</td>\n      <td>4.925</td>\n      <td>23.694664</td>\n      <td>90.487775</td>\n      <td>Dhaka (Jatrabari)-Comilla (Mainamati)-Chittago...</td>\n      <td>bridge</td>\n      <td>A</td>\n      <td>NaN</td>\n      <td>1.0</td>\n    </tr>\n    <tr>\n      <th>4</th>\n      <td>N1</td>\n      <td>LRP007a</td>\n      <td>7.181</td>\n      <td>23.697916</td>\n      <td>90.509278</td>\n      <td>R110,Left to Demra, Right to Narayanganj</td>\n      <td>link</td>\n      <td>NaN</td>\n      <td>17109.0</td>\n      <td>NaN</td>\n    </tr>\n    <tr>\n      <th>...</th>\n      <td>...</td>\n      <td>...</td>\n      <td>...</td>\n      <td>...</td>\n      <td>...</td>\n      <td>...</td>\n      <td>...</td>\n      <td>...</td>\n      <td>...</td>\n      <td>...</td>\n    </tr>\n    <tr>\n      <th>9137</th>\n      <td>R890</td>\n      <td>LRP095a</td>\n      <td>94.868</td>\n      <td>22.039724</td>\n      <td>90.682662</td>\n      <td>Bhola (Paran Talukderhat)-Burhanuddin-Lalmohon...</td>\n      <td>bridge</td>\n      <td>A</td>\n      <td>NaN</td>\n      <td>1.0</td>\n    </tr>\n    <tr>\n      <th>9138</th>\n      <td>R890</td>\n      <td>LRP095b</td>\n      <td>95.564</td>\n      <td>22.033450</td>\n      <td>90.682737</td>\n      <td>Bhola (Paran Talukderhat)-Burhanuddin-Lalmohon...</td>\n      <td>bridge</td>\n      <td>A</td>\n      <td>NaN</td>\n      <td>1.0</td>\n    </tr>\n    <tr>\n      <th>9139</th>\n      <td>R890</td>\n      <td>LRP095c</td>\n      <td>95.725</td>\n      <td>22.031993</td>\n      <td>90.682755</td>\n      <td>Bhola (Paran Talukderhat)-Burhanuddin-Lalmohon...</td>\n      <td>bridge</td>\n      <td>A</td>\n      <td>NaN</td>\n      <td>1.0</td>\n    </tr>\n    <tr>\n      <th>9140</th>\n      <td>R890</td>\n      <td>LRP095c</td>\n      <td>95.725</td>\n      <td>22.031993</td>\n      <td>90.682755</td>\n      <td>Bhola (Paran Talukderhat)-Burhanuddin-Lalmohon...</td>\n      <td>bridge</td>\n      <td>A</td>\n      <td>NaN</td>\n      <td>1.0</td>\n    </tr>\n    <tr>\n      <th>9141</th>\n      <td>R890</td>\n      <td>LRPE</td>\n      <td>108.785</td>\n      <td>22.080888</td>\n      <td>90.614389</td>\n      <td>End of road at Baburhat, Launch Ghate,Bhola.</td>\n      <td>link</td>\n      <td>NaN</td>\n      <td>4476.0</td>\n      <td>NaN</td>\n    </tr>\n  </tbody>\n</table>\n<p>9142 rows × 10 columns</p>\n</div>"
     },
     "execution_count": 73,
     "metadata": {},
     "output_type": "execute_result"
    }
   ],
   "source": [
    "# Add a new column \"condition_score\".\n",
    "full_sorted_df['condition_score'] = full_sorted_df[full_sorted_df['model_type'] == 'bridge']['condition'].apply(calculate_condition_score)\n",
    "full_sorted_df"
   ],
   "metadata": {
    "collapsed": false,
    "ExecuteTime": {
     "end_time": "2024-03-30T10:13:04.175167100Z",
     "start_time": "2024-03-30T10:13:04.141279300Z"
    }
   },
   "execution_count": 73
  },
  {
   "cell_type": "code",
   "outputs": [
    {
     "data": {
      "text/plain": "      road      lrp  chainage        lat        lon  \\\n0       N1    LRPSb     0.822  23.702778  90.450472   \n1       N1  LRP001a     1.800  23.698739  90.458861   \n2       N1  LRP004a     4.175  23.693805  90.480527   \n3       N1  LRP004b     4.925  23.694664  90.487775   \n4       N1  LRP007a     7.181  23.697916  90.509278   \n...    ...      ...       ...        ...        ...   \n9137  R890  LRP095a    94.868  22.039724  90.682662   \n9138  R890  LRP095b    95.564  22.033450  90.682737   \n9139  R890  LRP095c    95.725  22.031993  90.682755   \n9140  R890  LRP095c    95.725  22.031993  90.682755   \n9141  R890     LRPE   108.785  22.080888  90.614389   \n\n                                                   name model_type condition  \\\n0                               Intersection with Z1101       link       NaN   \n1     Dhaka (Jatrabari)-Comilla (Mainamati)-Chittago...     bridge         A   \n2                             Road to Narayanganj(R111)       link       NaN   \n3     Dhaka (Jatrabari)-Comilla (Mainamati)-Chittago...     bridge         A   \n4              R110,Left to Demra, Right to Narayanganj       link       NaN   \n...                                                 ...        ...       ...   \n9137  Bhola (Paran Talukderhat)-Burhanuddin-Lalmohon...     bridge         A   \n9138  Bhola (Paran Talukderhat)-Burhanuddin-Lalmohon...     bridge         A   \n9139  Bhola (Paran Talukderhat)-Burhanuddin-Lalmohon...     bridge         A   \n9140  Bhola (Paran Talukderhat)-Burhanuddin-Lalmohon...     bridge         A   \n9141       End of road at Baburhat, Launch Ghate,Bhola.       link       NaN   \n\n         AADT  condition_score  \n0     20447.0              NaN  \n1         NaN              1.0  \n2     20447.0              NaN  \n3         NaN              1.0  \n4     17109.0              NaN  \n...       ...              ...  \n9137      NaN              2.0  \n9138      NaN              2.0  \n9139      NaN              2.0  \n9140      NaN              2.0  \n9141   4476.0              NaN  \n\n[9142 rows x 10 columns]",
      "text/html": "<div>\n<style scoped>\n    .dataframe tbody tr th:only-of-type {\n        vertical-align: middle;\n    }\n\n    .dataframe tbody tr th {\n        vertical-align: top;\n    }\n\n    .dataframe thead th {\n        text-align: right;\n    }\n</style>\n<table border=\"1\" class=\"dataframe\">\n  <thead>\n    <tr style=\"text-align: right;\">\n      <th></th>\n      <th>road</th>\n      <th>lrp</th>\n      <th>chainage</th>\n      <th>lat</th>\n      <th>lon</th>\n      <th>name</th>\n      <th>model_type</th>\n      <th>condition</th>\n      <th>AADT</th>\n      <th>condition_score</th>\n    </tr>\n  </thead>\n  <tbody>\n    <tr>\n      <th>0</th>\n      <td>N1</td>\n      <td>LRPSb</td>\n      <td>0.822</td>\n      <td>23.702778</td>\n      <td>90.450472</td>\n      <td>Intersection with Z1101</td>\n      <td>link</td>\n      <td>NaN</td>\n      <td>20447.0</td>\n      <td>NaN</td>\n    </tr>\n    <tr>\n      <th>1</th>\n      <td>N1</td>\n      <td>LRP001a</td>\n      <td>1.800</td>\n      <td>23.698739</td>\n      <td>90.458861</td>\n      <td>Dhaka (Jatrabari)-Comilla (Mainamati)-Chittago...</td>\n      <td>bridge</td>\n      <td>A</td>\n      <td>NaN</td>\n      <td>1.0</td>\n    </tr>\n    <tr>\n      <th>2</th>\n      <td>N1</td>\n      <td>LRP004a</td>\n      <td>4.175</td>\n      <td>23.693805</td>\n      <td>90.480527</td>\n      <td>Road to Narayanganj(R111)</td>\n      <td>link</td>\n      <td>NaN</td>\n      <td>20447.0</td>\n      <td>NaN</td>\n    </tr>\n    <tr>\n      <th>3</th>\n      <td>N1</td>\n      <td>LRP004b</td>\n      <td>4.925</td>\n      <td>23.694664</td>\n      <td>90.487775</td>\n      <td>Dhaka (Jatrabari)-Comilla (Mainamati)-Chittago...</td>\n      <td>bridge</td>\n      <td>A</td>\n      <td>NaN</td>\n      <td>1.0</td>\n    </tr>\n    <tr>\n      <th>4</th>\n      <td>N1</td>\n      <td>LRP007a</td>\n      <td>7.181</td>\n      <td>23.697916</td>\n      <td>90.509278</td>\n      <td>R110,Left to Demra, Right to Narayanganj</td>\n      <td>link</td>\n      <td>NaN</td>\n      <td>17109.0</td>\n      <td>NaN</td>\n    </tr>\n    <tr>\n      <th>...</th>\n      <td>...</td>\n      <td>...</td>\n      <td>...</td>\n      <td>...</td>\n      <td>...</td>\n      <td>...</td>\n      <td>...</td>\n      <td>...</td>\n      <td>...</td>\n      <td>...</td>\n    </tr>\n    <tr>\n      <th>9137</th>\n      <td>R890</td>\n      <td>LRP095a</td>\n      <td>94.868</td>\n      <td>22.039724</td>\n      <td>90.682662</td>\n      <td>Bhola (Paran Talukderhat)-Burhanuddin-Lalmohon...</td>\n      <td>bridge</td>\n      <td>A</td>\n      <td>NaN</td>\n      <td>2.0</td>\n    </tr>\n    <tr>\n      <th>9138</th>\n      <td>R890</td>\n      <td>LRP095b</td>\n      <td>95.564</td>\n      <td>22.033450</td>\n      <td>90.682737</td>\n      <td>Bhola (Paran Talukderhat)-Burhanuddin-Lalmohon...</td>\n      <td>bridge</td>\n      <td>A</td>\n      <td>NaN</td>\n      <td>2.0</td>\n    </tr>\n    <tr>\n      <th>9139</th>\n      <td>R890</td>\n      <td>LRP095c</td>\n      <td>95.725</td>\n      <td>22.031993</td>\n      <td>90.682755</td>\n      <td>Bhola (Paran Talukderhat)-Burhanuddin-Lalmohon...</td>\n      <td>bridge</td>\n      <td>A</td>\n      <td>NaN</td>\n      <td>2.0</td>\n    </tr>\n    <tr>\n      <th>9140</th>\n      <td>R890</td>\n      <td>LRP095c</td>\n      <td>95.725</td>\n      <td>22.031993</td>\n      <td>90.682755</td>\n      <td>Bhola (Paran Talukderhat)-Burhanuddin-Lalmohon...</td>\n      <td>bridge</td>\n      <td>A</td>\n      <td>NaN</td>\n      <td>2.0</td>\n    </tr>\n    <tr>\n      <th>9141</th>\n      <td>R890</td>\n      <td>LRPE</td>\n      <td>108.785</td>\n      <td>22.080888</td>\n      <td>90.614389</td>\n      <td>End of road at Baburhat, Launch Ghate,Bhola.</td>\n      <td>link</td>\n      <td>NaN</td>\n      <td>4476.0</td>\n      <td>NaN</td>\n    </tr>\n  </tbody>\n</table>\n<p>9142 rows × 10 columns</p>\n</div>"
     },
     "execution_count": 74,
     "metadata": {},
     "output_type": "execute_result"
    }
   ],
   "source": [
    "# Defining the flood_lat and multiplier values\n",
    "flood_lat = 23\n",
    "multiplier = 2  \n",
    "\n",
    "# Identify rows where the values in the 'lat' column are below 'flood_lat'.\n",
    "selected_rows = full_sorted_df[full_sorted_df['lat'] < flood_lat]\n",
    "\n",
    "# Multiply the 'condition_score' by the 'multiplier' for the selected rows.\n",
    "selected_rows['condition_score'] *= multiplier\n",
    "\n",
    "# Update the original DataFrame with the modified values.\n",
    "full_sorted_df.update(selected_rows)\n",
    "full_sorted_df"
   ],
   "metadata": {
    "collapsed": false,
    "ExecuteTime": {
     "end_time": "2024-03-30T10:13:06.390724800Z",
     "start_time": "2024-03-30T10:13:06.326282700Z"
    }
   },
   "execution_count": 74
  },
  {
   "cell_type": "markdown",
   "source": [
    "# Calculate Vulnerability"
   ],
   "metadata": {
    "collapsed": false
   }
  },
  {
   "cell_type": "markdown",
   "source": [
    "Per road segment, the vulnerability of that road is calculated over the bridges, until the next link appears. The vulnerability is calculated by taking the sum of the condition_scores of the bridges."
   ],
   "metadata": {
    "collapsed": false
   }
  },
  {
   "cell_type": "code",
   "outputs": [
    {
     "data": {
      "text/plain": "      road      lrp  chainage        lat        lon  \\\n0       N1    LRPSb     0.822  23.702778  90.450472   \n1       N1  LRP001a     1.800  23.698739  90.458861   \n2       N1  LRP004a     4.175  23.693805  90.480527   \n3       N1  LRP004b     4.925  23.694664  90.487775   \n4       N1  LRP007a     7.181  23.697916  90.509278   \n...    ...      ...       ...        ...        ...   \n9137  R890  LRP095a    94.868  22.039724  90.682662   \n9138  R890  LRP095b    95.564  22.033450  90.682737   \n9139  R890  LRP095c    95.725  22.031993  90.682755   \n9140  R890  LRP095c    95.725  22.031993  90.682755   \n9141  R890     LRPE   108.785  22.080888  90.614389   \n\n                                                   name model_type condition  \\\n0                               Intersection with Z1101       link       NaN   \n1     Dhaka (Jatrabari)-Comilla (Mainamati)-Chittago...     bridge         A   \n2                             Road to Narayanganj(R111)       link       NaN   \n3     Dhaka (Jatrabari)-Comilla (Mainamati)-Chittago...     bridge         A   \n4              R110,Left to Demra, Right to Narayanganj       link       NaN   \n...                                                 ...        ...       ...   \n9137  Bhola (Paran Talukderhat)-Burhanuddin-Lalmohon...     bridge         A   \n9138  Bhola (Paran Talukderhat)-Burhanuddin-Lalmohon...     bridge         A   \n9139  Bhola (Paran Talukderhat)-Burhanuddin-Lalmohon...     bridge         A   \n9140  Bhola (Paran Talukderhat)-Burhanuddin-Lalmohon...     bridge         A   \n9141       End of road at Baburhat, Launch Ghate,Bhola.       link       NaN   \n\n         AADT  condition_score  vulnerability  \n0     20447.0              NaN              0  \n1         NaN              1.0              0  \n2     20447.0              NaN              1  \n3         NaN              1.0              0  \n4     17109.0              NaN              1  \n...       ...              ...            ...  \n9137      NaN              2.0              0  \n9138      NaN              2.0              0  \n9139      NaN              2.0              0  \n9140      NaN              2.0              0  \n9141   4476.0              NaN             66  \n\n[9142 rows x 11 columns]",
      "text/html": "<div>\n<style scoped>\n    .dataframe tbody tr th:only-of-type {\n        vertical-align: middle;\n    }\n\n    .dataframe tbody tr th {\n        vertical-align: top;\n    }\n\n    .dataframe thead th {\n        text-align: right;\n    }\n</style>\n<table border=\"1\" class=\"dataframe\">\n  <thead>\n    <tr style=\"text-align: right;\">\n      <th></th>\n      <th>road</th>\n      <th>lrp</th>\n      <th>chainage</th>\n      <th>lat</th>\n      <th>lon</th>\n      <th>name</th>\n      <th>model_type</th>\n      <th>condition</th>\n      <th>AADT</th>\n      <th>condition_score</th>\n      <th>vulnerability</th>\n    </tr>\n  </thead>\n  <tbody>\n    <tr>\n      <th>0</th>\n      <td>N1</td>\n      <td>LRPSb</td>\n      <td>0.822</td>\n      <td>23.702778</td>\n      <td>90.450472</td>\n      <td>Intersection with Z1101</td>\n      <td>link</td>\n      <td>NaN</td>\n      <td>20447.0</td>\n      <td>NaN</td>\n      <td>0</td>\n    </tr>\n    <tr>\n      <th>1</th>\n      <td>N1</td>\n      <td>LRP001a</td>\n      <td>1.800</td>\n      <td>23.698739</td>\n      <td>90.458861</td>\n      <td>Dhaka (Jatrabari)-Comilla (Mainamati)-Chittago...</td>\n      <td>bridge</td>\n      <td>A</td>\n      <td>NaN</td>\n      <td>1.0</td>\n      <td>0</td>\n    </tr>\n    <tr>\n      <th>2</th>\n      <td>N1</td>\n      <td>LRP004a</td>\n      <td>4.175</td>\n      <td>23.693805</td>\n      <td>90.480527</td>\n      <td>Road to Narayanganj(R111)</td>\n      <td>link</td>\n      <td>NaN</td>\n      <td>20447.0</td>\n      <td>NaN</td>\n      <td>1</td>\n    </tr>\n    <tr>\n      <th>3</th>\n      <td>N1</td>\n      <td>LRP004b</td>\n      <td>4.925</td>\n      <td>23.694664</td>\n      <td>90.487775</td>\n      <td>Dhaka (Jatrabari)-Comilla (Mainamati)-Chittago...</td>\n      <td>bridge</td>\n      <td>A</td>\n      <td>NaN</td>\n      <td>1.0</td>\n      <td>0</td>\n    </tr>\n    <tr>\n      <th>4</th>\n      <td>N1</td>\n      <td>LRP007a</td>\n      <td>7.181</td>\n      <td>23.697916</td>\n      <td>90.509278</td>\n      <td>R110,Left to Demra, Right to Narayanganj</td>\n      <td>link</td>\n      <td>NaN</td>\n      <td>17109.0</td>\n      <td>NaN</td>\n      <td>1</td>\n    </tr>\n    <tr>\n      <th>...</th>\n      <td>...</td>\n      <td>...</td>\n      <td>...</td>\n      <td>...</td>\n      <td>...</td>\n      <td>...</td>\n      <td>...</td>\n      <td>...</td>\n      <td>...</td>\n      <td>...</td>\n      <td>...</td>\n    </tr>\n    <tr>\n      <th>9137</th>\n      <td>R890</td>\n      <td>LRP095a</td>\n      <td>94.868</td>\n      <td>22.039724</td>\n      <td>90.682662</td>\n      <td>Bhola (Paran Talukderhat)-Burhanuddin-Lalmohon...</td>\n      <td>bridge</td>\n      <td>A</td>\n      <td>NaN</td>\n      <td>2.0</td>\n      <td>0</td>\n    </tr>\n    <tr>\n      <th>9138</th>\n      <td>R890</td>\n      <td>LRP095b</td>\n      <td>95.564</td>\n      <td>22.033450</td>\n      <td>90.682737</td>\n      <td>Bhola (Paran Talukderhat)-Burhanuddin-Lalmohon...</td>\n      <td>bridge</td>\n      <td>A</td>\n      <td>NaN</td>\n      <td>2.0</td>\n      <td>0</td>\n    </tr>\n    <tr>\n      <th>9139</th>\n      <td>R890</td>\n      <td>LRP095c</td>\n      <td>95.725</td>\n      <td>22.031993</td>\n      <td>90.682755</td>\n      <td>Bhola (Paran Talukderhat)-Burhanuddin-Lalmohon...</td>\n      <td>bridge</td>\n      <td>A</td>\n      <td>NaN</td>\n      <td>2.0</td>\n      <td>0</td>\n    </tr>\n    <tr>\n      <th>9140</th>\n      <td>R890</td>\n      <td>LRP095c</td>\n      <td>95.725</td>\n      <td>22.031993</td>\n      <td>90.682755</td>\n      <td>Bhola (Paran Talukderhat)-Burhanuddin-Lalmohon...</td>\n      <td>bridge</td>\n      <td>A</td>\n      <td>NaN</td>\n      <td>2.0</td>\n      <td>0</td>\n    </tr>\n    <tr>\n      <th>9141</th>\n      <td>R890</td>\n      <td>LRPE</td>\n      <td>108.785</td>\n      <td>22.080888</td>\n      <td>90.614389</td>\n      <td>End of road at Baburhat, Launch Ghate,Bhola.</td>\n      <td>link</td>\n      <td>NaN</td>\n      <td>4476.0</td>\n      <td>NaN</td>\n      <td>66</td>\n    </tr>\n  </tbody>\n</table>\n<p>9142 rows × 11 columns</p>\n</div>"
     },
     "execution_count": 76,
     "metadata": {},
     "output_type": "execute_result"
    }
   ],
   "source": [
    "# Initialize the vulnerability column with 0\n",
    "full_sorted_df['vulnerability'] = 0\n",
    "\n",
    "# Initialize variables to keep track of the vulnerability calculation\n",
    "vulnerability = 0\n",
    "calculation_started = False\n",
    "\n",
    "# Iterate over the DataFrame rows\n",
    "for index, row in full_sorted_df.iterrows():\n",
    "    # If the current row has 'model_type' equal to 'link'\n",
    "    if row['model_type'] == 'link':\n",
    "        # If the vulnerability calculation has started, update the vulnerability value\n",
    "        if calculation_started:\n",
    "            full_sorted_df.at[index, 'vulnerability'] = vulnerability\n",
    "            vulnerability = 0  # Reset the vulnerability for the next calculation\n",
    "            calculation_started = False  # Reset the calculation flag\n",
    "    # If the current row has 'model_type' equal to 'bridge'\n",
    "    elif row['model_type'] == 'bridge':\n",
    "        # Set the vulnerability to 0 for bridge rows\n",
    "        full_sorted_df.at[index, 'vulnerability'] = 0\n",
    "        # Start the vulnerability calculation\n",
    "        calculation_started = True\n",
    "        # Add the 'condition_score' of the bridge to the vulnerability\n",
    "        vulnerability += row['condition_score']\n",
    "\n",
    "# Update the DataFrame with the calculated vulnerability values\n",
    "full_sorted_df['vulnerability'] = full_sorted_df['vulnerability'].fillna(method='ffill')\n",
    "\n",
    "full_sorted_df\n"
   ],
   "metadata": {
    "collapsed": false,
    "ExecuteTime": {
     "end_time": "2024-03-30T10:13:58.718013Z",
     "start_time": "2024-03-30T10:13:57.353915Z"
    }
   },
   "execution_count": 76
  },
  {
   "cell_type": "code",
   "outputs": [
    {
     "data": {
      "text/plain": "      road      lrp  chainage        lat        lon  \\\n0       N1    LRPSb     0.822  23.702778  90.450472   \n1       N1  LRP001a     1.800  23.698739  90.458861   \n2       N1  LRP004a     4.175  23.693805  90.480527   \n3       N1  LRP004b     4.925  23.694664  90.487775   \n4       N1  LRP007a     7.181  23.697916  90.509278   \n...    ...      ...       ...        ...        ...   \n9137  R890  LRP095a    94.868  22.039724  90.682662   \n9138  R890  LRP095b    95.564  22.033450  90.682737   \n9139  R890  LRP095c    95.725  22.031993  90.682755   \n9140  R890  LRP095c    95.725  22.031993  90.682755   \n9141  R890     LRPE   108.785  22.080888  90.614389   \n\n                                                   name model_type condition  \\\n0                               Intersection with Z1101       link       NaN   \n1     Dhaka (Jatrabari)-Comilla (Mainamati)-Chittago...     bridge         A   \n2                             Road to Narayanganj(R111)       link       NaN   \n3     Dhaka (Jatrabari)-Comilla (Mainamati)-Chittago...     bridge         A   \n4              R110,Left to Demra, Right to Narayanganj       link       NaN   \n...                                                 ...        ...       ...   \n9137  Bhola (Paran Talukderhat)-Burhanuddin-Lalmohon...     bridge         A   \n9138  Bhola (Paran Talukderhat)-Burhanuddin-Lalmohon...     bridge         A   \n9139  Bhola (Paran Talukderhat)-Burhanuddin-Lalmohon...     bridge         A   \n9140  Bhola (Paran Talukderhat)-Burhanuddin-Lalmohon...     bridge         A   \n9141       End of road at Baburhat, Launch Ghate,Bhola.       link       NaN   \n\n         AADT  condition_score  vulnerability  vulnerability_of_road  \n0     20447.0              NaN              0                   3576  \n1         NaN              1.0              0                   3576  \n2     20447.0              NaN              1                   3576  \n3         NaN              1.0              0                   3576  \n4     17109.0              NaN              1                   3576  \n...       ...              ...            ...                    ...  \n9137      NaN              2.0              0                    308  \n9138      NaN              2.0              0                    308  \n9139      NaN              2.0              0                    308  \n9140      NaN              2.0              0                    308  \n9141   4476.0              NaN             66                    308  \n\n[9142 rows x 12 columns]",
      "text/html": "<div>\n<style scoped>\n    .dataframe tbody tr th:only-of-type {\n        vertical-align: middle;\n    }\n\n    .dataframe tbody tr th {\n        vertical-align: top;\n    }\n\n    .dataframe thead th {\n        text-align: right;\n    }\n</style>\n<table border=\"1\" class=\"dataframe\">\n  <thead>\n    <tr style=\"text-align: right;\">\n      <th></th>\n      <th>road</th>\n      <th>lrp</th>\n      <th>chainage</th>\n      <th>lat</th>\n      <th>lon</th>\n      <th>name</th>\n      <th>model_type</th>\n      <th>condition</th>\n      <th>AADT</th>\n      <th>condition_score</th>\n      <th>vulnerability</th>\n      <th>vulnerability_of_road</th>\n    </tr>\n  </thead>\n  <tbody>\n    <tr>\n      <th>0</th>\n      <td>N1</td>\n      <td>LRPSb</td>\n      <td>0.822</td>\n      <td>23.702778</td>\n      <td>90.450472</td>\n      <td>Intersection with Z1101</td>\n      <td>link</td>\n      <td>NaN</td>\n      <td>20447.0</td>\n      <td>NaN</td>\n      <td>0</td>\n      <td>3576</td>\n    </tr>\n    <tr>\n      <th>1</th>\n      <td>N1</td>\n      <td>LRP001a</td>\n      <td>1.800</td>\n      <td>23.698739</td>\n      <td>90.458861</td>\n      <td>Dhaka (Jatrabari)-Comilla (Mainamati)-Chittago...</td>\n      <td>bridge</td>\n      <td>A</td>\n      <td>NaN</td>\n      <td>1.0</td>\n      <td>0</td>\n      <td>3576</td>\n    </tr>\n    <tr>\n      <th>2</th>\n      <td>N1</td>\n      <td>LRP004a</td>\n      <td>4.175</td>\n      <td>23.693805</td>\n      <td>90.480527</td>\n      <td>Road to Narayanganj(R111)</td>\n      <td>link</td>\n      <td>NaN</td>\n      <td>20447.0</td>\n      <td>NaN</td>\n      <td>1</td>\n      <td>3576</td>\n    </tr>\n    <tr>\n      <th>3</th>\n      <td>N1</td>\n      <td>LRP004b</td>\n      <td>4.925</td>\n      <td>23.694664</td>\n      <td>90.487775</td>\n      <td>Dhaka (Jatrabari)-Comilla (Mainamati)-Chittago...</td>\n      <td>bridge</td>\n      <td>A</td>\n      <td>NaN</td>\n      <td>1.0</td>\n      <td>0</td>\n      <td>3576</td>\n    </tr>\n    <tr>\n      <th>4</th>\n      <td>N1</td>\n      <td>LRP007a</td>\n      <td>7.181</td>\n      <td>23.697916</td>\n      <td>90.509278</td>\n      <td>R110,Left to Demra, Right to Narayanganj</td>\n      <td>link</td>\n      <td>NaN</td>\n      <td>17109.0</td>\n      <td>NaN</td>\n      <td>1</td>\n      <td>3576</td>\n    </tr>\n    <tr>\n      <th>...</th>\n      <td>...</td>\n      <td>...</td>\n      <td>...</td>\n      <td>...</td>\n      <td>...</td>\n      <td>...</td>\n      <td>...</td>\n      <td>...</td>\n      <td>...</td>\n      <td>...</td>\n      <td>...</td>\n      <td>...</td>\n    </tr>\n    <tr>\n      <th>9137</th>\n      <td>R890</td>\n      <td>LRP095a</td>\n      <td>94.868</td>\n      <td>22.039724</td>\n      <td>90.682662</td>\n      <td>Bhola (Paran Talukderhat)-Burhanuddin-Lalmohon...</td>\n      <td>bridge</td>\n      <td>A</td>\n      <td>NaN</td>\n      <td>2.0</td>\n      <td>0</td>\n      <td>308</td>\n    </tr>\n    <tr>\n      <th>9138</th>\n      <td>R890</td>\n      <td>LRP095b</td>\n      <td>95.564</td>\n      <td>22.033450</td>\n      <td>90.682737</td>\n      <td>Bhola (Paran Talukderhat)-Burhanuddin-Lalmohon...</td>\n      <td>bridge</td>\n      <td>A</td>\n      <td>NaN</td>\n      <td>2.0</td>\n      <td>0</td>\n      <td>308</td>\n    </tr>\n    <tr>\n      <th>9139</th>\n      <td>R890</td>\n      <td>LRP095c</td>\n      <td>95.725</td>\n      <td>22.031993</td>\n      <td>90.682755</td>\n      <td>Bhola (Paran Talukderhat)-Burhanuddin-Lalmohon...</td>\n      <td>bridge</td>\n      <td>A</td>\n      <td>NaN</td>\n      <td>2.0</td>\n      <td>0</td>\n      <td>308</td>\n    </tr>\n    <tr>\n      <th>9140</th>\n      <td>R890</td>\n      <td>LRP095c</td>\n      <td>95.725</td>\n      <td>22.031993</td>\n      <td>90.682755</td>\n      <td>Bhola (Paran Talukderhat)-Burhanuddin-Lalmohon...</td>\n      <td>bridge</td>\n      <td>A</td>\n      <td>NaN</td>\n      <td>2.0</td>\n      <td>0</td>\n      <td>308</td>\n    </tr>\n    <tr>\n      <th>9141</th>\n      <td>R890</td>\n      <td>LRPE</td>\n      <td>108.785</td>\n      <td>22.080888</td>\n      <td>90.614389</td>\n      <td>End of road at Baburhat, Launch Ghate,Bhola.</td>\n      <td>link</td>\n      <td>NaN</td>\n      <td>4476.0</td>\n      <td>NaN</td>\n      <td>66</td>\n      <td>308</td>\n    </tr>\n  </tbody>\n</table>\n<p>9142 rows × 12 columns</p>\n</div>"
     },
     "execution_count": 78,
     "metadata": {},
     "output_type": "execute_result"
    }
   ],
   "source": [
    "# Group the DataFrame by the 'road' column and calculate the sum of 'vulnerability' for each group\n",
    "road_vulnerability_sum = full_sorted_df.groupby('road')['vulnerability'].transform('sum')\n",
    "\n",
    "# Add a new column 'vulnerability_of_road' to the DataFrame and assign the calculated sum\n",
    "full_sorted_df['vulnerability_of_road'] = road_vulnerability_sum\n",
    "\n",
    "full_sorted_df"
   ],
   "metadata": {
    "collapsed": false,
    "ExecuteTime": {
     "end_time": "2024-03-30T10:14:33.258558700Z",
     "start_time": "2024-03-30T10:14:33.148536400Z"
    }
   },
   "execution_count": 78
  },
  {
   "cell_type": "code",
   "outputs": [
    {
     "data": {
      "text/plain": "      road      lrp  chainage        lat        lon  \\\n0       N1    LRPSb     0.822  23.702778  90.450472   \n2918    N5  LRP321a   321.845  25.709500  89.260944   \n1832    N2  LRP246a   245.126  24.951911  92.007406   \n4313    N8  LRP034a    34.850  23.473722  90.254500   \n5357  R160  LRP043c    43.044  22.844090  91.838517   \n7239  R545  LRP041c    41.506  24.817072  88.983478   \n1193  N106  LRP055b    53.640  22.638833  92.115618   \n3878    N7  LRP120a   120.650  23.405944  89.135575   \n5214  R151  LRP012e    11.761  22.921471  91.613850   \n5644  R170  LRP027a    27.316  22.144106  91.913878   \n\n                                                   name model_type condition  \\\n0                               Intersection with Z1101       link       NaN   \n2918                                              N 517       link       NaN   \n1832  Dhaka (Katchpur)-Bhairab-Jagadishpur-Shaistaga...     bridge         A   \n4313             River start/End of Munshiganj Division       link       NaN   \n5357  Hathazari-Fatikchhari-Manikchhari-Matiranga-Kh...     bridge         A   \n7239  Bogra-Naogaon-Mohadebpur-Patnitala-Dhamoirhat-...     bridge         B   \n1193                Chittagong-Hathazari-Rangamati Road     bridge         A   \n3878  Dauladia-Faridpur (Goalchamot)-Magura-Jhenaida...     bridge         A   \n5214  Baraiyerhat-Karerhat-Heako-Narayanhat-Fatikchh...     bridge         C   \n5644  Patiya-Anowara-Banshkhali-Toitong-Pekua-Badark...     bridge         A   \n\n         AADT  condition_score  vulnerability  vulnerability_of_road  \n0     20447.0              NaN              0                   3576  \n2918   8195.0              NaN             19                   1307  \n1832      NaN              1.0              0                    962  \n4313   6557.0              NaN              0                    893  \n5357      NaN              2.0              0                    785  \n7239      NaN              3.0              0                    779  \n1193      NaN              2.0              0                    736  \n3878      NaN              1.0              0                    717  \n5214      NaN             12.0              0                    688  \n5644      NaN              2.0              0                    526  ",
      "text/html": "<div>\n<style scoped>\n    .dataframe tbody tr th:only-of-type {\n        vertical-align: middle;\n    }\n\n    .dataframe tbody tr th {\n        vertical-align: top;\n    }\n\n    .dataframe thead th {\n        text-align: right;\n    }\n</style>\n<table border=\"1\" class=\"dataframe\">\n  <thead>\n    <tr style=\"text-align: right;\">\n      <th></th>\n      <th>road</th>\n      <th>lrp</th>\n      <th>chainage</th>\n      <th>lat</th>\n      <th>lon</th>\n      <th>name</th>\n      <th>model_type</th>\n      <th>condition</th>\n      <th>AADT</th>\n      <th>condition_score</th>\n      <th>vulnerability</th>\n      <th>vulnerability_of_road</th>\n    </tr>\n  </thead>\n  <tbody>\n    <tr>\n      <th>0</th>\n      <td>N1</td>\n      <td>LRPSb</td>\n      <td>0.822</td>\n      <td>23.702778</td>\n      <td>90.450472</td>\n      <td>Intersection with Z1101</td>\n      <td>link</td>\n      <td>NaN</td>\n      <td>20447.0</td>\n      <td>NaN</td>\n      <td>0</td>\n      <td>3576</td>\n    </tr>\n    <tr>\n      <th>2918</th>\n      <td>N5</td>\n      <td>LRP321a</td>\n      <td>321.845</td>\n      <td>25.709500</td>\n      <td>89.260944</td>\n      <td>N 517</td>\n      <td>link</td>\n      <td>NaN</td>\n      <td>8195.0</td>\n      <td>NaN</td>\n      <td>19</td>\n      <td>1307</td>\n    </tr>\n    <tr>\n      <th>1832</th>\n      <td>N2</td>\n      <td>LRP246a</td>\n      <td>245.126</td>\n      <td>24.951911</td>\n      <td>92.007406</td>\n      <td>Dhaka (Katchpur)-Bhairab-Jagadishpur-Shaistaga...</td>\n      <td>bridge</td>\n      <td>A</td>\n      <td>NaN</td>\n      <td>1.0</td>\n      <td>0</td>\n      <td>962</td>\n    </tr>\n    <tr>\n      <th>4313</th>\n      <td>N8</td>\n      <td>LRP034a</td>\n      <td>34.850</td>\n      <td>23.473722</td>\n      <td>90.254500</td>\n      <td>River start/End of Munshiganj Division</td>\n      <td>link</td>\n      <td>NaN</td>\n      <td>6557.0</td>\n      <td>NaN</td>\n      <td>0</td>\n      <td>893</td>\n    </tr>\n    <tr>\n      <th>5357</th>\n      <td>R160</td>\n      <td>LRP043c</td>\n      <td>43.044</td>\n      <td>22.844090</td>\n      <td>91.838517</td>\n      <td>Hathazari-Fatikchhari-Manikchhari-Matiranga-Kh...</td>\n      <td>bridge</td>\n      <td>A</td>\n      <td>NaN</td>\n      <td>2.0</td>\n      <td>0</td>\n      <td>785</td>\n    </tr>\n    <tr>\n      <th>7239</th>\n      <td>R545</td>\n      <td>LRP041c</td>\n      <td>41.506</td>\n      <td>24.817072</td>\n      <td>88.983478</td>\n      <td>Bogra-Naogaon-Mohadebpur-Patnitala-Dhamoirhat-...</td>\n      <td>bridge</td>\n      <td>B</td>\n      <td>NaN</td>\n      <td>3.0</td>\n      <td>0</td>\n      <td>779</td>\n    </tr>\n    <tr>\n      <th>1193</th>\n      <td>N106</td>\n      <td>LRP055b</td>\n      <td>53.640</td>\n      <td>22.638833</td>\n      <td>92.115618</td>\n      <td>Chittagong-Hathazari-Rangamati Road</td>\n      <td>bridge</td>\n      <td>A</td>\n      <td>NaN</td>\n      <td>2.0</td>\n      <td>0</td>\n      <td>736</td>\n    </tr>\n    <tr>\n      <th>3878</th>\n      <td>N7</td>\n      <td>LRP120a</td>\n      <td>120.650</td>\n      <td>23.405944</td>\n      <td>89.135575</td>\n      <td>Dauladia-Faridpur (Goalchamot)-Magura-Jhenaida...</td>\n      <td>bridge</td>\n      <td>A</td>\n      <td>NaN</td>\n      <td>1.0</td>\n      <td>0</td>\n      <td>717</td>\n    </tr>\n    <tr>\n      <th>5214</th>\n      <td>R151</td>\n      <td>LRP012e</td>\n      <td>11.761</td>\n      <td>22.921471</td>\n      <td>91.613850</td>\n      <td>Baraiyerhat-Karerhat-Heako-Narayanhat-Fatikchh...</td>\n      <td>bridge</td>\n      <td>C</td>\n      <td>NaN</td>\n      <td>12.0</td>\n      <td>0</td>\n      <td>688</td>\n    </tr>\n    <tr>\n      <th>5644</th>\n      <td>R170</td>\n      <td>LRP027a</td>\n      <td>27.316</td>\n      <td>22.144106</td>\n      <td>91.913878</td>\n      <td>Patiya-Anowara-Banshkhali-Toitong-Pekua-Badark...</td>\n      <td>bridge</td>\n      <td>A</td>\n      <td>NaN</td>\n      <td>2.0</td>\n      <td>0</td>\n      <td>526</td>\n    </tr>\n  </tbody>\n</table>\n</div>"
     },
     "execution_count": 79,
     "metadata": {},
     "output_type": "execute_result"
    }
   ],
   "source": [
    "# Sort the DataFrame by the 'vulnerability_of_road' column in descending order\n",
    "sorted_df = full_sorted_df.sort_values(by='vulnerability_of_road', ascending=False)\n",
    "\n",
    "# Drop duplicate values in the 'road' column\n",
    "unique_roads_df = sorted_df.drop_duplicates(subset='road')\n",
    "\n",
    "# Take the top 10 rows from the DataFrame\n",
    "top_10_unique_vulnerability = unique_roads_df.head(10)\n",
    "\n",
    "# Display the resulting DataFrame\n",
    "top_10_unique_vulnerability\n"
   ],
   "metadata": {
    "collapsed": false,
    "ExecuteTime": {
     "end_time": "2024-03-30T10:14:51.909132400Z",
     "start_time": "2024-03-30T10:14:51.817315900Z"
    }
   },
   "execution_count": 79
  },
  {
   "cell_type": "code",
   "outputs": [
    {
     "data": {
      "text/plain": "      road  vulnerability_of_road\n0       N1                   3576\n2918    N5                   1307\n1832    N2                    962\n4313    N8                    893\n5357  R160                    785\n7239  R545                    779\n1193  N106                    736\n3878    N7                    717\n5214  R151                    688\n5644  R170                    526",
      "text/html": "<div>\n<style scoped>\n    .dataframe tbody tr th:only-of-type {\n        vertical-align: middle;\n    }\n\n    .dataframe tbody tr th {\n        vertical-align: top;\n    }\n\n    .dataframe thead th {\n        text-align: right;\n    }\n</style>\n<table border=\"1\" class=\"dataframe\">\n  <thead>\n    <tr style=\"text-align: right;\">\n      <th></th>\n      <th>road</th>\n      <th>vulnerability_of_road</th>\n    </tr>\n  </thead>\n  <tbody>\n    <tr>\n      <th>0</th>\n      <td>N1</td>\n      <td>3576</td>\n    </tr>\n    <tr>\n      <th>2918</th>\n      <td>N5</td>\n      <td>1307</td>\n    </tr>\n    <tr>\n      <th>1832</th>\n      <td>N2</td>\n      <td>962</td>\n    </tr>\n    <tr>\n      <th>4313</th>\n      <td>N8</td>\n      <td>893</td>\n    </tr>\n    <tr>\n      <th>5357</th>\n      <td>R160</td>\n      <td>785</td>\n    </tr>\n    <tr>\n      <th>7239</th>\n      <td>R545</td>\n      <td>779</td>\n    </tr>\n    <tr>\n      <th>1193</th>\n      <td>N106</td>\n      <td>736</td>\n    </tr>\n    <tr>\n      <th>3878</th>\n      <td>N7</td>\n      <td>717</td>\n    </tr>\n    <tr>\n      <th>5214</th>\n      <td>R151</td>\n      <td>688</td>\n    </tr>\n    <tr>\n      <th>5644</th>\n      <td>R170</td>\n      <td>526</td>\n    </tr>\n  </tbody>\n</table>\n</div>"
     },
     "execution_count": 80,
     "metadata": {},
     "output_type": "execute_result"
    }
   ],
   "source": [
    "results_vulnerability = top_10_unique_vulnerability[['road', 'vulnerability_of_road']]\n",
    "results_vulnerability"
   ],
   "metadata": {
    "collapsed": false,
    "ExecuteTime": {
     "end_time": "2024-03-30T10:14:57.021291Z",
     "start_time": "2024-03-30T10:14:56.947640100Z"
    }
   },
   "execution_count": 80
  },
  {
   "cell_type": "markdown",
   "source": [
    "# Calculate criticality"
   ],
   "metadata": {
    "collapsed": false
   }
  },
  {
   "cell_type": "markdown",
   "source": [
    "The criticality is calculated by calculating the sum of AADT for each road, and dividing this by the number of rows and the chainage. This way, it is standardized for each road."
   ],
   "metadata": {
    "collapsed": false
   }
  },
  {
   "cell_type": "code",
   "outputs": [
    {
     "data": {
      "text/plain": "      road      lrp  chainage        lat        lon  \\\n0       N1    LRPSb     0.822  23.702778  90.450472   \n1       N1  LRP001a     1.800  23.698739  90.458861   \n2       N1  LRP004a     4.175  23.693805  90.480527   \n3       N1  LRP004b     4.925  23.694664  90.487775   \n4       N1  LRP007a     7.181  23.697916  90.509278   \n...    ...      ...       ...        ...        ...   \n9137  R890  LRP095a    94.868  22.039724  90.682662   \n9138  R890  LRP095b    95.564  22.033450  90.682737   \n9139  R890  LRP095c    95.725  22.031993  90.682755   \n9140  R890  LRP095c    95.725  22.031993  90.682755   \n9141  R890     LRPE   108.785  22.080888  90.614389   \n\n                                                   name model_type condition  \\\n0                               Intersection with Z1101       link       NaN   \n1     Dhaka (Jatrabari)-Comilla (Mainamati)-Chittago...     bridge         A   \n2                             Road to Narayanganj(R111)       link       NaN   \n3     Dhaka (Jatrabari)-Comilla (Mainamati)-Chittago...     bridge         A   \n4              R110,Left to Demra, Right to Narayanganj       link       NaN   \n...                                                 ...        ...       ...   \n9137  Bhola (Paran Talukderhat)-Burhanuddin-Lalmohon...     bridge         A   \n9138  Bhola (Paran Talukderhat)-Burhanuddin-Lalmohon...     bridge         A   \n9139  Bhola (Paran Talukderhat)-Burhanuddin-Lalmohon...     bridge         A   \n9140  Bhola (Paran Talukderhat)-Burhanuddin-Lalmohon...     bridge         A   \n9141       End of road at Baburhat, Launch Ghate,Bhola.       link       NaN   \n\n         AADT  condition_score  vulnerability  vulnerability_of_road  \\\n0     20447.0              NaN              0                   3576   \n1         NaN              1.0              0                   3576   \n2     20447.0              NaN              1                   3576   \n3         NaN              1.0              0                   3576   \n4     17109.0              NaN              1                   3576   \n...       ...              ...            ...                    ...   \n9137      NaN              2.0              0                    308   \n9138      NaN              2.0              0                    308   \n9139      NaN              2.0              0                    308   \n9140      NaN              2.0              0                    308   \n9141   4476.0              NaN             66                    308   \n\n      criticality_of_road  \n0                2.047421  \n1                2.047421  \n2                2.047421  \n3                2.047421  \n4                2.047421  \n...                   ...  \n9137             2.537424  \n9138             2.537424  \n9139             2.537424  \n9140             2.537424  \n9141             2.537424  \n\n[9142 rows x 13 columns]",
      "text/html": "<div>\n<style scoped>\n    .dataframe tbody tr th:only-of-type {\n        vertical-align: middle;\n    }\n\n    .dataframe tbody tr th {\n        vertical-align: top;\n    }\n\n    .dataframe thead th {\n        text-align: right;\n    }\n</style>\n<table border=\"1\" class=\"dataframe\">\n  <thead>\n    <tr style=\"text-align: right;\">\n      <th></th>\n      <th>road</th>\n      <th>lrp</th>\n      <th>chainage</th>\n      <th>lat</th>\n      <th>lon</th>\n      <th>name</th>\n      <th>model_type</th>\n      <th>condition</th>\n      <th>AADT</th>\n      <th>condition_score</th>\n      <th>vulnerability</th>\n      <th>vulnerability_of_road</th>\n      <th>criticality_of_road</th>\n    </tr>\n  </thead>\n  <tbody>\n    <tr>\n      <th>0</th>\n      <td>N1</td>\n      <td>LRPSb</td>\n      <td>0.822</td>\n      <td>23.702778</td>\n      <td>90.450472</td>\n      <td>Intersection with Z1101</td>\n      <td>link</td>\n      <td>NaN</td>\n      <td>20447.0</td>\n      <td>NaN</td>\n      <td>0</td>\n      <td>3576</td>\n      <td>2.047421</td>\n    </tr>\n    <tr>\n      <th>1</th>\n      <td>N1</td>\n      <td>LRP001a</td>\n      <td>1.800</td>\n      <td>23.698739</td>\n      <td>90.458861</td>\n      <td>Dhaka (Jatrabari)-Comilla (Mainamati)-Chittago...</td>\n      <td>bridge</td>\n      <td>A</td>\n      <td>NaN</td>\n      <td>1.0</td>\n      <td>0</td>\n      <td>3576</td>\n      <td>2.047421</td>\n    </tr>\n    <tr>\n      <th>2</th>\n      <td>N1</td>\n      <td>LRP004a</td>\n      <td>4.175</td>\n      <td>23.693805</td>\n      <td>90.480527</td>\n      <td>Road to Narayanganj(R111)</td>\n      <td>link</td>\n      <td>NaN</td>\n      <td>20447.0</td>\n      <td>NaN</td>\n      <td>1</td>\n      <td>3576</td>\n      <td>2.047421</td>\n    </tr>\n    <tr>\n      <th>3</th>\n      <td>N1</td>\n      <td>LRP004b</td>\n      <td>4.925</td>\n      <td>23.694664</td>\n      <td>90.487775</td>\n      <td>Dhaka (Jatrabari)-Comilla (Mainamati)-Chittago...</td>\n      <td>bridge</td>\n      <td>A</td>\n      <td>NaN</td>\n      <td>1.0</td>\n      <td>0</td>\n      <td>3576</td>\n      <td>2.047421</td>\n    </tr>\n    <tr>\n      <th>4</th>\n      <td>N1</td>\n      <td>LRP007a</td>\n      <td>7.181</td>\n      <td>23.697916</td>\n      <td>90.509278</td>\n      <td>R110,Left to Demra, Right to Narayanganj</td>\n      <td>link</td>\n      <td>NaN</td>\n      <td>17109.0</td>\n      <td>NaN</td>\n      <td>1</td>\n      <td>3576</td>\n      <td>2.047421</td>\n    </tr>\n    <tr>\n      <th>...</th>\n      <td>...</td>\n      <td>...</td>\n      <td>...</td>\n      <td>...</td>\n      <td>...</td>\n      <td>...</td>\n      <td>...</td>\n      <td>...</td>\n      <td>...</td>\n      <td>...</td>\n      <td>...</td>\n      <td>...</td>\n      <td>...</td>\n    </tr>\n    <tr>\n      <th>9137</th>\n      <td>R890</td>\n      <td>LRP095a</td>\n      <td>94.868</td>\n      <td>22.039724</td>\n      <td>90.682662</td>\n      <td>Bhola (Paran Talukderhat)-Burhanuddin-Lalmohon...</td>\n      <td>bridge</td>\n      <td>A</td>\n      <td>NaN</td>\n      <td>2.0</td>\n      <td>0</td>\n      <td>308</td>\n      <td>2.537424</td>\n    </tr>\n    <tr>\n      <th>9138</th>\n      <td>R890</td>\n      <td>LRP095b</td>\n      <td>95.564</td>\n      <td>22.033450</td>\n      <td>90.682737</td>\n      <td>Bhola (Paran Talukderhat)-Burhanuddin-Lalmohon...</td>\n      <td>bridge</td>\n      <td>A</td>\n      <td>NaN</td>\n      <td>2.0</td>\n      <td>0</td>\n      <td>308</td>\n      <td>2.537424</td>\n    </tr>\n    <tr>\n      <th>9139</th>\n      <td>R890</td>\n      <td>LRP095c</td>\n      <td>95.725</td>\n      <td>22.031993</td>\n      <td>90.682755</td>\n      <td>Bhola (Paran Talukderhat)-Burhanuddin-Lalmohon...</td>\n      <td>bridge</td>\n      <td>A</td>\n      <td>NaN</td>\n      <td>2.0</td>\n      <td>0</td>\n      <td>308</td>\n      <td>2.537424</td>\n    </tr>\n    <tr>\n      <th>9140</th>\n      <td>R890</td>\n      <td>LRP095c</td>\n      <td>95.725</td>\n      <td>22.031993</td>\n      <td>90.682755</td>\n      <td>Bhola (Paran Talukderhat)-Burhanuddin-Lalmohon...</td>\n      <td>bridge</td>\n      <td>A</td>\n      <td>NaN</td>\n      <td>2.0</td>\n      <td>0</td>\n      <td>308</td>\n      <td>2.537424</td>\n    </tr>\n    <tr>\n      <th>9141</th>\n      <td>R890</td>\n      <td>LRPE</td>\n      <td>108.785</td>\n      <td>22.080888</td>\n      <td>90.614389</td>\n      <td>End of road at Baburhat, Launch Ghate,Bhola.</td>\n      <td>link</td>\n      <td>NaN</td>\n      <td>4476.0</td>\n      <td>NaN</td>\n      <td>66</td>\n      <td>308</td>\n      <td>2.537424</td>\n    </tr>\n  </tbody>\n</table>\n<p>9142 rows × 13 columns</p>\n</div>"
     },
     "execution_count": 81,
     "metadata": {},
     "output_type": "execute_result"
    }
   ],
   "source": [
    "full_sorted_df1 = full_sorted_df.copy()\n",
    "\n",
    "# Identify the number of rows for each road\n",
    "full_sorted_df1['number_of_rows'] = full_sorted_df1.groupby('road')['road'].transform('count')\n",
    "\n",
    "# Calculate the total AADT for each road\n",
    "full_sorted_df1['total_AADT'] = full_sorted_df1.groupby('road')['AADT'].transform('sum')\n",
    "\n",
    "# Calculate the maximum value of chainage for each road\n",
    "full_sorted_df1['max_chainage'] = full_sorted_df1.groupby('road')['chainage'].transform('max')\n",
    "\n",
    "# Calculate the criticality of road\n",
    "full_sorted_df1['criticality_of_road'] = (full_sorted_df1['total_AADT'] / full_sorted_df1['number_of_rows']) / full_sorted_df1['max_chainage']\n",
    "\n",
    "# Drop the intermediate columns\n",
    "full_sorted_df1.drop(['number_of_rows', 'total_AADT', 'max_chainage'], axis=1, inplace=True)\n",
    "\n",
    "full_sorted_df1"
   ],
   "metadata": {
    "collapsed": false,
    "ExecuteTime": {
     "end_time": "2024-03-30T10:26:44.056364400Z",
     "start_time": "2024-03-30T10:26:43.972540500Z"
    }
   },
   "execution_count": 81
  },
  {
   "cell_type": "code",
   "outputs": [
    {
     "data": {
      "text/plain": "      road      lrp  chainage        lat        lon  \\\n4229  N710     LRPE     0.400  22.816389  89.562806   \n2285  N303     LRPE     1.009  24.678499  90.407167   \n2529  N407     LRPE     2.206  24.230749  89.992972   \n4033  N701     LRPE     1.000  23.765139  89.780555   \n8749  R851     LRPE     0.650  23.020805  89.840889   \n6122  R247     LRPE     1.188  24.899555  91.879138   \n964   N103     LRPE     4.779  23.996889  91.109278   \n6551  R303  LRP001a     1.101  23.892109  90.390874   \n6006  R222     LRPE     0.980  24.275777  91.481277   \n8671  R814    LRPSb     1.285  23.565972  90.514389   \n\n                                                   name model_type condition  \\\n4229             End of road at Dakbangla more (Khulna)       link       NaN   \n2285  The Road ends intersecting N3 after Churkhai B...       link       NaN   \n2529         The road ends Intersecting Z4012 at Bangra       link       NaN   \n4033                       End of road and meet with N7       link       NaN   \n8749  End of road at Bustermina and intersect with N805       link       NaN   \n6122  The road ends Intersecting Chowhatta- Kumarpar...       link       NaN   \n964                 Intersection with N102 at Ghaturia.       link       NaN   \n6551                                 Tongi By-Pass Road     bridge         C   \n6006               Road Ena wiht N2, Dhaka -Sylhet road       link       NaN   \n8671                                 Old Ferry Ghat End       link       NaN   \n\n         AADT  condition_score  vulnerability  vulnerability_of_road  \\\n4229  12352.0              NaN              0                      0   \n2285  28352.0              NaN              0                      0   \n2529  16456.0              NaN              0                      0   \n4033   6731.0              NaN              0                      0   \n8749   3989.0              NaN              0                      0   \n6122   6758.0              NaN              0                      0   \n964   26699.0              NaN            281                    281   \n6551      NaN              6.0              0                      9   \n6006   5017.0              NaN              0                      0   \n8671   9877.0              NaN              0                      0   \n\n      criticality_of_road  \n4229         30880.000000  \n2285         28099.108028  \n2529          7459.655485  \n4033          6731.000000  \n8749          6136.923077  \n6122          5688.552189  \n964           5586.733626  \n6551          5509.635974  \n6006          5119.387755  \n8671          4855.948869  ",
      "text/html": "<div>\n<style scoped>\n    .dataframe tbody tr th:only-of-type {\n        vertical-align: middle;\n    }\n\n    .dataframe tbody tr th {\n        vertical-align: top;\n    }\n\n    .dataframe thead th {\n        text-align: right;\n    }\n</style>\n<table border=\"1\" class=\"dataframe\">\n  <thead>\n    <tr style=\"text-align: right;\">\n      <th></th>\n      <th>road</th>\n      <th>lrp</th>\n      <th>chainage</th>\n      <th>lat</th>\n      <th>lon</th>\n      <th>name</th>\n      <th>model_type</th>\n      <th>condition</th>\n      <th>AADT</th>\n      <th>condition_score</th>\n      <th>vulnerability</th>\n      <th>vulnerability_of_road</th>\n      <th>criticality_of_road</th>\n    </tr>\n  </thead>\n  <tbody>\n    <tr>\n      <th>4229</th>\n      <td>N710</td>\n      <td>LRPE</td>\n      <td>0.400</td>\n      <td>22.816389</td>\n      <td>89.562806</td>\n      <td>End of road at Dakbangla more (Khulna)</td>\n      <td>link</td>\n      <td>NaN</td>\n      <td>12352.0</td>\n      <td>NaN</td>\n      <td>0</td>\n      <td>0</td>\n      <td>30880.000000</td>\n    </tr>\n    <tr>\n      <th>2285</th>\n      <td>N303</td>\n      <td>LRPE</td>\n      <td>1.009</td>\n      <td>24.678499</td>\n      <td>90.407167</td>\n      <td>The Road ends intersecting N3 after Churkhai B...</td>\n      <td>link</td>\n      <td>NaN</td>\n      <td>28352.0</td>\n      <td>NaN</td>\n      <td>0</td>\n      <td>0</td>\n      <td>28099.108028</td>\n    </tr>\n    <tr>\n      <th>2529</th>\n      <td>N407</td>\n      <td>LRPE</td>\n      <td>2.206</td>\n      <td>24.230749</td>\n      <td>89.992972</td>\n      <td>The road ends Intersecting Z4012 at Bangra</td>\n      <td>link</td>\n      <td>NaN</td>\n      <td>16456.0</td>\n      <td>NaN</td>\n      <td>0</td>\n      <td>0</td>\n      <td>7459.655485</td>\n    </tr>\n    <tr>\n      <th>4033</th>\n      <td>N701</td>\n      <td>LRPE</td>\n      <td>1.000</td>\n      <td>23.765139</td>\n      <td>89.780555</td>\n      <td>End of road and meet with N7</td>\n      <td>link</td>\n      <td>NaN</td>\n      <td>6731.0</td>\n      <td>NaN</td>\n      <td>0</td>\n      <td>0</td>\n      <td>6731.000000</td>\n    </tr>\n    <tr>\n      <th>8749</th>\n      <td>R851</td>\n      <td>LRPE</td>\n      <td>0.650</td>\n      <td>23.020805</td>\n      <td>89.840889</td>\n      <td>End of road at Bustermina and intersect with N805</td>\n      <td>link</td>\n      <td>NaN</td>\n      <td>3989.0</td>\n      <td>NaN</td>\n      <td>0</td>\n      <td>0</td>\n      <td>6136.923077</td>\n    </tr>\n    <tr>\n      <th>6122</th>\n      <td>R247</td>\n      <td>LRPE</td>\n      <td>1.188</td>\n      <td>24.899555</td>\n      <td>91.879138</td>\n      <td>The road ends Intersecting Chowhatta- Kumarpar...</td>\n      <td>link</td>\n      <td>NaN</td>\n      <td>6758.0</td>\n      <td>NaN</td>\n      <td>0</td>\n      <td>0</td>\n      <td>5688.552189</td>\n    </tr>\n    <tr>\n      <th>964</th>\n      <td>N103</td>\n      <td>LRPE</td>\n      <td>4.779</td>\n      <td>23.996889</td>\n      <td>91.109278</td>\n      <td>Intersection with N102 at Ghaturia.</td>\n      <td>link</td>\n      <td>NaN</td>\n      <td>26699.0</td>\n      <td>NaN</td>\n      <td>281</td>\n      <td>281</td>\n      <td>5586.733626</td>\n    </tr>\n    <tr>\n      <th>6551</th>\n      <td>R303</td>\n      <td>LRP001a</td>\n      <td>1.101</td>\n      <td>23.892109</td>\n      <td>90.390874</td>\n      <td>Tongi By-Pass Road</td>\n      <td>bridge</td>\n      <td>C</td>\n      <td>NaN</td>\n      <td>6.0</td>\n      <td>0</td>\n      <td>9</td>\n      <td>5509.635974</td>\n    </tr>\n    <tr>\n      <th>6006</th>\n      <td>R222</td>\n      <td>LRPE</td>\n      <td>0.980</td>\n      <td>24.275777</td>\n      <td>91.481277</td>\n      <td>Road Ena wiht N2, Dhaka -Sylhet road</td>\n      <td>link</td>\n      <td>NaN</td>\n      <td>5017.0</td>\n      <td>NaN</td>\n      <td>0</td>\n      <td>0</td>\n      <td>5119.387755</td>\n    </tr>\n    <tr>\n      <th>8671</th>\n      <td>R814</td>\n      <td>LRPSb</td>\n      <td>1.285</td>\n      <td>23.565972</td>\n      <td>90.514389</td>\n      <td>Old Ferry Ghat End</td>\n      <td>link</td>\n      <td>NaN</td>\n      <td>9877.0</td>\n      <td>NaN</td>\n      <td>0</td>\n      <td>0</td>\n      <td>4855.948869</td>\n    </tr>\n  </tbody>\n</table>\n</div>"
     },
     "execution_count": 82,
     "metadata": {},
     "output_type": "execute_result"
    }
   ],
   "source": [
    "# Sort the DataFrame by the 'criticality_of_road' column in descending order\n",
    "sorted_df_crit = full_sorted_df1.sort_values(by='criticality_of_road', ascending=False)\n",
    "\n",
    "# Drop duplicate values in the 'road' column\n",
    "unique_roads_df_crit = sorted_df_crit.drop_duplicates(subset='road')\n",
    "\n",
    "# Take the top 10 rows from the DataFrame\n",
    "top_10_unique_criticality = unique_roads_df_crit.head(10)\n",
    "\n",
    "# Display the resulting DataFrame\n",
    "top_10_unique_criticality"
   ],
   "metadata": {
    "collapsed": false,
    "ExecuteTime": {
     "end_time": "2024-03-30T10:27:00.773887700Z",
     "start_time": "2024-03-30T10:27:00.686971100Z"
    }
   },
   "execution_count": 82
  },
  {
   "cell_type": "code",
   "outputs": [
    {
     "data": {
      "text/plain": "      road  criticality_of_road\n4229  N710         30880.000000\n2285  N303         28099.108028\n2529  N407          7459.655485\n4033  N701          6731.000000\n8749  R851          6136.923077\n6122  R247          5688.552189\n964   N103          5586.733626\n6551  R303          5509.635974\n6006  R222          5119.387755\n8671  R814          4855.948869",
      "text/html": "<div>\n<style scoped>\n    .dataframe tbody tr th:only-of-type {\n        vertical-align: middle;\n    }\n\n    .dataframe tbody tr th {\n        vertical-align: top;\n    }\n\n    .dataframe thead th {\n        text-align: right;\n    }\n</style>\n<table border=\"1\" class=\"dataframe\">\n  <thead>\n    <tr style=\"text-align: right;\">\n      <th></th>\n      <th>road</th>\n      <th>criticality_of_road</th>\n    </tr>\n  </thead>\n  <tbody>\n    <tr>\n      <th>4229</th>\n      <td>N710</td>\n      <td>30880.000000</td>\n    </tr>\n    <tr>\n      <th>2285</th>\n      <td>N303</td>\n      <td>28099.108028</td>\n    </tr>\n    <tr>\n      <th>2529</th>\n      <td>N407</td>\n      <td>7459.655485</td>\n    </tr>\n    <tr>\n      <th>4033</th>\n      <td>N701</td>\n      <td>6731.000000</td>\n    </tr>\n    <tr>\n      <th>8749</th>\n      <td>R851</td>\n      <td>6136.923077</td>\n    </tr>\n    <tr>\n      <th>6122</th>\n      <td>R247</td>\n      <td>5688.552189</td>\n    </tr>\n    <tr>\n      <th>964</th>\n      <td>N103</td>\n      <td>5586.733626</td>\n    </tr>\n    <tr>\n      <th>6551</th>\n      <td>R303</td>\n      <td>5509.635974</td>\n    </tr>\n    <tr>\n      <th>6006</th>\n      <td>R222</td>\n      <td>5119.387755</td>\n    </tr>\n    <tr>\n      <th>8671</th>\n      <td>R814</td>\n      <td>4855.948869</td>\n    </tr>\n  </tbody>\n</table>\n</div>"
     },
     "execution_count": 83,
     "metadata": {},
     "output_type": "execute_result"
    }
   ],
   "source": [
    "results_criticality = top_10_unique_criticality[['road', 'criticality_of_road']]\n",
    "results_criticality"
   ],
   "metadata": {
    "collapsed": false,
    "ExecuteTime": {
     "end_time": "2024-03-30T10:27:03.575098200Z",
     "start_time": "2024-03-30T10:27:03.490919600Z"
    }
   },
   "execution_count": 83
  },
  {
   "cell_type": "code",
   "outputs": [
    {
     "data": {
      "text/plain": "      road  criticality_of_road\n4229  N710                30880\n2285  N303                28099\n2529  N407                 7460\n4033  N701                 6731\n8749  R851                 6137\n6122  R247                 5689\n964   N103                 5587\n6551  R303                 5510\n6006  R222                 5119\n8671  R814                 4856",
      "text/html": "<div>\n<style scoped>\n    .dataframe tbody tr th:only-of-type {\n        vertical-align: middle;\n    }\n\n    .dataframe tbody tr th {\n        vertical-align: top;\n    }\n\n    .dataframe thead th {\n        text-align: right;\n    }\n</style>\n<table border=\"1\" class=\"dataframe\">\n  <thead>\n    <tr style=\"text-align: right;\">\n      <th></th>\n      <th>road</th>\n      <th>criticality_of_road</th>\n    </tr>\n  </thead>\n  <tbody>\n    <tr>\n      <th>4229</th>\n      <td>N710</td>\n      <td>30880</td>\n    </tr>\n    <tr>\n      <th>2285</th>\n      <td>N303</td>\n      <td>28099</td>\n    </tr>\n    <tr>\n      <th>2529</th>\n      <td>N407</td>\n      <td>7460</td>\n    </tr>\n    <tr>\n      <th>4033</th>\n      <td>N701</td>\n      <td>6731</td>\n    </tr>\n    <tr>\n      <th>8749</th>\n      <td>R851</td>\n      <td>6137</td>\n    </tr>\n    <tr>\n      <th>6122</th>\n      <td>R247</td>\n      <td>5689</td>\n    </tr>\n    <tr>\n      <th>964</th>\n      <td>N103</td>\n      <td>5587</td>\n    </tr>\n    <tr>\n      <th>6551</th>\n      <td>R303</td>\n      <td>5510</td>\n    </tr>\n    <tr>\n      <th>6006</th>\n      <td>R222</td>\n      <td>5119</td>\n    </tr>\n    <tr>\n      <th>8671</th>\n      <td>R814</td>\n      <td>4856</td>\n    </tr>\n  </tbody>\n</table>\n</div>"
     },
     "execution_count": 84,
     "metadata": {},
     "output_type": "execute_result"
    }
   ],
   "source": [
    "# Round all values in the column to integers\n",
    "results_criticality['criticality_of_road'] = results_criticality['criticality_of_road'].round().astype(int)\n",
    "\n",
    "# View the updated DataFrame\n",
    "results_criticality"
   ],
   "metadata": {
    "collapsed": false,
    "ExecuteTime": {
     "end_time": "2024-03-30T10:27:05.812800600Z",
     "start_time": "2024-03-30T10:27:05.749419800Z"
    }
   },
   "execution_count": 84
  },
  {
   "cell_type": "markdown",
   "source": [
    "# Calculate roads with high criticality and high vulnerability."
   ],
   "metadata": {
    "collapsed": false
   }
  },
  {
   "cell_type": "code",
   "outputs": [
    {
     "data": {
      "text/plain": "      road      lrp  chainage        lat        lon  \\\n0       N1    LRPSb     0.822  23.702778  90.450472   \n1       N1  LRP001a     1.800  23.698739  90.458861   \n2       N1  LRP004a     4.175  23.693805  90.480527   \n3       N1  LRP004b     4.925  23.694664  90.487775   \n4       N1  LRP007a     7.181  23.697916  90.509278   \n...    ...      ...       ...        ...        ...   \n9137  R890  LRP095a    94.868  22.039724  90.682662   \n9138  R890  LRP095b    95.564  22.033450  90.682737   \n9139  R890  LRP095c    95.725  22.031993  90.682755   \n9140  R890  LRP095c    95.725  22.031993  90.682755   \n9141  R890     LRPE   108.785  22.080888  90.614389   \n\n                                                   name model_type condition  \\\n0                               Intersection with Z1101       link       NaN   \n1     Dhaka (Jatrabari)-Comilla (Mainamati)-Chittago...     bridge         A   \n2                             Road to Narayanganj(R111)       link       NaN   \n3     Dhaka (Jatrabari)-Comilla (Mainamati)-Chittago...     bridge         A   \n4              R110,Left to Demra, Right to Narayanganj       link       NaN   \n...                                                 ...        ...       ...   \n9137  Bhola (Paran Talukderhat)-Burhanuddin-Lalmohon...     bridge         A   \n9138  Bhola (Paran Talukderhat)-Burhanuddin-Lalmohon...     bridge         A   \n9139  Bhola (Paran Talukderhat)-Burhanuddin-Lalmohon...     bridge         A   \n9140  Bhola (Paran Talukderhat)-Burhanuddin-Lalmohon...     bridge         A   \n9141       End of road at Baburhat, Launch Ghate,Bhola.       link       NaN   \n\n         AADT  condition_score  vulnerability  vulnerability_of_road  \\\n0     20447.0              NaN              0                   3576   \n1         NaN              1.0              0                   3576   \n2     20447.0              NaN              1                   3576   \n3         NaN              1.0              0                   3576   \n4     17109.0              NaN              1                   3576   \n...       ...              ...            ...                    ...   \n9137      NaN              2.0              0                    308   \n9138      NaN              2.0              0                    308   \n9139      NaN              2.0              0                    308   \n9140      NaN              2.0              0                    308   \n9141   4476.0              NaN             66                    308   \n\n      criticality_of_road  index_vulnerability  \n0                2.047421             5.076936  \n1                2.047421             5.076936  \n2                2.047421             5.076936  \n3                2.047421             5.076936  \n4                2.047421             5.076936  \n...                   ...                  ...  \n9137             2.537424             0.437275  \n9138             2.537424             0.437275  \n9139             2.537424             0.437275  \n9140             2.537424             0.437275  \n9141             2.537424             0.437275  \n\n[9142 rows x 14 columns]",
      "text/html": "<div>\n<style scoped>\n    .dataframe tbody tr th:only-of-type {\n        vertical-align: middle;\n    }\n\n    .dataframe tbody tr th {\n        vertical-align: top;\n    }\n\n    .dataframe thead th {\n        text-align: right;\n    }\n</style>\n<table border=\"1\" class=\"dataframe\">\n  <thead>\n    <tr style=\"text-align: right;\">\n      <th></th>\n      <th>road</th>\n      <th>lrp</th>\n      <th>chainage</th>\n      <th>lat</th>\n      <th>lon</th>\n      <th>name</th>\n      <th>model_type</th>\n      <th>condition</th>\n      <th>AADT</th>\n      <th>condition_score</th>\n      <th>vulnerability</th>\n      <th>vulnerability_of_road</th>\n      <th>criticality_of_road</th>\n      <th>index_vulnerability</th>\n    </tr>\n  </thead>\n  <tbody>\n    <tr>\n      <th>0</th>\n      <td>N1</td>\n      <td>LRPSb</td>\n      <td>0.822</td>\n      <td>23.702778</td>\n      <td>90.450472</td>\n      <td>Intersection with Z1101</td>\n      <td>link</td>\n      <td>NaN</td>\n      <td>20447.0</td>\n      <td>NaN</td>\n      <td>0</td>\n      <td>3576</td>\n      <td>2.047421</td>\n      <td>5.076936</td>\n    </tr>\n    <tr>\n      <th>1</th>\n      <td>N1</td>\n      <td>LRP001a</td>\n      <td>1.800</td>\n      <td>23.698739</td>\n      <td>90.458861</td>\n      <td>Dhaka (Jatrabari)-Comilla (Mainamati)-Chittago...</td>\n      <td>bridge</td>\n      <td>A</td>\n      <td>NaN</td>\n      <td>1.0</td>\n      <td>0</td>\n      <td>3576</td>\n      <td>2.047421</td>\n      <td>5.076936</td>\n    </tr>\n    <tr>\n      <th>2</th>\n      <td>N1</td>\n      <td>LRP004a</td>\n      <td>4.175</td>\n      <td>23.693805</td>\n      <td>90.480527</td>\n      <td>Road to Narayanganj(R111)</td>\n      <td>link</td>\n      <td>NaN</td>\n      <td>20447.0</td>\n      <td>NaN</td>\n      <td>1</td>\n      <td>3576</td>\n      <td>2.047421</td>\n      <td>5.076936</td>\n    </tr>\n    <tr>\n      <th>3</th>\n      <td>N1</td>\n      <td>LRP004b</td>\n      <td>4.925</td>\n      <td>23.694664</td>\n      <td>90.487775</td>\n      <td>Dhaka (Jatrabari)-Comilla (Mainamati)-Chittago...</td>\n      <td>bridge</td>\n      <td>A</td>\n      <td>NaN</td>\n      <td>1.0</td>\n      <td>0</td>\n      <td>3576</td>\n      <td>2.047421</td>\n      <td>5.076936</td>\n    </tr>\n    <tr>\n      <th>4</th>\n      <td>N1</td>\n      <td>LRP007a</td>\n      <td>7.181</td>\n      <td>23.697916</td>\n      <td>90.509278</td>\n      <td>R110,Left to Demra, Right to Narayanganj</td>\n      <td>link</td>\n      <td>NaN</td>\n      <td>17109.0</td>\n      <td>NaN</td>\n      <td>1</td>\n      <td>3576</td>\n      <td>2.047421</td>\n      <td>5.076936</td>\n    </tr>\n    <tr>\n      <th>...</th>\n      <td>...</td>\n      <td>...</td>\n      <td>...</td>\n      <td>...</td>\n      <td>...</td>\n      <td>...</td>\n      <td>...</td>\n      <td>...</td>\n      <td>...</td>\n      <td>...</td>\n      <td>...</td>\n      <td>...</td>\n      <td>...</td>\n      <td>...</td>\n    </tr>\n    <tr>\n      <th>9137</th>\n      <td>R890</td>\n      <td>LRP095a</td>\n      <td>94.868</td>\n      <td>22.039724</td>\n      <td>90.682662</td>\n      <td>Bhola (Paran Talukderhat)-Burhanuddin-Lalmohon...</td>\n      <td>bridge</td>\n      <td>A</td>\n      <td>NaN</td>\n      <td>2.0</td>\n      <td>0</td>\n      <td>308</td>\n      <td>2.537424</td>\n      <td>0.437275</td>\n    </tr>\n    <tr>\n      <th>9138</th>\n      <td>R890</td>\n      <td>LRP095b</td>\n      <td>95.564</td>\n      <td>22.033450</td>\n      <td>90.682737</td>\n      <td>Bhola (Paran Talukderhat)-Burhanuddin-Lalmohon...</td>\n      <td>bridge</td>\n      <td>A</td>\n      <td>NaN</td>\n      <td>2.0</td>\n      <td>0</td>\n      <td>308</td>\n      <td>2.537424</td>\n      <td>0.437275</td>\n    </tr>\n    <tr>\n      <th>9139</th>\n      <td>R890</td>\n      <td>LRP095c</td>\n      <td>95.725</td>\n      <td>22.031993</td>\n      <td>90.682755</td>\n      <td>Bhola (Paran Talukderhat)-Burhanuddin-Lalmohon...</td>\n      <td>bridge</td>\n      <td>A</td>\n      <td>NaN</td>\n      <td>2.0</td>\n      <td>0</td>\n      <td>308</td>\n      <td>2.537424</td>\n      <td>0.437275</td>\n    </tr>\n    <tr>\n      <th>9140</th>\n      <td>R890</td>\n      <td>LRP095c</td>\n      <td>95.725</td>\n      <td>22.031993</td>\n      <td>90.682755</td>\n      <td>Bhola (Paran Talukderhat)-Burhanuddin-Lalmohon...</td>\n      <td>bridge</td>\n      <td>A</td>\n      <td>NaN</td>\n      <td>2.0</td>\n      <td>0</td>\n      <td>308</td>\n      <td>2.537424</td>\n      <td>0.437275</td>\n    </tr>\n    <tr>\n      <th>9141</th>\n      <td>R890</td>\n      <td>LRPE</td>\n      <td>108.785</td>\n      <td>22.080888</td>\n      <td>90.614389</td>\n      <td>End of road at Baburhat, Launch Ghate,Bhola.</td>\n      <td>link</td>\n      <td>NaN</td>\n      <td>4476.0</td>\n      <td>NaN</td>\n      <td>66</td>\n      <td>308</td>\n      <td>2.537424</td>\n      <td>0.437275</td>\n    </tr>\n  </tbody>\n</table>\n<p>9142 rows × 14 columns</p>\n</div>"
     },
     "execution_count": 88,
     "metadata": {},
     "output_type": "execute_result"
    }
   ],
   "source": [
    "index_results_vulnerability = full_sorted_df1.copy()\n",
    "\n",
    "# Calculate the mean of column 'vulnerability_of_road'\n",
    "mean_vuln_of_road = index_results_vulnerability['vulnerability_of_road'].mean()\n",
    "\n",
    "# Create a new column 'index_vulnerability' where each value in column 'vulnerability_of_road' is divided by the mean of column 'vulnerability_of_road'\n",
    "index_results_vulnerability['index_vulnerability'] = index_results_vulnerability['vulnerability_of_road'] / mean_vuln_of_road\n",
    "\n",
    "# Display the DataFrame\n",
    "index_results_vulnerability\n"
   ],
   "metadata": {
    "collapsed": false,
    "ExecuteTime": {
     "end_time": "2024-03-30T19:33:27.733548300Z",
     "start_time": "2024-03-30T19:33:27.647445900Z"
    }
   },
   "execution_count": 88
  },
  {
   "cell_type": "code",
   "outputs": [
    {
     "data": {
      "text/plain": "      road      lrp  chainage        lat        lon  \\\n0       N1    LRPSb     0.822  23.702778  90.450472   \n1       N1  LRP001a     1.800  23.698739  90.458861   \n2       N1  LRP004a     4.175  23.693805  90.480527   \n3       N1  LRP004b     4.925  23.694664  90.487775   \n4       N1  LRP007a     7.181  23.697916  90.509278   \n...    ...      ...       ...        ...        ...   \n9137  R890  LRP095a    94.868  22.039724  90.682662   \n9138  R890  LRP095b    95.564  22.033450  90.682737   \n9139  R890  LRP095c    95.725  22.031993  90.682755   \n9140  R890  LRP095c    95.725  22.031993  90.682755   \n9141  R890     LRPE   108.785  22.080888  90.614389   \n\n                                                   name model_type condition  \\\n0                               Intersection with Z1101       link       NaN   \n1     Dhaka (Jatrabari)-Comilla (Mainamati)-Chittago...     bridge         A   \n2                             Road to Narayanganj(R111)       link       NaN   \n3     Dhaka (Jatrabari)-Comilla (Mainamati)-Chittago...     bridge         A   \n4              R110,Left to Demra, Right to Narayanganj       link       NaN   \n...                                                 ...        ...       ...   \n9137  Bhola (Paran Talukderhat)-Burhanuddin-Lalmohon...     bridge         A   \n9138  Bhola (Paran Talukderhat)-Burhanuddin-Lalmohon...     bridge         A   \n9139  Bhola (Paran Talukderhat)-Burhanuddin-Lalmohon...     bridge         A   \n9140  Bhola (Paran Talukderhat)-Burhanuddin-Lalmohon...     bridge         A   \n9141       End of road at Baburhat, Launch Ghate,Bhola.       link       NaN   \n\n         AADT  condition_score  vulnerability  vulnerability_of_road  \\\n0     20447.0              NaN              0                   3576   \n1         NaN              1.0              0                   3576   \n2     20447.0              NaN              1                   3576   \n3         NaN              1.0              0                   3576   \n4     17109.0              NaN              1                   3576   \n...       ...              ...            ...                    ...   \n9137      NaN              2.0              0                    308   \n9138      NaN              2.0              0                    308   \n9139      NaN              2.0              0                    308   \n9140      NaN              2.0              0                    308   \n9141   4476.0              NaN             66                    308   \n\n      criticality_of_road  index_vulnerability  index_criticality  \n0                2.047421             5.076936           0.044859  \n1                2.047421             5.076936           0.044859  \n2                2.047421             5.076936           0.044859  \n3                2.047421             5.076936           0.044859  \n4                2.047421             5.076936           0.044859  \n...                   ...                  ...                ...  \n9137             2.537424             0.437275           0.055595  \n9138             2.537424             0.437275           0.055595  \n9139             2.537424             0.437275           0.055595  \n9140             2.537424             0.437275           0.055595  \n9141             2.537424             0.437275           0.055595  \n\n[9142 rows x 15 columns]",
      "text/html": "<div>\n<style scoped>\n    .dataframe tbody tr th:only-of-type {\n        vertical-align: middle;\n    }\n\n    .dataframe tbody tr th {\n        vertical-align: top;\n    }\n\n    .dataframe thead th {\n        text-align: right;\n    }\n</style>\n<table border=\"1\" class=\"dataframe\">\n  <thead>\n    <tr style=\"text-align: right;\">\n      <th></th>\n      <th>road</th>\n      <th>lrp</th>\n      <th>chainage</th>\n      <th>lat</th>\n      <th>lon</th>\n      <th>name</th>\n      <th>model_type</th>\n      <th>condition</th>\n      <th>AADT</th>\n      <th>condition_score</th>\n      <th>vulnerability</th>\n      <th>vulnerability_of_road</th>\n      <th>criticality_of_road</th>\n      <th>index_vulnerability</th>\n      <th>index_criticality</th>\n    </tr>\n  </thead>\n  <tbody>\n    <tr>\n      <th>0</th>\n      <td>N1</td>\n      <td>LRPSb</td>\n      <td>0.822</td>\n      <td>23.702778</td>\n      <td>90.450472</td>\n      <td>Intersection with Z1101</td>\n      <td>link</td>\n      <td>NaN</td>\n      <td>20447.0</td>\n      <td>NaN</td>\n      <td>0</td>\n      <td>3576</td>\n      <td>2.047421</td>\n      <td>5.076936</td>\n      <td>0.044859</td>\n    </tr>\n    <tr>\n      <th>1</th>\n      <td>N1</td>\n      <td>LRP001a</td>\n      <td>1.800</td>\n      <td>23.698739</td>\n      <td>90.458861</td>\n      <td>Dhaka (Jatrabari)-Comilla (Mainamati)-Chittago...</td>\n      <td>bridge</td>\n      <td>A</td>\n      <td>NaN</td>\n      <td>1.0</td>\n      <td>0</td>\n      <td>3576</td>\n      <td>2.047421</td>\n      <td>5.076936</td>\n      <td>0.044859</td>\n    </tr>\n    <tr>\n      <th>2</th>\n      <td>N1</td>\n      <td>LRP004a</td>\n      <td>4.175</td>\n      <td>23.693805</td>\n      <td>90.480527</td>\n      <td>Road to Narayanganj(R111)</td>\n      <td>link</td>\n      <td>NaN</td>\n      <td>20447.0</td>\n      <td>NaN</td>\n      <td>1</td>\n      <td>3576</td>\n      <td>2.047421</td>\n      <td>5.076936</td>\n      <td>0.044859</td>\n    </tr>\n    <tr>\n      <th>3</th>\n      <td>N1</td>\n      <td>LRP004b</td>\n      <td>4.925</td>\n      <td>23.694664</td>\n      <td>90.487775</td>\n      <td>Dhaka (Jatrabari)-Comilla (Mainamati)-Chittago...</td>\n      <td>bridge</td>\n      <td>A</td>\n      <td>NaN</td>\n      <td>1.0</td>\n      <td>0</td>\n      <td>3576</td>\n      <td>2.047421</td>\n      <td>5.076936</td>\n      <td>0.044859</td>\n    </tr>\n    <tr>\n      <th>4</th>\n      <td>N1</td>\n      <td>LRP007a</td>\n      <td>7.181</td>\n      <td>23.697916</td>\n      <td>90.509278</td>\n      <td>R110,Left to Demra, Right to Narayanganj</td>\n      <td>link</td>\n      <td>NaN</td>\n      <td>17109.0</td>\n      <td>NaN</td>\n      <td>1</td>\n      <td>3576</td>\n      <td>2.047421</td>\n      <td>5.076936</td>\n      <td>0.044859</td>\n    </tr>\n    <tr>\n      <th>...</th>\n      <td>...</td>\n      <td>...</td>\n      <td>...</td>\n      <td>...</td>\n      <td>...</td>\n      <td>...</td>\n      <td>...</td>\n      <td>...</td>\n      <td>...</td>\n      <td>...</td>\n      <td>...</td>\n      <td>...</td>\n      <td>...</td>\n      <td>...</td>\n      <td>...</td>\n    </tr>\n    <tr>\n      <th>9137</th>\n      <td>R890</td>\n      <td>LRP095a</td>\n      <td>94.868</td>\n      <td>22.039724</td>\n      <td>90.682662</td>\n      <td>Bhola (Paran Talukderhat)-Burhanuddin-Lalmohon...</td>\n      <td>bridge</td>\n      <td>A</td>\n      <td>NaN</td>\n      <td>2.0</td>\n      <td>0</td>\n      <td>308</td>\n      <td>2.537424</td>\n      <td>0.437275</td>\n      <td>0.055595</td>\n    </tr>\n    <tr>\n      <th>9138</th>\n      <td>R890</td>\n      <td>LRP095b</td>\n      <td>95.564</td>\n      <td>22.033450</td>\n      <td>90.682737</td>\n      <td>Bhola (Paran Talukderhat)-Burhanuddin-Lalmohon...</td>\n      <td>bridge</td>\n      <td>A</td>\n      <td>NaN</td>\n      <td>2.0</td>\n      <td>0</td>\n      <td>308</td>\n      <td>2.537424</td>\n      <td>0.437275</td>\n      <td>0.055595</td>\n    </tr>\n    <tr>\n      <th>9139</th>\n      <td>R890</td>\n      <td>LRP095c</td>\n      <td>95.725</td>\n      <td>22.031993</td>\n      <td>90.682755</td>\n      <td>Bhola (Paran Talukderhat)-Burhanuddin-Lalmohon...</td>\n      <td>bridge</td>\n      <td>A</td>\n      <td>NaN</td>\n      <td>2.0</td>\n      <td>0</td>\n      <td>308</td>\n      <td>2.537424</td>\n      <td>0.437275</td>\n      <td>0.055595</td>\n    </tr>\n    <tr>\n      <th>9140</th>\n      <td>R890</td>\n      <td>LRP095c</td>\n      <td>95.725</td>\n      <td>22.031993</td>\n      <td>90.682755</td>\n      <td>Bhola (Paran Talukderhat)-Burhanuddin-Lalmohon...</td>\n      <td>bridge</td>\n      <td>A</td>\n      <td>NaN</td>\n      <td>2.0</td>\n      <td>0</td>\n      <td>308</td>\n      <td>2.537424</td>\n      <td>0.437275</td>\n      <td>0.055595</td>\n    </tr>\n    <tr>\n      <th>9141</th>\n      <td>R890</td>\n      <td>LRPE</td>\n      <td>108.785</td>\n      <td>22.080888</td>\n      <td>90.614389</td>\n      <td>End of road at Baburhat, Launch Ghate,Bhola.</td>\n      <td>link</td>\n      <td>NaN</td>\n      <td>4476.0</td>\n      <td>NaN</td>\n      <td>66</td>\n      <td>308</td>\n      <td>2.537424</td>\n      <td>0.437275</td>\n      <td>0.055595</td>\n    </tr>\n  </tbody>\n</table>\n<p>9142 rows × 15 columns</p>\n</div>"
     },
     "execution_count": 89,
     "metadata": {},
     "output_type": "execute_result"
    }
   ],
   "source": [
    "index_results_vulnerability_and_criticality = index_results_vulnerability.copy()\n",
    "\n",
    "# Calculate the mean of column 'criticality_of_road'\n",
    "mean_crit_of_road = index_results_vulnerability_and_criticality['criticality_of_road'].mean()\n",
    "\n",
    "# Create a new column 'index_criticality' where each value in column 'criticality_of_road' is divided by the mean of column 'criticality_of_road'\n",
    "index_results_vulnerability_and_criticality['index_criticality'] = index_results_vulnerability_and_criticality['criticality_of_road'] / mean_crit_of_road\n",
    "\n",
    "# Display the DataFrame\n",
    "index_results_vulnerability_and_criticality"
   ],
   "metadata": {
    "collapsed": false,
    "ExecuteTime": {
     "end_time": "2024-03-30T19:33:31.234265100Z",
     "start_time": "2024-03-30T19:33:31.150754300Z"
    }
   },
   "execution_count": 89
  },
  {
   "cell_type": "code",
   "outputs": [
    {
     "data": {
      "text/plain": "      road      lrp  chainage        lat        lon  \\\n0       N1    LRPSb     0.822  23.702778  90.450472   \n854   N101     LRPE     6.021  23.459306  91.253389   \n855   N102    LRPSc     0.984  23.486582  91.113418   \n964   N103     LRPE     4.779  23.996889  91.109278   \n965   N104    LRPSa     0.349  23.009362  91.396149   \n...    ...      ...       ...        ...        ...   \n8885  R861    LRPSa     0.702  23.193004  90.333706   \n8895  R870  LRP001b     1.376  22.671584  90.336453   \n9005  R880  LRP012c    11.862  22.254667  90.326138   \n9031  R881  LRP005a     5.704  22.082818  90.230431   \n9053  R890    LRPSa     0.177  22.727458  90.634791   \n\n                                                   name model_type condition  \\\n0                               Intersection with Z1101       link       NaN   \n854                      End of road Bibir bazar Bridge       link       NaN   \n855      Comilla (Mainamati)-Brahmanbaria (Sarail) Road     bridge         A   \n964                 Intersection with N102 at Ghaturia.       link       NaN   \n965                                  Feni-Noakhali Road     bridge         A   \n...                                                 ...        ...       ...   \n8885         Monohar Bazar More at R860-Shariatpur Road     bridge         C   \n8895  Barisal-Jhalokati-Rajapur-Bhandaria-Pirojpur Road     bridge         A   \n9005                              Z 8804 Golachipa road       link       NaN   \n9031                      Amtali-Khepupara-Kuakata Road     bridge         A   \n9053  Bhola (Paran Talukderhat)-Burhanuddin-Lalmohon...     bridge         B   \n\n         AADT  condition_score  vulnerability  vulnerability_of_road  \\\n0     20447.0              NaN              0                   3576   \n854    9708.0              NaN              0                      0   \n855       NaN              1.0              0                      0   \n964   26699.0              NaN            281                    281   \n965       NaN              1.0              0                    275   \n...       ...              ...            ...                    ...   \n8885      NaN              6.0              0                     48   \n8895      NaN              2.0              0                    368   \n9005   5326.0              NaN              0                     70   \n9031      NaN              2.0              0                    200   \n9053      NaN              6.0              0                    308   \n\n      criticality_of_road  index_vulnerability  index_criticality  \n0                2.047421             5.076936           0.044859  \n854           1612.356751             0.000000          35.326443  \n855              0.000000             0.000000           0.000000  \n964           5586.733626             0.398943         122.404318  \n965             33.322953             0.390424           0.730100  \n...                   ...                  ...                ...  \n8885            78.925261             0.068147           1.729238  \n8895             4.375952             0.522459           0.095876  \n9005            16.209915             0.099381           0.355156  \n9031             2.950083             0.283945           0.064636  \n9053             2.537424             0.437275           0.055595  \n\n[203 rows x 15 columns]",
      "text/html": "<div>\n<style scoped>\n    .dataframe tbody tr th:only-of-type {\n        vertical-align: middle;\n    }\n\n    .dataframe tbody tr th {\n        vertical-align: top;\n    }\n\n    .dataframe thead th {\n        text-align: right;\n    }\n</style>\n<table border=\"1\" class=\"dataframe\">\n  <thead>\n    <tr style=\"text-align: right;\">\n      <th></th>\n      <th>road</th>\n      <th>lrp</th>\n      <th>chainage</th>\n      <th>lat</th>\n      <th>lon</th>\n      <th>name</th>\n      <th>model_type</th>\n      <th>condition</th>\n      <th>AADT</th>\n      <th>condition_score</th>\n      <th>vulnerability</th>\n      <th>vulnerability_of_road</th>\n      <th>criticality_of_road</th>\n      <th>index_vulnerability</th>\n      <th>index_criticality</th>\n    </tr>\n  </thead>\n  <tbody>\n    <tr>\n      <th>0</th>\n      <td>N1</td>\n      <td>LRPSb</td>\n      <td>0.822</td>\n      <td>23.702778</td>\n      <td>90.450472</td>\n      <td>Intersection with Z1101</td>\n      <td>link</td>\n      <td>NaN</td>\n      <td>20447.0</td>\n      <td>NaN</td>\n      <td>0</td>\n      <td>3576</td>\n      <td>2.047421</td>\n      <td>5.076936</td>\n      <td>0.044859</td>\n    </tr>\n    <tr>\n      <th>854</th>\n      <td>N101</td>\n      <td>LRPE</td>\n      <td>6.021</td>\n      <td>23.459306</td>\n      <td>91.253389</td>\n      <td>End of road Bibir bazar Bridge</td>\n      <td>link</td>\n      <td>NaN</td>\n      <td>9708.0</td>\n      <td>NaN</td>\n      <td>0</td>\n      <td>0</td>\n      <td>1612.356751</td>\n      <td>0.000000</td>\n      <td>35.326443</td>\n    </tr>\n    <tr>\n      <th>855</th>\n      <td>N102</td>\n      <td>LRPSc</td>\n      <td>0.984</td>\n      <td>23.486582</td>\n      <td>91.113418</td>\n      <td>Comilla (Mainamati)-Brahmanbaria (Sarail) Road</td>\n      <td>bridge</td>\n      <td>A</td>\n      <td>NaN</td>\n      <td>1.0</td>\n      <td>0</td>\n      <td>0</td>\n      <td>0.000000</td>\n      <td>0.000000</td>\n      <td>0.000000</td>\n    </tr>\n    <tr>\n      <th>964</th>\n      <td>N103</td>\n      <td>LRPE</td>\n      <td>4.779</td>\n      <td>23.996889</td>\n      <td>91.109278</td>\n      <td>Intersection with N102 at Ghaturia.</td>\n      <td>link</td>\n      <td>NaN</td>\n      <td>26699.0</td>\n      <td>NaN</td>\n      <td>281</td>\n      <td>281</td>\n      <td>5586.733626</td>\n      <td>0.398943</td>\n      <td>122.404318</td>\n    </tr>\n    <tr>\n      <th>965</th>\n      <td>N104</td>\n      <td>LRPSa</td>\n      <td>0.349</td>\n      <td>23.009362</td>\n      <td>91.396149</td>\n      <td>Feni-Noakhali Road</td>\n      <td>bridge</td>\n      <td>A</td>\n      <td>NaN</td>\n      <td>1.0</td>\n      <td>0</td>\n      <td>275</td>\n      <td>33.322953</td>\n      <td>0.390424</td>\n      <td>0.730100</td>\n    </tr>\n    <tr>\n      <th>...</th>\n      <td>...</td>\n      <td>...</td>\n      <td>...</td>\n      <td>...</td>\n      <td>...</td>\n      <td>...</td>\n      <td>...</td>\n      <td>...</td>\n      <td>...</td>\n      <td>...</td>\n      <td>...</td>\n      <td>...</td>\n      <td>...</td>\n      <td>...</td>\n      <td>...</td>\n    </tr>\n    <tr>\n      <th>8885</th>\n      <td>R861</td>\n      <td>LRPSa</td>\n      <td>0.702</td>\n      <td>23.193004</td>\n      <td>90.333706</td>\n      <td>Monohar Bazar More at R860-Shariatpur Road</td>\n      <td>bridge</td>\n      <td>C</td>\n      <td>NaN</td>\n      <td>6.0</td>\n      <td>0</td>\n      <td>48</td>\n      <td>78.925261</td>\n      <td>0.068147</td>\n      <td>1.729238</td>\n    </tr>\n    <tr>\n      <th>8895</th>\n      <td>R870</td>\n      <td>LRP001b</td>\n      <td>1.376</td>\n      <td>22.671584</td>\n      <td>90.336453</td>\n      <td>Barisal-Jhalokati-Rajapur-Bhandaria-Pirojpur Road</td>\n      <td>bridge</td>\n      <td>A</td>\n      <td>NaN</td>\n      <td>2.0</td>\n      <td>0</td>\n      <td>368</td>\n      <td>4.375952</td>\n      <td>0.522459</td>\n      <td>0.095876</td>\n    </tr>\n    <tr>\n      <th>9005</th>\n      <td>R880</td>\n      <td>LRP012c</td>\n      <td>11.862</td>\n      <td>22.254667</td>\n      <td>90.326138</td>\n      <td>Z 8804 Golachipa road</td>\n      <td>link</td>\n      <td>NaN</td>\n      <td>5326.0</td>\n      <td>NaN</td>\n      <td>0</td>\n      <td>70</td>\n      <td>16.209915</td>\n      <td>0.099381</td>\n      <td>0.355156</td>\n    </tr>\n    <tr>\n      <th>9031</th>\n      <td>R881</td>\n      <td>LRP005a</td>\n      <td>5.704</td>\n      <td>22.082818</td>\n      <td>90.230431</td>\n      <td>Amtali-Khepupara-Kuakata Road</td>\n      <td>bridge</td>\n      <td>A</td>\n      <td>NaN</td>\n      <td>2.0</td>\n      <td>0</td>\n      <td>200</td>\n      <td>2.950083</td>\n      <td>0.283945</td>\n      <td>0.064636</td>\n    </tr>\n    <tr>\n      <th>9053</th>\n      <td>R890</td>\n      <td>LRPSa</td>\n      <td>0.177</td>\n      <td>22.727458</td>\n      <td>90.634791</td>\n      <td>Bhola (Paran Talukderhat)-Burhanuddin-Lalmohon...</td>\n      <td>bridge</td>\n      <td>B</td>\n      <td>NaN</td>\n      <td>6.0</td>\n      <td>0</td>\n      <td>308</td>\n      <td>2.537424</td>\n      <td>0.437275</td>\n      <td>0.055595</td>\n    </tr>\n  </tbody>\n</table>\n<p>203 rows × 15 columns</p>\n</div>"
     },
     "execution_count": 90,
     "metadata": {},
     "output_type": "execute_result"
    }
   ],
   "source": [
    "# Drop duplicate rows based on the column 'road'\n",
    "index_results_vulnerability_and_criticality = index_results_vulnerability_and_criticality.drop_duplicates(subset=['road'])\n",
    "\n",
    "# Display the DataFrame with unique values in the 'road' column\n",
    "index_results_vulnerability_and_criticality"
   ],
   "metadata": {
    "collapsed": false,
    "ExecuteTime": {
     "end_time": "2024-03-30T19:33:35.204353700Z",
     "start_time": "2024-03-30T19:33:35.120335200Z"
    }
   },
   "execution_count": 90
  },
  {
   "cell_type": "code",
   "outputs": [
    {
     "data": {
      "text/plain": "      road      lrp  chainage        lat        lon  \\\n0       N1    LRPSb     0.822  23.702778  90.450472   \n854   N101     LRPE     6.021  23.459306  91.253389   \n855   N102    LRPSc     0.984  23.486582  91.113418   \n964   N103     LRPE     4.779  23.996889  91.109278   \n965   N104    LRPSa     0.349  23.009362  91.396149   \n...    ...      ...       ...        ...        ...   \n8885  R861    LRPSa     0.702  23.193004  90.333706   \n8895  R870  LRP001b     1.376  22.671584  90.336453   \n9005  R880  LRP012c    11.862  22.254667  90.326138   \n9031  R881  LRP005a     5.704  22.082818  90.230431   \n9053  R890    LRPSa     0.177  22.727458  90.634791   \n\n                                                   name model_type condition  \\\n0                               Intersection with Z1101       link       NaN   \n854                      End of road Bibir bazar Bridge       link       NaN   \n855      Comilla (Mainamati)-Brahmanbaria (Sarail) Road     bridge         A   \n964                 Intersection with N102 at Ghaturia.       link       NaN   \n965                                  Feni-Noakhali Road     bridge         A   \n...                                                 ...        ...       ...   \n8885         Monohar Bazar More at R860-Shariatpur Road     bridge         C   \n8895  Barisal-Jhalokati-Rajapur-Bhandaria-Pirojpur Road     bridge         A   \n9005                              Z 8804 Golachipa road       link       NaN   \n9031                      Amtali-Khepupara-Kuakata Road     bridge         A   \n9053  Bhola (Paran Talukderhat)-Burhanuddin-Lalmohon...     bridge         B   \n\n         AADT  condition_score  vulnerability  vulnerability_of_road  \\\n0     20447.0              NaN              0                   3576   \n854    9708.0              NaN              0                      0   \n855       NaN              1.0              0                      0   \n964   26699.0              NaN            281                    281   \n965       NaN              1.0              0                    275   \n...       ...              ...            ...                    ...   \n8885      NaN              6.0              0                     48   \n8895      NaN              2.0              0                    368   \n9005   5326.0              NaN              0                     70   \n9031      NaN              2.0              0                    200   \n9053      NaN              6.0              0                    308   \n\n      criticality_of_road  index_vulnerability  index_criticality  \\\n0                2.047421             5.076936           0.044859   \n854           1612.356751             0.000000          35.326443   \n855              0.000000             0.000000           0.000000   \n964           5586.733626             0.398943         122.404318   \n965             33.322953             0.390424           0.730100   \n...                   ...                  ...                ...   \n8885            78.925261             0.068147           1.729238   \n8895             4.375952             0.522459           0.095876   \n9005            16.209915             0.099381           0.355156   \n9031             2.950083             0.283945           0.064636   \n9053             2.537424             0.437275           0.055595   \n\n      vuln_index_times_crit_index  \n0                        0.227744  \n854                      0.000000  \n855                      0.000000  \n964                     48.832306  \n965                      0.285049  \n...                           ...  \n8885                     0.117842  \n8895                     0.050091  \n9005                     0.035296  \n9031                     0.018353  \n9053                     0.024310  \n\n[203 rows x 16 columns]",
      "text/html": "<div>\n<style scoped>\n    .dataframe tbody tr th:only-of-type {\n        vertical-align: middle;\n    }\n\n    .dataframe tbody tr th {\n        vertical-align: top;\n    }\n\n    .dataframe thead th {\n        text-align: right;\n    }\n</style>\n<table border=\"1\" class=\"dataframe\">\n  <thead>\n    <tr style=\"text-align: right;\">\n      <th></th>\n      <th>road</th>\n      <th>lrp</th>\n      <th>chainage</th>\n      <th>lat</th>\n      <th>lon</th>\n      <th>name</th>\n      <th>model_type</th>\n      <th>condition</th>\n      <th>AADT</th>\n      <th>condition_score</th>\n      <th>vulnerability</th>\n      <th>vulnerability_of_road</th>\n      <th>criticality_of_road</th>\n      <th>index_vulnerability</th>\n      <th>index_criticality</th>\n      <th>vuln_index_times_crit_index</th>\n    </tr>\n  </thead>\n  <tbody>\n    <tr>\n      <th>0</th>\n      <td>N1</td>\n      <td>LRPSb</td>\n      <td>0.822</td>\n      <td>23.702778</td>\n      <td>90.450472</td>\n      <td>Intersection with Z1101</td>\n      <td>link</td>\n      <td>NaN</td>\n      <td>20447.0</td>\n      <td>NaN</td>\n      <td>0</td>\n      <td>3576</td>\n      <td>2.047421</td>\n      <td>5.076936</td>\n      <td>0.044859</td>\n      <td>0.227744</td>\n    </tr>\n    <tr>\n      <th>854</th>\n      <td>N101</td>\n      <td>LRPE</td>\n      <td>6.021</td>\n      <td>23.459306</td>\n      <td>91.253389</td>\n      <td>End of road Bibir bazar Bridge</td>\n      <td>link</td>\n      <td>NaN</td>\n      <td>9708.0</td>\n      <td>NaN</td>\n      <td>0</td>\n      <td>0</td>\n      <td>1612.356751</td>\n      <td>0.000000</td>\n      <td>35.326443</td>\n      <td>0.000000</td>\n    </tr>\n    <tr>\n      <th>855</th>\n      <td>N102</td>\n      <td>LRPSc</td>\n      <td>0.984</td>\n      <td>23.486582</td>\n      <td>91.113418</td>\n      <td>Comilla (Mainamati)-Brahmanbaria (Sarail) Road</td>\n      <td>bridge</td>\n      <td>A</td>\n      <td>NaN</td>\n      <td>1.0</td>\n      <td>0</td>\n      <td>0</td>\n      <td>0.000000</td>\n      <td>0.000000</td>\n      <td>0.000000</td>\n      <td>0.000000</td>\n    </tr>\n    <tr>\n      <th>964</th>\n      <td>N103</td>\n      <td>LRPE</td>\n      <td>4.779</td>\n      <td>23.996889</td>\n      <td>91.109278</td>\n      <td>Intersection with N102 at Ghaturia.</td>\n      <td>link</td>\n      <td>NaN</td>\n      <td>26699.0</td>\n      <td>NaN</td>\n      <td>281</td>\n      <td>281</td>\n      <td>5586.733626</td>\n      <td>0.398943</td>\n      <td>122.404318</td>\n      <td>48.832306</td>\n    </tr>\n    <tr>\n      <th>965</th>\n      <td>N104</td>\n      <td>LRPSa</td>\n      <td>0.349</td>\n      <td>23.009362</td>\n      <td>91.396149</td>\n      <td>Feni-Noakhali Road</td>\n      <td>bridge</td>\n      <td>A</td>\n      <td>NaN</td>\n      <td>1.0</td>\n      <td>0</td>\n      <td>275</td>\n      <td>33.322953</td>\n      <td>0.390424</td>\n      <td>0.730100</td>\n      <td>0.285049</td>\n    </tr>\n    <tr>\n      <th>...</th>\n      <td>...</td>\n      <td>...</td>\n      <td>...</td>\n      <td>...</td>\n      <td>...</td>\n      <td>...</td>\n      <td>...</td>\n      <td>...</td>\n      <td>...</td>\n      <td>...</td>\n      <td>...</td>\n      <td>...</td>\n      <td>...</td>\n      <td>...</td>\n      <td>...</td>\n      <td>...</td>\n    </tr>\n    <tr>\n      <th>8885</th>\n      <td>R861</td>\n      <td>LRPSa</td>\n      <td>0.702</td>\n      <td>23.193004</td>\n      <td>90.333706</td>\n      <td>Monohar Bazar More at R860-Shariatpur Road</td>\n      <td>bridge</td>\n      <td>C</td>\n      <td>NaN</td>\n      <td>6.0</td>\n      <td>0</td>\n      <td>48</td>\n      <td>78.925261</td>\n      <td>0.068147</td>\n      <td>1.729238</td>\n      <td>0.117842</td>\n    </tr>\n    <tr>\n      <th>8895</th>\n      <td>R870</td>\n      <td>LRP001b</td>\n      <td>1.376</td>\n      <td>22.671584</td>\n      <td>90.336453</td>\n      <td>Barisal-Jhalokati-Rajapur-Bhandaria-Pirojpur Road</td>\n      <td>bridge</td>\n      <td>A</td>\n      <td>NaN</td>\n      <td>2.0</td>\n      <td>0</td>\n      <td>368</td>\n      <td>4.375952</td>\n      <td>0.522459</td>\n      <td>0.095876</td>\n      <td>0.050091</td>\n    </tr>\n    <tr>\n      <th>9005</th>\n      <td>R880</td>\n      <td>LRP012c</td>\n      <td>11.862</td>\n      <td>22.254667</td>\n      <td>90.326138</td>\n      <td>Z 8804 Golachipa road</td>\n      <td>link</td>\n      <td>NaN</td>\n      <td>5326.0</td>\n      <td>NaN</td>\n      <td>0</td>\n      <td>70</td>\n      <td>16.209915</td>\n      <td>0.099381</td>\n      <td>0.355156</td>\n      <td>0.035296</td>\n    </tr>\n    <tr>\n      <th>9031</th>\n      <td>R881</td>\n      <td>LRP005a</td>\n      <td>5.704</td>\n      <td>22.082818</td>\n      <td>90.230431</td>\n      <td>Amtali-Khepupara-Kuakata Road</td>\n      <td>bridge</td>\n      <td>A</td>\n      <td>NaN</td>\n      <td>2.0</td>\n      <td>0</td>\n      <td>200</td>\n      <td>2.950083</td>\n      <td>0.283945</td>\n      <td>0.064636</td>\n      <td>0.018353</td>\n    </tr>\n    <tr>\n      <th>9053</th>\n      <td>R890</td>\n      <td>LRPSa</td>\n      <td>0.177</td>\n      <td>22.727458</td>\n      <td>90.634791</td>\n      <td>Bhola (Paran Talukderhat)-Burhanuddin-Lalmohon...</td>\n      <td>bridge</td>\n      <td>B</td>\n      <td>NaN</td>\n      <td>6.0</td>\n      <td>0</td>\n      <td>308</td>\n      <td>2.537424</td>\n      <td>0.437275</td>\n      <td>0.055595</td>\n      <td>0.024310</td>\n    </tr>\n  </tbody>\n</table>\n<p>203 rows × 16 columns</p>\n</div>"
     },
     "execution_count": 91,
     "metadata": {},
     "output_type": "execute_result"
    }
   ],
   "source": [
    "# Add a new column named 'vuln_index_times_crit_index' to the DataFrame\n",
    "index_results_vulnerability_and_criticality['vuln_index_times_crit_index'] = index_results_vulnerability_and_criticality['index_vulnerability'] * index_results_vulnerability_and_criticality['index_criticality']\n",
    "\n",
    "# Display the DataFrame with the new column added\n",
    "index_results_vulnerability_and_criticality\n"
   ],
   "metadata": {
    "collapsed": false,
    "ExecuteTime": {
     "end_time": "2024-03-30T19:33:41.373471500Z",
     "start_time": "2024-03-30T19:33:41.258344700Z"
    }
   },
   "execution_count": 91
  },
  {
   "cell_type": "code",
   "outputs": [
    {
     "data": {
      "text/plain": "      road  index_vulnerability  index_criticality  \\\n964   N103             0.398943         122.404318   \n4915  R120             0.141972          53.081514   \n6550  R303             0.012778         120.715122   \n5764  R201             0.014197          88.218211   \n2273  N302             0.061048          14.009553   \n1305  N111             0.073826          10.859724   \n5747  R180             0.133454           5.499357   \n3647  N602             0.018456          38.190678   \n4804  R110             0.114998           4.204489   \n7338  R546             0.076665           5.558983   \n\n      vuln_index_times_crit_index  \n964                     48.832306  \n4915                     7.536114  \n6550                     1.542440  \n5764                     1.252456  \n2273                     0.855258  \n1305                     0.801727  \n5747                     0.733912  \n3647                     0.704863  \n4804                     0.483507  \n7338                     0.426180  ",
      "text/html": "<div>\n<style scoped>\n    .dataframe tbody tr th:only-of-type {\n        vertical-align: middle;\n    }\n\n    .dataframe tbody tr th {\n        vertical-align: top;\n    }\n\n    .dataframe thead th {\n        text-align: right;\n    }\n</style>\n<table border=\"1\" class=\"dataframe\">\n  <thead>\n    <tr style=\"text-align: right;\">\n      <th></th>\n      <th>road</th>\n      <th>index_vulnerability</th>\n      <th>index_criticality</th>\n      <th>vuln_index_times_crit_index</th>\n    </tr>\n  </thead>\n  <tbody>\n    <tr>\n      <th>964</th>\n      <td>N103</td>\n      <td>0.398943</td>\n      <td>122.404318</td>\n      <td>48.832306</td>\n    </tr>\n    <tr>\n      <th>4915</th>\n      <td>R120</td>\n      <td>0.141972</td>\n      <td>53.081514</td>\n      <td>7.536114</td>\n    </tr>\n    <tr>\n      <th>6550</th>\n      <td>R303</td>\n      <td>0.012778</td>\n      <td>120.715122</td>\n      <td>1.542440</td>\n    </tr>\n    <tr>\n      <th>5764</th>\n      <td>R201</td>\n      <td>0.014197</td>\n      <td>88.218211</td>\n      <td>1.252456</td>\n    </tr>\n    <tr>\n      <th>2273</th>\n      <td>N302</td>\n      <td>0.061048</td>\n      <td>14.009553</td>\n      <td>0.855258</td>\n    </tr>\n    <tr>\n      <th>1305</th>\n      <td>N111</td>\n      <td>0.073826</td>\n      <td>10.859724</td>\n      <td>0.801727</td>\n    </tr>\n    <tr>\n      <th>5747</th>\n      <td>R180</td>\n      <td>0.133454</td>\n      <td>5.499357</td>\n      <td>0.733912</td>\n    </tr>\n    <tr>\n      <th>3647</th>\n      <td>N602</td>\n      <td>0.018456</td>\n      <td>38.190678</td>\n      <td>0.704863</td>\n    </tr>\n    <tr>\n      <th>4804</th>\n      <td>R110</td>\n      <td>0.114998</td>\n      <td>4.204489</td>\n      <td>0.483507</td>\n    </tr>\n    <tr>\n      <th>7338</th>\n      <td>R546</td>\n      <td>0.076665</td>\n      <td>5.558983</td>\n      <td>0.426180</td>\n    </tr>\n  </tbody>\n</table>\n</div>"
     },
     "execution_count": 92,
     "metadata": {},
     "output_type": "execute_result"
    }
   ],
   "source": [
    "index_results_vulnerability_and_criticality2 = index_results_vulnerability_and_criticality.copy()\n",
    "\n",
    "# Sort the DataFrame by the 'criticality_of_road' column in descending order\n",
    "sorted_df_vuln_crit = index_results_vulnerability_and_criticality2.sort_values(by='vuln_index_times_crit_index', ascending=False)\n",
    "\n",
    "# Drop duplicate values in the 'road' column\n",
    "unique_roads_df_vuln_crit = sorted_df_vuln_crit.drop_duplicates(subset='road')\n",
    "\n",
    "# Take the top 10 rows from the DataFrame\n",
    "index_top_10_unique_vulnerability_criticality = unique_roads_df_vuln_crit.head(10)\n",
    "\n",
    "# Display the resulting DataFrame\n",
    "combined_results = index_top_10_unique_vulnerability_criticality\n",
    "\n",
    "# Select only the columns 'road' and 'vuln_index_times_crit_index'\n",
    "combined_results = combined_results[['road', 'index_vulnerability', 'index_criticality', 'vuln_index_times_crit_index']]\n",
    "\n",
    "# Display the DataFrame with only two columns\n",
    "combined_results\n"
   ],
   "metadata": {
    "collapsed": false,
    "ExecuteTime": {
     "end_time": "2024-03-30T19:33:44.440601700Z",
     "start_time": "2024-03-30T19:33:44.291616300Z"
    }
   },
   "execution_count": 92
  },
  {
   "cell_type": "markdown",
   "source": [
    "# Results"
   ],
   "metadata": {
    "collapsed": false
   }
  },
  {
   "cell_type": "code",
   "outputs": [
    {
     "data": {
      "text/plain": "      road  criticality_of_road\n4229  N710                30880\n2285  N303                28099\n2529  N407                 7460\n4033  N701                 6731\n8749  R851                 6137\n6122  R247                 5689\n964   N103                 5587\n6551  R303                 5510\n6006  R222                 5119\n8671  R814                 4856",
      "text/html": "<div>\n<style scoped>\n    .dataframe tbody tr th:only-of-type {\n        vertical-align: middle;\n    }\n\n    .dataframe tbody tr th {\n        vertical-align: top;\n    }\n\n    .dataframe thead th {\n        text-align: right;\n    }\n</style>\n<table border=\"1\" class=\"dataframe\">\n  <thead>\n    <tr style=\"text-align: right;\">\n      <th></th>\n      <th>road</th>\n      <th>criticality_of_road</th>\n    </tr>\n  </thead>\n  <tbody>\n    <tr>\n      <th>4229</th>\n      <td>N710</td>\n      <td>30880</td>\n    </tr>\n    <tr>\n      <th>2285</th>\n      <td>N303</td>\n      <td>28099</td>\n    </tr>\n    <tr>\n      <th>2529</th>\n      <td>N407</td>\n      <td>7460</td>\n    </tr>\n    <tr>\n      <th>4033</th>\n      <td>N701</td>\n      <td>6731</td>\n    </tr>\n    <tr>\n      <th>8749</th>\n      <td>R851</td>\n      <td>6137</td>\n    </tr>\n    <tr>\n      <th>6122</th>\n      <td>R247</td>\n      <td>5689</td>\n    </tr>\n    <tr>\n      <th>964</th>\n      <td>N103</td>\n      <td>5587</td>\n    </tr>\n    <tr>\n      <th>6551</th>\n      <td>R303</td>\n      <td>5510</td>\n    </tr>\n    <tr>\n      <th>6006</th>\n      <td>R222</td>\n      <td>5119</td>\n    </tr>\n    <tr>\n      <th>8671</th>\n      <td>R814</td>\n      <td>4856</td>\n    </tr>\n  </tbody>\n</table>\n</div>"
     },
     "execution_count": 93,
     "metadata": {},
     "output_type": "execute_result"
    }
   ],
   "source": [
    "results_criticality"
   ],
   "metadata": {
    "collapsed": false,
    "ExecuteTime": {
     "end_time": "2024-03-30T19:33:51.612245600Z",
     "start_time": "2024-03-30T19:33:51.528275400Z"
    }
   },
   "execution_count": 93
  },
  {
   "cell_type": "code",
   "outputs": [
    {
     "data": {
      "text/plain": "      road  vulnerability_of_road\n0       N1                   3576\n2918    N5                   1307\n1832    N2                    962\n4313    N8                    893\n5357  R160                    785\n7239  R545                    779\n1193  N106                    736\n3878    N7                    717\n5214  R151                    688\n5644  R170                    526",
      "text/html": "<div>\n<style scoped>\n    .dataframe tbody tr th:only-of-type {\n        vertical-align: middle;\n    }\n\n    .dataframe tbody tr th {\n        vertical-align: top;\n    }\n\n    .dataframe thead th {\n        text-align: right;\n    }\n</style>\n<table border=\"1\" class=\"dataframe\">\n  <thead>\n    <tr style=\"text-align: right;\">\n      <th></th>\n      <th>road</th>\n      <th>vulnerability_of_road</th>\n    </tr>\n  </thead>\n  <tbody>\n    <tr>\n      <th>0</th>\n      <td>N1</td>\n      <td>3576</td>\n    </tr>\n    <tr>\n      <th>2918</th>\n      <td>N5</td>\n      <td>1307</td>\n    </tr>\n    <tr>\n      <th>1832</th>\n      <td>N2</td>\n      <td>962</td>\n    </tr>\n    <tr>\n      <th>4313</th>\n      <td>N8</td>\n      <td>893</td>\n    </tr>\n    <tr>\n      <th>5357</th>\n      <td>R160</td>\n      <td>785</td>\n    </tr>\n    <tr>\n      <th>7239</th>\n      <td>R545</td>\n      <td>779</td>\n    </tr>\n    <tr>\n      <th>1193</th>\n      <td>N106</td>\n      <td>736</td>\n    </tr>\n    <tr>\n      <th>3878</th>\n      <td>N7</td>\n      <td>717</td>\n    </tr>\n    <tr>\n      <th>5214</th>\n      <td>R151</td>\n      <td>688</td>\n    </tr>\n    <tr>\n      <th>5644</th>\n      <td>R170</td>\n      <td>526</td>\n    </tr>\n  </tbody>\n</table>\n</div>"
     },
     "execution_count": 94,
     "metadata": {},
     "output_type": "execute_result"
    }
   ],
   "source": [
    "results_vulnerability"
   ],
   "metadata": {
    "collapsed": false,
    "ExecuteTime": {
     "end_time": "2024-03-30T19:33:54.714409700Z",
     "start_time": "2024-03-30T19:33:54.651699300Z"
    }
   },
   "execution_count": 94
  },
  {
   "cell_type": "code",
   "outputs": [
    {
     "data": {
      "text/plain": "      road  index_vulnerability  index_criticality  \\\n964   N103             0.398943         122.404318   \n4915  R120             0.141972          53.081514   \n6550  R303             0.012778         120.715122   \n5764  R201             0.014197          88.218211   \n2273  N302             0.061048          14.009553   \n1305  N111             0.073826          10.859724   \n5747  R180             0.133454           5.499357   \n3647  N602             0.018456          38.190678   \n4804  R110             0.114998           4.204489   \n7338  R546             0.076665           5.558983   \n\n      vuln_index_times_crit_index  \n964                     48.832306  \n4915                     7.536114  \n6550                     1.542440  \n5764                     1.252456  \n2273                     0.855258  \n1305                     0.801727  \n5747                     0.733912  \n3647                     0.704863  \n4804                     0.483507  \n7338                     0.426180  ",
      "text/html": "<div>\n<style scoped>\n    .dataframe tbody tr th:only-of-type {\n        vertical-align: middle;\n    }\n\n    .dataframe tbody tr th {\n        vertical-align: top;\n    }\n\n    .dataframe thead th {\n        text-align: right;\n    }\n</style>\n<table border=\"1\" class=\"dataframe\">\n  <thead>\n    <tr style=\"text-align: right;\">\n      <th></th>\n      <th>road</th>\n      <th>index_vulnerability</th>\n      <th>index_criticality</th>\n      <th>vuln_index_times_crit_index</th>\n    </tr>\n  </thead>\n  <tbody>\n    <tr>\n      <th>964</th>\n      <td>N103</td>\n      <td>0.398943</td>\n      <td>122.404318</td>\n      <td>48.832306</td>\n    </tr>\n    <tr>\n      <th>4915</th>\n      <td>R120</td>\n      <td>0.141972</td>\n      <td>53.081514</td>\n      <td>7.536114</td>\n    </tr>\n    <tr>\n      <th>6550</th>\n      <td>R303</td>\n      <td>0.012778</td>\n      <td>120.715122</td>\n      <td>1.542440</td>\n    </tr>\n    <tr>\n      <th>5764</th>\n      <td>R201</td>\n      <td>0.014197</td>\n      <td>88.218211</td>\n      <td>1.252456</td>\n    </tr>\n    <tr>\n      <th>2273</th>\n      <td>N302</td>\n      <td>0.061048</td>\n      <td>14.009553</td>\n      <td>0.855258</td>\n    </tr>\n    <tr>\n      <th>1305</th>\n      <td>N111</td>\n      <td>0.073826</td>\n      <td>10.859724</td>\n      <td>0.801727</td>\n    </tr>\n    <tr>\n      <th>5747</th>\n      <td>R180</td>\n      <td>0.133454</td>\n      <td>5.499357</td>\n      <td>0.733912</td>\n    </tr>\n    <tr>\n      <th>3647</th>\n      <td>N602</td>\n      <td>0.018456</td>\n      <td>38.190678</td>\n      <td>0.704863</td>\n    </tr>\n    <tr>\n      <th>4804</th>\n      <td>R110</td>\n      <td>0.114998</td>\n      <td>4.204489</td>\n      <td>0.483507</td>\n    </tr>\n    <tr>\n      <th>7338</th>\n      <td>R546</td>\n      <td>0.076665</td>\n      <td>5.558983</td>\n      <td>0.426180</td>\n    </tr>\n  </tbody>\n</table>\n</div>"
     },
     "execution_count": 95,
     "metadata": {},
     "output_type": "execute_result"
    }
   ],
   "source": [
    "combined_results"
   ],
   "metadata": {
    "collapsed": false,
    "ExecuteTime": {
     "end_time": "2024-03-30T19:33:57.663529100Z",
     "start_time": "2024-03-30T19:33:57.575139600Z"
    }
   },
   "execution_count": 95
  },
  {
   "cell_type": "code",
   "outputs": [],
   "source": [],
   "metadata": {
    "collapsed": false,
    "ExecuteTime": {
     "start_time": "2024-03-30T09:42:39.086401500Z"
    }
   }
  },
  {
   "cell_type": "markdown",
   "source": [
    "<a style='text-decoration:none;line-height:16px;display:flex;color:#5B5B62;padding:10px;justify-content:end;' href='https://deepnote.com?utm_source=created-in-deepnote-cell&projectId=e6877dad-34b0-43ef-89c2-1c1ced1dd9b3' target=\"_blank\">\n",
    "<img alt='Created in deepnote.com' style='display:inline;max-height:16px;margin:0px;margin-right:7.5px;' src='data:image/svg+xml;base64,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' > </img>\n",
    "Created in <span style='font-weight:600;margin-left:4px;'>Deepnote</span></a>"
   ],
   "metadata": {
    "created_in_deepnote_cell": true,
    "deepnote_cell_type": "markdown"
   }
  }
 ],
 "nbformat": 4,
 "nbformat_minor": 0,
 "metadata": {
  "deepnote_persisted_session": {
   "createdAt": "2024-03-27T15:31:28.051Z"
  },
  "deepnote_notebook_id": "ec364b17d0b14b63871ece2b716a6ba8",
  "deepnote_execution_queue": [],
  "kernelspec": {
   "name": "python3",
   "language": "python",
   "display_name": "Python 3 (ipykernel)"
  }
 }
}
